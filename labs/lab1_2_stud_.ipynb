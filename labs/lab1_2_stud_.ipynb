{
 "cells": [
  {
   "cell_type": "code",
   "execution_count": 1,
   "metadata": {
    "ExecuteTime": {
     "end_time": "2021-10-02T07:25:45.092215Z",
     "start_time": "2021-10-02T07:25:45.088628Z"
    }
   },
   "outputs": [],
   "source": [
    "import torch\n",
    "import numpy as np\n",
    "import math"
   ]
  },
  {
   "cell_type": "markdown",
   "metadata": {},
   "source": [
    "Tensory w PyTorchu to specjalne struktury danych które przypominają tablice/macierze. Używamy ich do przechowywania wejśc/wyjść z sieci jak również wag modelu.\n",
    "Tensory przypominają swoją budową tablice numpy https://numpy.org/, z zasadniczą różnicą ktorą jest łatwa możliwość przechowywania i operowania na tensorach na kartach graficznych "
   ]
  },
  {
   "cell_type": "markdown",
   "metadata": {},
   "source": [
    "Tensory mogą być tworzone w różny sposób:\n",
    "1. Ze standardowych tablic"
   ]
  },
  {
   "cell_type": "code",
   "execution_count": 2,
   "metadata": {
    "ExecuteTime": {
     "end_time": "2021-10-02T07:30:36.852716Z",
     "start_time": "2021-10-02T07:30:36.836701Z"
    }
   },
   "outputs": [
    {
     "data": {
      "text/plain": [
       "tensor([[1, 2],\n",
       "        [3, 4]])"
      ]
     },
     "execution_count": 2,
     "metadata": {},
     "output_type": "execute_result"
    }
   ],
   "source": [
    "data = [[1, 2],[3, 4]]\n",
    "x_data = torch.tensor(data)\n",
    "x_data"
   ]
  },
  {
   "cell_type": "markdown",
   "metadata": {
    "ExecuteTime": {
     "end_time": "2021-10-02T07:40:32.096100Z",
     "start_time": "2021-10-02T07:40:32.090797Z"
    }
   },
   "source": [
    "2. Na podstawie tablic numpy"
   ]
  },
  {
   "cell_type": "code",
   "execution_count": 3,
   "metadata": {
    "ExecuteTime": {
     "end_time": "2021-10-02T07:30:58.706974Z",
     "start_time": "2021-10-02T07:30:58.700523Z"
    }
   },
   "outputs": [
    {
     "data": {
      "text/plain": [
       "tensor([[1, 2],\n",
       "        [3, 4]])"
      ]
     },
     "execution_count": 3,
     "metadata": {},
     "output_type": "execute_result"
    }
   ],
   "source": [
    "np_array = np.array(data)\n",
    "x_np = torch.from_numpy(np_array)\n",
    "x_np"
   ]
  },
  {
   "cell_type": "markdown",
   "metadata": {},
   "source": [
    "3. Na podstawie innych tensorów"
   ]
  },
  {
   "cell_type": "code",
   "execution_count": 4,
   "metadata": {
    "ExecuteTime": {
     "end_time": "2021-10-02T08:11:15.304729Z",
     "start_time": "2021-10-02T08:11:15.296087Z"
    },
    "scrolled": true
   },
   "outputs": [
    {
     "name": "stdout",
     "output_type": "stream",
     "text": [
      "Ones Tensor: \n",
      " tensor([[1, 1],\n",
      "        [1, 1]]) \n",
      "\n",
      "Random Tensor: \n",
      " tensor([[0.9014, 0.3506],\n",
      "        [0.7331, 0.3305]]) \n",
      "\n"
     ]
    }
   ],
   "source": [
    "x_ones = torch.ones_like(x_data) # retains the properties of x_data\n",
    "print(f\"Ones Tensor: \\n {x_ones} \\n\")\n",
    "\n",
    "x_rand = torch.rand_like(x_data, dtype=torch.float) # overrides the datatype of x_data\n",
    "print(f\"Random Tensor: \\n {x_rand} \\n\")"
   ]
  },
  {
   "cell_type": "markdown",
   "metadata": {},
   "source": [
    "4. Z losowymi lub stałymi wartościami"
   ]
  },
  {
   "cell_type": "code",
   "execution_count": 5,
   "metadata": {
    "ExecuteTime": {
     "end_time": "2021-10-02T08:12:18.091063Z",
     "start_time": "2021-10-02T08:12:18.081252Z"
    }
   },
   "outputs": [
    {
     "name": "stdout",
     "output_type": "stream",
     "text": [
      "Random Tensor: \n",
      " tensor([[0.1338, 0.1076, 0.4056],\n",
      "        [0.5157, 0.4611, 0.6771]]) \n",
      "\n",
      "Ones Tensor: \n",
      " tensor([[1., 1., 1.],\n",
      "        [1., 1., 1.]]) \n",
      "\n",
      "Zeros Tensor: \n",
      " tensor([[0., 0., 0.],\n",
      "        [0., 0., 0.]]) \n",
      "\n"
     ]
    }
   ],
   "source": [
    "shape = (2,3,)\n",
    "rand_tensor = torch.rand(shape)\n",
    "print(f\"Random Tensor: \\n {rand_tensor} \\n\")\n",
    "ones_tensor = torch.ones(shape)\n",
    "print(f\"Ones Tensor: \\n {ones_tensor} \\n\")\n",
    "zeros_tensor = torch.zeros(shape)\n",
    "print(f\"Zeros Tensor: \\n {zeros_tensor} \\n\")"
   ]
  },
  {
   "cell_type": "markdown",
   "metadata": {},
   "source": [
    "### Atrybuty tensorów"
   ]
  },
  {
   "cell_type": "code",
   "execution_count": 6,
   "metadata": {
    "ExecuteTime": {
     "end_time": "2021-10-02T08:13:37.099437Z",
     "start_time": "2021-10-02T08:13:37.093178Z"
    }
   },
   "outputs": [
    {
     "name": "stdout",
     "output_type": "stream",
     "text": [
      "Shape of tensor: torch.Size([3, 4])\n",
      "Datatype of tensor: torch.float32\n",
      "Device tensor is stored on: cpu\n"
     ]
    }
   ],
   "source": [
    "tensor = torch.rand(3,4)\n",
    "\n",
    "print(f\"Shape of tensor: {tensor.shape}\")\n",
    "print(f\"Datatype of tensor: {tensor.dtype}\")\n",
    "print(f\"Device tensor is stored on: {tensor.device}\")"
   ]
  },
  {
   "cell_type": "markdown",
   "metadata": {},
   "source": [
    "### Operacje na tensorach"
   ]
  },
  {
   "cell_type": "markdown",
   "metadata": {},
   "source": [
    "Nie ma co się bać dokumentacji! (Jest bardzo przyjemnie napisana) Wszystkie operacje na tensorach są opisane tutaj: https://pytorch.org/docs/stable/torch.html\n",
    "Standardowo operacje są uruchamiane na CPU, ale można przenosić tensory, całe modele i **wszystkie operacje** na GPU (co zazwyczaj jest szybsze) za pomocą prostej komendy. Przetestujemy to w kolejnych częściach laboratorium"
   ]
  },
  {
   "cell_type": "markdown",
   "metadata": {},
   "source": [
    "#### Standardowe indeksowanie i slicing"
   ]
  },
  {
   "cell_type": "code",
   "execution_count": 7,
   "metadata": {
    "ExecuteTime": {
     "end_time": "2021-10-02T10:11:36.753663Z",
     "start_time": "2021-10-02T10:11:36.741253Z"
    }
   },
   "outputs": [
    {
     "name": "stdout",
     "output_type": "stream",
     "text": [
      "First row:  tensor([1., 1., 1., 1.])\n",
      "First column:  tensor([1., 1., 1., 1.])\n",
      "Last column: tensor([1., 1., 1., 1.])\n",
      "tensor([[1., 0., 1., 1.],\n",
      "        [1., 0., 1., 1.],\n",
      "        [1., 0., 1., 1.],\n",
      "        [1., 0., 1., 1.]])\n"
     ]
    }
   ],
   "source": [
    "tensor = torch.ones(4, 4)\n",
    "print('First row: ', tensor[0])\n",
    "print('First column: ', tensor[:, 0])\n",
    "print('Last column:', tensor[:, -1])\n",
    "tensor[:,1] = 0\n",
    "print(tensor)"
   ]
  },
  {
   "cell_type": "markdown",
   "metadata": {},
   "source": [
    "#### Transponowanie tensorów"
   ]
  },
  {
   "cell_type": "code",
   "execution_count": 8,
   "metadata": {
    "ExecuteTime": {
     "end_time": "2021-10-02T11:38:58.853329Z",
     "start_time": "2021-10-02T11:38:58.848862Z"
    }
   },
   "outputs": [
    {
     "name": "stdout",
     "output_type": "stream",
     "text": [
      "tensor([[1., 0., 2.],\n",
      "        [1., 0., 2.],\n",
      "        [1., 0., 2.],\n",
      "        [1., 0., 2.]])\n",
      "Tensor shape:torch.Size([4, 3])\n",
      "\n",
      "tensor([[1., 1., 1., 1.],\n",
      "        [0., 0., 0., 0.],\n",
      "        [2., 2., 2., 2.]])\n",
      "Transposed tensor shape:torch.Size([3, 4])\n"
     ]
    }
   ],
   "source": [
    "tensor = torch.ones(4, 3)\n",
    "tensor[:,1] = 0\n",
    "tensor[:,2] = 2\n",
    "print(tensor)\n",
    "print(f\"Tensor shape:{tensor.shape}\\n\")\n",
    "tensor2 = tensor.T\n",
    "print(tensor2)\n",
    "print(f\"Transposed tensor shape:{tensor2.shape}\")"
   ]
  },
  {
   "cell_type": "markdown",
   "metadata": {},
   "source": [
    "#### Zmiana wymiarów"
   ]
  },
  {
   "cell_type": "code",
   "execution_count": 9,
   "metadata": {
    "ExecuteTime": {
     "end_time": "2021-10-02T11:06:31.339499Z",
     "start_time": "2021-10-02T11:06:31.325198Z"
    }
   },
   "outputs": [
    {
     "name": "stdout",
     "output_type": "stream",
     "text": [
      "tensor([1., 1., 1., 1., 1., 1., 1., 1., 1., 1.])\n",
      "Tensor shape:torch.Size([10])\n",
      "\n",
      "tensor([[1., 1., 1., 1., 1., 1., 1., 1., 1., 1.]])\n",
      "Tensor shape:torch.Size([1, 10])\n",
      "\n",
      "tensor([[1.],\n",
      "        [1.],\n",
      "        [1.],\n",
      "        [1.],\n",
      "        [1.],\n",
      "        [1.],\n",
      "        [1.],\n",
      "        [1.],\n",
      "        [1.],\n",
      "        [1.]])\n",
      "Tensor shape:torch.Size([10, 1])\n",
      "\n",
      "tensor([[1., 1.],\n",
      "        [1., 1.],\n",
      "        [1., 1.],\n",
      "        [1., 1.],\n",
      "        [1., 1.]])\n",
      "Tensor shape:torch.Size([5, 2])\n",
      "\n"
     ]
    }
   ],
   "source": [
    "tensor = torch.ones([10])\n",
    "print(tensor)\n",
    "print(f\"Tensor shape:{tensor.shape}\\n\")\n",
    "\n",
    "tensor2 = tensor.unsqueeze(dim=0)\n",
    "print(tensor2)\n",
    "print(f\"Tensor shape:{tensor2.shape}\\n\")\n",
    "\n",
    "tensor3 = tensor.unsqueeze(dim=1)\n",
    "print(tensor3)\n",
    "print(f\"Tensor shape:{tensor3.shape}\\n\")\n",
    "\n",
    "tensor4 = tensor.view(5,2)\n",
    "print(tensor4)\n",
    "print(f\"Tensor shape:{tensor4.shape}\\n\")"
   ]
  },
  {
   "cell_type": "markdown",
   "metadata": {},
   "source": [
    "#### Łączenie tensorów"
   ]
  },
  {
   "cell_type": "code",
   "execution_count": 10,
   "metadata": {
    "ExecuteTime": {
     "end_time": "2021-10-02T11:06:55.663650Z",
     "start_time": "2021-10-02T11:06:55.655639Z"
    }
   },
   "outputs": [
    {
     "name": "stdout",
     "output_type": "stream",
     "text": [
      "tensor([[1., 0., 1., 1., 1., 0., 1., 1., 1., 0., 1., 1.],\n",
      "        [1., 0., 1., 1., 1., 0., 1., 1., 1., 0., 1., 1.],\n",
      "        [1., 0., 1., 1., 1., 0., 1., 1., 1., 0., 1., 1.],\n",
      "        [1., 0., 1., 1., 1., 0., 1., 1., 1., 0., 1., 1.]])\n"
     ]
    }
   ],
   "source": [
    "tensor = torch.ones(4, 4)\n",
    "tensor[:,1] = 0\n",
    "t1 = torch.cat([tensor, tensor, tensor], dim=1)\n",
    "print(t1)"
   ]
  },
  {
   "cell_type": "code",
   "execution_count": 11,
   "metadata": {
    "ExecuteTime": {
     "end_time": "2021-10-02T11:06:55.947198Z",
     "start_time": "2021-10-02T11:06:55.940055Z"
    }
   },
   "outputs": [
    {
     "name": "stdout",
     "output_type": "stream",
     "text": [
      "tensor([[1., 0., 1., 1.],\n",
      "        [1., 0., 1., 1.],\n",
      "        [1., 0., 1., 1.],\n",
      "        [1., 0., 1., 1.],\n",
      "        [1., 0., 1., 1.],\n",
      "        [1., 0., 1., 1.],\n",
      "        [1., 0., 1., 1.],\n",
      "        [1., 0., 1., 1.],\n",
      "        [1., 0., 1., 1.],\n",
      "        [1., 0., 1., 1.],\n",
      "        [1., 0., 1., 1.],\n",
      "        [1., 0., 1., 1.]])\n"
     ]
    }
   ],
   "source": [
    "t1 = torch.cat([tensor, tensor, tensor], dim=0)\n",
    "print(t1)"
   ]
  },
  {
   "cell_type": "code",
   "execution_count": 12,
   "metadata": {
    "ExecuteTime": {
     "end_time": "2021-10-02T11:06:56.262340Z",
     "start_time": "2021-10-02T11:06:56.255271Z"
    }
   },
   "outputs": [
    {
     "name": "stdout",
     "output_type": "stream",
     "text": [
      "tensor([[[1., 0., 1., 1.],\n",
      "         [1., 0., 1., 1.],\n",
      "         [1., 0., 1., 1.],\n",
      "         [1., 0., 1., 1.]],\n",
      "\n",
      "        [[1., 0., 1., 1.],\n",
      "         [1., 0., 1., 1.],\n",
      "         [1., 0., 1., 1.],\n",
      "         [1., 0., 1., 1.]],\n",
      "\n",
      "        [[1., 0., 1., 1.],\n",
      "         [1., 0., 1., 1.],\n",
      "         [1., 0., 1., 1.],\n",
      "         [1., 0., 1., 1.]]])\n"
     ]
    }
   ],
   "source": [
    "t1 = torch.stack([tensor, tensor, tensor])\n",
    "print(t1)"
   ]
  },
  {
   "cell_type": "code",
   "execution_count": 13,
   "metadata": {
    "ExecuteTime": {
     "end_time": "2021-10-02T11:06:58.225374Z",
     "start_time": "2021-10-02T11:06:58.217586Z"
    }
   },
   "outputs": [
    {
     "name": "stdout",
     "output_type": "stream",
     "text": [
      "torch.Size([3, 4, 4])\n",
      "torch.Size([4, 3, 4])\n",
      "torch.Size([4, 4, 3])\n"
     ]
    }
   ],
   "source": [
    "t1 = torch.stack([tensor, tensor, tensor],dim=0)\n",
    "print(t1.shape)\n",
    "t1 = torch.stack([tensor, tensor, tensor],dim=1)\n",
    "print(t1.shape)\n",
    "t1 = torch.stack([tensor, tensor, tensor],dim=2)\n",
    "print(t1.shape)"
   ]
  },
  {
   "cell_type": "code",
   "execution_count": 14,
   "metadata": {
    "ExecuteTime": {
     "end_time": "2021-10-02T11:07:05.297235Z",
     "start_time": "2021-10-02T11:07:05.275962Z"
    }
   },
   "outputs": [
    {
     "ename": "IndexError",
     "evalue": "Dimension out of range (expected to be in range of [-3, 2], but got 3)",
     "output_type": "error",
     "traceback": [
      "\u001b[0;31m---------------------------------------------------------------------------\u001b[0m",
      "\u001b[0;31mIndexError\u001b[0m                                Traceback (most recent call last)",
      "Cell \u001b[0;32mIn [14], line 1\u001b[0m\n\u001b[0;32m----> 1\u001b[0m t1 \u001b[38;5;241m=\u001b[39m \u001b[43mtorch\u001b[49m\u001b[38;5;241;43m.\u001b[39;49m\u001b[43mstack\u001b[49m\u001b[43m(\u001b[49m\u001b[43m[\u001b[49m\u001b[43mtensor\u001b[49m\u001b[43m,\u001b[49m\u001b[43m \u001b[49m\u001b[43mtensor\u001b[49m\u001b[43m,\u001b[49m\u001b[43m \u001b[49m\u001b[43mtensor\u001b[49m\u001b[43m]\u001b[49m\u001b[43m,\u001b[49m\u001b[43mdim\u001b[49m\u001b[38;5;241;43m=\u001b[39;49m\u001b[38;5;241;43m3\u001b[39;49m\u001b[43m)\u001b[49m\n\u001b[1;32m      2\u001b[0m \u001b[38;5;28mprint\u001b[39m(t1\u001b[38;5;241m.\u001b[39mshape)\n",
      "\u001b[0;31mIndexError\u001b[0m: Dimension out of range (expected to be in range of [-3, 2], but got 3)"
     ]
    }
   ],
   "source": [
    "t1 = torch.stack([tensor, tensor, tensor],dim=3)\n",
    "print(t1.shape)"
   ]
  },
  {
   "cell_type": "markdown",
   "metadata": {},
   "source": [
    "#### Operacje arytmetyczne"
   ]
  },
  {
   "cell_type": "code",
   "execution_count": 15,
   "metadata": {
    "ExecuteTime": {
     "end_time": "2021-10-02T11:07:08.039606Z",
     "start_time": "2021-10-02T11:07:08.028588Z"
    }
   },
   "outputs": [
    {
     "name": "stdout",
     "output_type": "stream",
     "text": [
      "tensor([[1., 0., 1., 1.],\n",
      "        [1., 0., 1., 1.],\n",
      "        [1., 0., 1., 1.],\n",
      "        [1., 0., 1., 1.]])\n",
      "tensor([[3., 2., 3., 3.],\n",
      "        [3., 2., 3., 3.],\n",
      "        [3., 2., 3., 3.],\n",
      "        [3., 2., 3., 3.]])\n",
      "tensor([[5., 0., 5., 5.],\n",
      "        [5., 0., 5., 5.],\n",
      "        [5., 0., 5., 5.],\n",
      "        [5., 0., 5., 5.]])\n"
     ]
    }
   ],
   "source": [
    "print(tensor)\n",
    "print(tensor+2)\n",
    "print(tensor*5)"
   ]
  },
  {
   "cell_type": "markdown",
   "metadata": {},
   "source": [
    "#### Operacje na elementach"
   ]
  },
  {
   "cell_type": "code",
   "execution_count": 16,
   "metadata": {
    "ExecuteTime": {
     "end_time": "2021-10-02T11:07:10.391010Z",
     "start_time": "2021-10-02T11:07:10.383758Z"
    }
   },
   "outputs": [
    {
     "data": {
      "text/plain": [
       "tensor([[1., 0., 1., 1.],\n",
       "        [1., 0., 1., 1.],\n",
       "        [1., 0., 1., 1.],\n",
       "        [1., 0., 1., 1.]])"
      ]
     },
     "execution_count": 16,
     "metadata": {},
     "output_type": "execute_result"
    }
   ],
   "source": [
    "tensor * tensor"
   ]
  },
  {
   "cell_type": "code",
   "execution_count": 17,
   "metadata": {
    "ExecuteTime": {
     "end_time": "2021-10-02T11:07:11.465007Z",
     "start_time": "2021-10-02T11:07:11.458440Z"
    }
   },
   "outputs": [
    {
     "data": {
      "text/plain": [
       "tensor([[2., 0., 2., 2.],\n",
       "        [2., 0., 2., 2.],\n",
       "        [2., 0., 2., 2.],\n",
       "        [2., 0., 2., 2.]])"
      ]
     },
     "execution_count": 17,
     "metadata": {},
     "output_type": "execute_result"
    }
   ],
   "source": [
    "tensor + tensor"
   ]
  },
  {
   "cell_type": "code",
   "execution_count": 18,
   "metadata": {
    "ExecuteTime": {
     "end_time": "2021-10-02T11:09:15.603003Z",
     "start_time": "2021-10-02T11:09:15.595494Z"
    }
   },
   "outputs": [
    {
     "name": "stdout",
     "output_type": "stream",
     "text": [
      "tensor([[9.7201, 4.1451, 6.8761, 8.1030],\n",
      "        [8.3597, 5.6488, 9.6934, 8.0002],\n",
      "        [3.4246, 1.6010, 2.0113, 5.1263],\n",
      "        [4.8797, 9.5474, 6.7540, 5.0810]])\n",
      "tensor([[9.7201,    inf, 6.8761, 8.1030],\n",
      "        [8.3597,    inf, 9.6934, 8.0002],\n",
      "        [3.4246,    inf, 2.0113, 5.1263],\n",
      "        [4.8797,    inf, 6.7540, 5.0810]])\n"
     ]
    }
   ],
   "source": [
    "rand_tensor = torch.rand(4,4)*10\n",
    "print(rand_tensor)\n",
    "print(rand_tensor / tensor)"
   ]
  },
  {
   "cell_type": "code",
   "execution_count": 19,
   "metadata": {
    "ExecuteTime": {
     "end_time": "2021-10-02T11:09:23.306890Z",
     "start_time": "2021-10-02T11:09:23.299942Z"
    }
   },
   "outputs": [
    {
     "name": "stdout",
     "output_type": "stream",
     "text": [
      "tensor([[3., inf, 4., 3.],\n",
      "        [9., inf, 6., 1.],\n",
      "        [2., inf, 0., 0.],\n",
      "        [2., inf, 3., 0.]])\n",
      "torch.FloatTensor\n"
     ]
    }
   ],
   "source": [
    "rand_tensor = torch.rand(4,4)*10\n",
    "print(rand_tensor // tensor)\n",
    "print((tensor / tensor).type())"
   ]
  },
  {
   "cell_type": "markdown",
   "metadata": {},
   "source": [
    "### Mini zadanie na plusa, mozna wysłać po zajęciach"
   ]
  },
  {
   "cell_type": "markdown",
   "metadata": {},
   "source": [
    "Stwórz macierz dwuwymiarową której wartości będą kolejnymi numerami od 1 do zadanej liczby x. Nie uzywaj pętli."
   ]
  },
  {
   "cell_type": "markdown",
   "metadata": {},
   "source": [
    "Hint: https://pytorch.org/docs/stable/torch.html"
   ]
  },
  {
   "cell_type": "code",
   "execution_count": 110,
   "metadata": {},
   "outputs": [
    {
     "name": "stdout",
     "output_type": "stream",
     "text": [
      "tensor([[ 1,  2,  3,  4],\n",
      "        [ 5,  6,  7,  8],\n",
      "        [ 9, 10, 11, 12],\n",
      "        [13, 14, 15, 16]])\n"
     ]
    }
   ],
   "source": [
    "x = 16\n",
    "\n",
    "if not math.sqrt(x).is_integer():\n",
    "    rows = int(math.sqrt(x))\n",
    "    cols = int(x / rows) + 1\n",
    "\n",
    "    tensor = torch.arange(1, rows*cols+1).reshape(rows, cols)\n",
    "    tensor[tensor > x] = 0\n",
    "else:\n",
    "    tensor = torch.arange(1, x+1).reshape((int(math.sqrt(x)), int(math.sqrt(x))))\n",
    "\n",
    "print(tensor)"
   ]
  },
  {
   "cell_type": "markdown",
   "metadata": {},
   "source": [
    "### Operacje macierzowe"
   ]
  },
  {
   "cell_type": "code",
   "execution_count": 22,
   "metadata": {
    "ExecuteTime": {
     "end_time": "2021-10-02T11:22:39.848027Z",
     "start_time": "2021-10-02T11:22:39.839687Z"
    }
   },
   "outputs": [
    {
     "name": "stdout",
     "output_type": "stream",
     "text": [
      "tensor([[1., 1., 1.],\n",
      "        [0., 0., 0.],\n",
      "        [1., 1., 1.],\n",
      "        [1., 1., 1.]])\n",
      "tensor([[1., 0., 1., 1.],\n",
      "        [1., 0., 1., 1.],\n",
      "        [1., 0., 1., 1.]])\n"
     ]
    }
   ],
   "source": [
    "tensor = torch.ones(4, 3)\n",
    "tensor[1,:] = 0\n",
    "print(tensor)\n",
    "print(tensor.T)"
   ]
  },
  {
   "cell_type": "code",
   "execution_count": 23,
   "metadata": {
    "ExecuteTime": {
     "end_time": "2021-10-02T11:23:26.828757Z",
     "start_time": "2021-10-02T11:23:26.820257Z"
    }
   },
   "outputs": [
    {
     "name": "stdout",
     "output_type": "stream",
     "text": [
      "tensor([[3., 0., 3., 3.],\n",
      "        [0., 0., 0., 0.],\n",
      "        [3., 0., 3., 3.],\n",
      "        [3., 0., 3., 3.]]) \n",
      "\n",
      "tensor([[3., 0., 3., 3.],\n",
      "        [0., 0., 0., 0.],\n",
      "        [3., 0., 3., 3.],\n",
      "        [3., 0., 3., 3.]])\n"
     ]
    }
   ],
   "source": [
    "y1 = tensor.matmul(tensor.T)\n",
    "print(y1,\"\\n\")\n",
    "y2 = tensor @ tensor.T\n",
    "print(y2)"
   ]
  },
  {
   "cell_type": "markdown",
   "metadata": {},
   "source": [
    "### Zaawansowany przykład - regresja"
   ]
  },
  {
   "cell_type": "markdown",
   "metadata": {},
   "source": [
    "Dla wszystkich którzy potrzebują powtórki z matmy: https://mml-book.github.io/"
   ]
  },
  {
   "cell_type": "code",
   "execution_count": 24,
   "metadata": {
    "ExecuteTime": {
     "end_time": "2021-10-02T11:42:22.367139Z",
     "start_time": "2021-10-02T11:42:22.362204Z"
    }
   },
   "outputs": [],
   "source": [
    "apples_kg_ordered = [2,4,7,3,13]\n",
    "plums_kg_ordered = [3,8,9,1,1]\n",
    "prices = [11.97 , 28.05, 38.98, 10.96, 41.1]"
   ]
  },
  {
   "cell_type": "code",
   "execution_count": 25,
   "metadata": {
    "ExecuteTime": {
     "end_time": "2021-10-02T11:42:22.582160Z",
     "start_time": "2021-10-02T11:42:22.575577Z"
    }
   },
   "outputs": [
    {
     "name": "stdout",
     "output_type": "stream",
     "text": [
      "tensor([[ 2,  4,  7,  3, 13],\n",
      "        [ 3,  8,  9,  1,  1]])\n",
      "tensor([11.9700, 28.0500, 38.9800, 10.9600, 41.1000])\n"
     ]
    }
   ],
   "source": [
    "X = torch.tensor([apples_kg_ordered,plums_kg_ordered])\n",
    "Y = torch.tensor(prices)\n",
    "print(X)\n",
    "print(Y)"
   ]
  },
  {
   "cell_type": "code",
   "execution_count": 26,
   "metadata": {
    "ExecuteTime": {
     "end_time": "2021-10-02T11:42:23.058857Z",
     "start_time": "2021-10-02T11:42:23.051771Z"
    }
   },
   "outputs": [
    {
     "name": "stderr",
     "output_type": "stream",
     "text": [
      "/tmp/ipykernel_750/2705259845.py:2: UserWarning: The use of `x.T` on tensors of dimension other than 2 to reverse their shape is deprecated and it will throw an error in a future release. Consider `x.mT` to transpose batches of matrices or `x.permute(*torch.arange(x.ndim - 1, -1, -1))` to reverse the dimensions of a tensor. (Triggered internally at ../aten/src/ATen/native/TensorShape.cpp:3614.)\n",
      "  Y = Y.T\n"
     ]
    },
    {
     "data": {
      "text/plain": [
       "tensor([[ 2.,  3.],\n",
       "        [ 4.,  8.],\n",
       "        [ 7.,  9.],\n",
       "        [ 3.,  1.],\n",
       "        [13.,  1.]])"
      ]
     },
     "execution_count": 26,
     "metadata": {},
     "output_type": "execute_result"
    }
   ],
   "source": [
    "X = X.T.float()\n",
    "Y = Y.T\n",
    "X"
   ]
  },
  {
   "cell_type": "code",
   "execution_count": 27,
   "metadata": {
    "ExecuteTime": {
     "end_time": "2021-10-02T11:42:23.549644Z",
     "start_time": "2021-10-02T11:42:23.542906Z"
    }
   },
   "outputs": [
    {
     "data": {
      "text/plain": [
       "tensor([3.0065, 1.9963])"
      ]
     },
     "execution_count": 27,
     "metadata": {},
     "output_type": "execute_result"
    }
   ],
   "source": [
    "theta = torch.inverse((X.T@X))@X.T@Y\n",
    "theta "
   ]
  },
  {
   "cell_type": "code",
   "execution_count": 28,
   "metadata": {
    "ExecuteTime": {
     "end_time": "2021-10-02T12:25:15.608327Z",
     "start_time": "2021-10-02T12:25:15.601069Z"
    }
   },
   "outputs": [
    {
     "data": {
      "text/plain": [
       "tensor([12.0020, 27.9967, 39.0126, 11.0159, 41.0810])"
      ]
     },
     "execution_count": 28,
     "metadata": {},
     "output_type": "execute_result"
    }
   ],
   "source": [
    "X @ theta"
   ]
  },
  {
   "cell_type": "markdown",
   "metadata": {},
   "source": [
    "# Automatyczne obliczanie gradientu"
   ]
  },
  {
   "cell_type": "markdown",
   "metadata": {},
   "source": [
    "Do automatycznego obliczania gradientu służy wbudowany pakiet torch.autograd, który umożliwia automatyczne obliczanie gradientu dla dowolnego grafu (ciągu obliczeń)"
   ]
  },
  {
   "cell_type": "code",
   "execution_count": 29,
   "metadata": {
    "ExecuteTime": {
     "end_time": "2021-10-02T13:15:42.589602Z",
     "start_time": "2021-10-02T13:15:42.583170Z"
    }
   },
   "outputs": [
    {
     "name": "stdout",
     "output_type": "stream",
     "text": [
      "tensor([1., 1., 1., 1., 1.], requires_grad=True)\n"
     ]
    }
   ],
   "source": [
    "x = torch.ones(5, requires_grad=True)\n",
    "print(x)"
   ]
  },
  {
   "cell_type": "code",
   "execution_count": 30,
   "metadata": {
    "ExecuteTime": {
     "end_time": "2021-10-02T13:15:42.779981Z",
     "start_time": "2021-10-02T13:15:42.773731Z"
    }
   },
   "outputs": [
    {
     "data": {
      "text/plain": [
       "tensor([3., 3., 3., 3., 3.], grad_fn=<AddBackward0>)"
      ]
     },
     "execution_count": 30,
     "metadata": {},
     "output_type": "execute_result"
    }
   ],
   "source": [
    "y = x + 2\n",
    "y"
   ]
  },
  {
   "cell_type": "code",
   "execution_count": 31,
   "metadata": {
    "ExecuteTime": {
     "end_time": "2021-10-02T13:15:42.928339Z",
     "start_time": "2021-10-02T13:15:42.922368Z"
    }
   },
   "outputs": [
    {
     "data": {
      "text/plain": [
       "tensor([2., 2., 2., 2., 2.], grad_fn=<MulBackward0>)"
      ]
     },
     "execution_count": 31,
     "metadata": {},
     "output_type": "execute_result"
    }
   ],
   "source": [
    "y = x * 2\n",
    "y"
   ]
  },
  {
   "cell_type": "code",
   "execution_count": 32,
   "metadata": {
    "ExecuteTime": {
     "end_time": "2021-10-02T13:15:43.079314Z",
     "start_time": "2021-10-02T13:15:43.073324Z"
    }
   },
   "outputs": [
    {
     "data": {
      "text/plain": [
       "tensor(5., grad_fn=<DotBackward0>)"
      ]
     },
     "execution_count": 32,
     "metadata": {},
     "output_type": "execute_result"
    }
   ],
   "source": [
    "y = x @ x.T\n",
    "y"
   ]
  },
  {
   "cell_type": "code",
   "execution_count": 33,
   "metadata": {
    "ExecuteTime": {
     "end_time": "2021-10-02T13:15:43.270396Z",
     "start_time": "2021-10-02T13:15:43.264090Z"
    }
   },
   "outputs": [
    {
     "data": {
      "text/plain": [
       "tensor([-1., -1., -1., -1., -1.], grad_fn=<SubBackward0>)"
      ]
     },
     "execution_count": 33,
     "metadata": {},
     "output_type": "execute_result"
    }
   ],
   "source": [
    "y = x - 2\n",
    "y"
   ]
  },
  {
   "cell_type": "code",
   "execution_count": 34,
   "metadata": {
    "ExecuteTime": {
     "end_time": "2021-10-02T13:15:43.421894Z",
     "start_time": "2021-10-02T13:15:43.416391Z"
    }
   },
   "outputs": [
    {
     "data": {
      "text/plain": [
       "<AccumulateGrad at 0x7fbadb66c0d0>"
      ]
     },
     "execution_count": 34,
     "metadata": {},
     "output_type": "execute_result"
    }
   ],
   "source": [
    "y.grad_fn.next_functions[0][0]"
   ]
  },
  {
   "cell_type": "code",
   "execution_count": 35,
   "metadata": {
    "ExecuteTime": {
     "end_time": "2021-10-02T13:15:43.623103Z",
     "start_time": "2021-10-02T13:15:43.616830Z"
    }
   },
   "outputs": [
    {
     "data": {
      "text/plain": [
       "tensor([1., 1., 1., 1., 1.], requires_grad=True)"
      ]
     },
     "execution_count": 35,
     "metadata": {},
     "output_type": "execute_result"
    }
   ],
   "source": [
    "y.grad_fn.next_functions[0][0].variable"
   ]
  },
  {
   "cell_type": "code",
   "execution_count": 36,
   "metadata": {
    "ExecuteTime": {
     "end_time": "2021-10-02T13:15:44.088406Z",
     "start_time": "2021-10-02T13:15:44.084868Z"
    }
   },
   "outputs": [],
   "source": [
    "z = y * y * 3"
   ]
  },
  {
   "cell_type": "code",
   "execution_count": 37,
   "metadata": {
    "ExecuteTime": {
     "end_time": "2021-10-02T13:16:05.865798Z",
     "start_time": "2021-10-02T13:16:05.858953Z"
    }
   },
   "outputs": [
    {
     "name": "stdout",
     "output_type": "stream",
     "text": [
      "tensor([3., 3., 3., 3., 3.], grad_fn=<MulBackward0>)\n",
      "tensor(3., grad_fn=<MeanBackward0>)\n"
     ]
    }
   ],
   "source": [
    "a = z.mean()\n",
    "print(z)\n",
    "print(a)"
   ]
  },
  {
   "cell_type": "code",
   "execution_count": 38,
   "metadata": {
    "ExecuteTime": {
     "end_time": "2021-10-02T13:12:07.051788Z",
     "start_time": "2021-10-02T13:12:07.048144Z"
    }
   },
   "outputs": [],
   "source": [
    "from torchviz import make_dot"
   ]
  },
  {
   "cell_type": "code",
   "execution_count": 39,
   "metadata": {
    "ExecuteTime": {
     "end_time": "2021-10-02T12:59:48.389456Z",
     "start_time": "2021-10-02T12:59:48.330787Z"
    }
   },
   "outputs": [
    {
     "data": {
      "image/svg+xml": [
       "<?xml version=\"1.0\" encoding=\"UTF-8\" standalone=\"no\"?>\n",
       "<!DOCTYPE svg PUBLIC \"-//W3C//DTD SVG 1.1//EN\"\n",
       " \"http://www.w3.org/Graphics/SVG/1.1/DTD/svg11.dtd\">\n",
       "<!-- Generated by graphviz version 2.43.0 (0)\n",
       " -->\n",
       "<!-- Title: %3 Pages: 1 -->\n",
       "<svg width=\"109pt\" height=\"381pt\"\n",
       " viewBox=\"0.00 0.00 109.00 381.00\" xmlns=\"http://www.w3.org/2000/svg\" xmlns:xlink=\"http://www.w3.org/1999/xlink\">\n",
       "<g id=\"graph0\" class=\"graph\" transform=\"scale(1 1) rotate(0) translate(4 377)\">\n",
       "<title>%3</title>\n",
       "<polygon fill=\"white\" stroke=\"transparent\" points=\"-4,4 -4,-377 105,-377 105,4 -4,4\"/>\n",
       "<!-- 140440513821568 -->\n",
       "<g id=\"node1\" class=\"node\">\n",
       "<title>140440513821568</title>\n",
       "<polygon fill=\"#caff70\" stroke=\"black\" points=\"77.5,-31 23.5,-31 23.5,0 77.5,0 77.5,-31\"/>\n",
       "<text text-anchor=\"middle\" x=\"50.5\" y=\"-7\" font-family=\"monospace\" font-size=\"10.00\"> ()</text>\n",
       "</g>\n",
       "<!-- 140440513336608 -->\n",
       "<g id=\"node2\" class=\"node\">\n",
       "<title>140440513336608</title>\n",
       "<polygon fill=\"lightgrey\" stroke=\"black\" points=\"98,-86 3,-86 3,-67 98,-67 98,-86\"/>\n",
       "<text text-anchor=\"middle\" x=\"50.5\" y=\"-74\" font-family=\"monospace\" font-size=\"10.00\">MeanBackward0</text>\n",
       "</g>\n",
       "<!-- 140440513336608&#45;&gt;140440513821568 -->\n",
       "<g id=\"edge7\" class=\"edge\">\n",
       "<title>140440513336608&#45;&gt;140440513821568</title>\n",
       "<path fill=\"none\" stroke=\"black\" d=\"M50.5,-66.79C50.5,-60.07 50.5,-50.4 50.5,-41.34\"/>\n",
       "<polygon fill=\"black\" stroke=\"black\" points=\"54,-41.19 50.5,-31.19 47,-41.19 54,-41.19\"/>\n",
       "</g>\n",
       "<!-- 140440513336704 -->\n",
       "<g id=\"node3\" class=\"node\">\n",
       "<title>140440513336704</title>\n",
       "<polygon fill=\"lightgrey\" stroke=\"black\" points=\"95,-141 6,-141 6,-122 95,-122 95,-141\"/>\n",
       "<text text-anchor=\"middle\" x=\"50.5\" y=\"-129\" font-family=\"monospace\" font-size=\"10.00\">MulBackward0</text>\n",
       "</g>\n",
       "<!-- 140440513336704&#45;&gt;140440513336608 -->\n",
       "<g id=\"edge1\" class=\"edge\">\n",
       "<title>140440513336704&#45;&gt;140440513336608</title>\n",
       "<path fill=\"none\" stroke=\"black\" d=\"M50.5,-121.75C50.5,-114.8 50.5,-104.85 50.5,-96.13\"/>\n",
       "<polygon fill=\"black\" stroke=\"black\" points=\"54,-96.09 50.5,-86.09 47,-96.09 54,-96.09\"/>\n",
       "</g>\n",
       "<!-- 140440513336512 -->\n",
       "<g id=\"node4\" class=\"node\">\n",
       "<title>140440513336512</title>\n",
       "<polygon fill=\"lightgrey\" stroke=\"black\" points=\"95,-196 6,-196 6,-177 95,-177 95,-196\"/>\n",
       "<text text-anchor=\"middle\" x=\"50.5\" y=\"-184\" font-family=\"monospace\" font-size=\"10.00\">MulBackward0</text>\n",
       "</g>\n",
       "<!-- 140440513336512&#45;&gt;140440513336704 -->\n",
       "<g id=\"edge2\" class=\"edge\">\n",
       "<title>140440513336512&#45;&gt;140440513336704</title>\n",
       "<path fill=\"none\" stroke=\"black\" d=\"M50.5,-176.75C50.5,-169.8 50.5,-159.85 50.5,-151.13\"/>\n",
       "<polygon fill=\"black\" stroke=\"black\" points=\"54,-151.09 50.5,-141.09 47,-151.09 54,-151.09\"/>\n",
       "</g>\n",
       "<!-- 140440513336752 -->\n",
       "<g id=\"node5\" class=\"node\">\n",
       "<title>140440513336752</title>\n",
       "<polygon fill=\"lightgrey\" stroke=\"black\" points=\"95,-251 6,-251 6,-232 95,-232 95,-251\"/>\n",
       "<text text-anchor=\"middle\" x=\"50.5\" y=\"-239\" font-family=\"monospace\" font-size=\"10.00\">SubBackward0</text>\n",
       "</g>\n",
       "<!-- 140440513336752&#45;&gt;140440513336512 -->\n",
       "<g id=\"edge3\" class=\"edge\">\n",
       "<title>140440513336752&#45;&gt;140440513336512</title>\n",
       "<path fill=\"none\" stroke=\"black\" d=\"M45.33,-231.75C43.84,-224.8 43.4,-214.85 44.02,-206.13\"/>\n",
       "<polygon fill=\"black\" stroke=\"black\" points=\"47.51,-206.47 45.37,-196.09 40.57,-205.53 47.51,-206.47\"/>\n",
       "</g>\n",
       "<!-- 140440513336752&#45;&gt;140440513336512 -->\n",
       "<g id=\"edge6\" class=\"edge\">\n",
       "<title>140440513336752&#45;&gt;140440513336512</title>\n",
       "<path fill=\"none\" stroke=\"black\" d=\"M55.67,-231.75C57.16,-224.8 57.6,-214.85 56.98,-206.13\"/>\n",
       "<polygon fill=\"black\" stroke=\"black\" points=\"60.43,-205.53 55.63,-196.09 53.49,-206.47 60.43,-205.53\"/>\n",
       "</g>\n",
       "<!-- 140440521588944 -->\n",
       "<g id=\"node6\" class=\"node\">\n",
       "<title>140440521588944</title>\n",
       "<polygon fill=\"lightgrey\" stroke=\"black\" points=\"101,-306 0,-306 0,-287 101,-287 101,-306\"/>\n",
       "<text text-anchor=\"middle\" x=\"50.5\" y=\"-294\" font-family=\"monospace\" font-size=\"10.00\">AccumulateGrad</text>\n",
       "</g>\n",
       "<!-- 140440521588944&#45;&gt;140440513336752 -->\n",
       "<g id=\"edge4\" class=\"edge\">\n",
       "<title>140440521588944&#45;&gt;140440513336752</title>\n",
       "<path fill=\"none\" stroke=\"black\" d=\"M50.5,-286.75C50.5,-279.8 50.5,-269.85 50.5,-261.13\"/>\n",
       "<polygon fill=\"black\" stroke=\"black\" points=\"54,-261.09 50.5,-251.09 47,-261.09 54,-261.09\"/>\n",
       "</g>\n",
       "<!-- 140440513583920 -->\n",
       "<g id=\"node7\" class=\"node\">\n",
       "<title>140440513583920</title>\n",
       "<polygon fill=\"lightblue\" stroke=\"black\" points=\"77.5,-373 23.5,-373 23.5,-342 77.5,-342 77.5,-373\"/>\n",
       "<text text-anchor=\"middle\" x=\"50.5\" y=\"-349\" font-family=\"monospace\" font-size=\"10.00\"> (5)</text>\n",
       "</g>\n",
       "<!-- 140440513583920&#45;&gt;140440521588944 -->\n",
       "<g id=\"edge5\" class=\"edge\">\n",
       "<title>140440513583920&#45;&gt;140440521588944</title>\n",
       "<path fill=\"none\" stroke=\"black\" d=\"M50.5,-341.92C50.5,-334.22 50.5,-324.69 50.5,-316.43\"/>\n",
       "<polygon fill=\"black\" stroke=\"black\" points=\"54,-316.25 50.5,-306.25 47,-316.25 54,-316.25\"/>\n",
       "</g>\n",
       "</g>\n",
       "</svg>\n"
      ],
      "text/plain": [
       "<graphviz.graphs.Digraph at 0x7fbadae8d490>"
      ]
     },
     "execution_count": 39,
     "metadata": {},
     "output_type": "execute_result"
    }
   ],
   "source": [
    "make_dot(a)"
   ]
  },
  {
   "cell_type": "markdown",
   "metadata": {},
   "source": [
    "### Gradienty"
   ]
  },
  {
   "cell_type": "code",
   "execution_count": 40,
   "metadata": {
    "ExecuteTime": {
     "end_time": "2021-10-02T14:35:46.508194Z",
     "start_time": "2021-10-02T14:35:46.498330Z"
    }
   },
   "outputs": [
    {
     "name": "stdout",
     "output_type": "stream",
     "text": [
      "tensor([1.], requires_grad=True)\n"
     ]
    },
    {
     "data": {
      "text/plain": [
       "tensor([125.], grad_fn=<PowBackward0>)"
      ]
     },
     "execution_count": 40,
     "metadata": {},
     "output_type": "execute_result"
    }
   ],
   "source": [
    "x = torch.ones(1, requires_grad=True)\n",
    "print(x)\n",
    "y = (x+4)**3\n",
    "y"
   ]
  },
  {
   "cell_type": "code",
   "execution_count": 41,
   "metadata": {
    "ExecuteTime": {
     "end_time": "2021-10-02T14:33:10.240622Z",
     "start_time": "2021-10-02T14:33:10.200061Z"
    }
   },
   "outputs": [
    {
     "data": {
      "image/svg+xml": [
       "<?xml version=\"1.0\" encoding=\"UTF-8\" standalone=\"no\"?>\n",
       "<!DOCTYPE svg PUBLIC \"-//W3C//DTD SVG 1.1//EN\"\n",
       " \"http://www.w3.org/Graphics/SVG/1.1/DTD/svg11.dtd\">\n",
       "<!-- Generated by graphviz version 2.43.0 (0)\n",
       " -->\n",
       "<!-- Title: %3 Pages: 1 -->\n",
       "<svg width=\"109pt\" height=\"271pt\"\n",
       " viewBox=\"0.00 0.00 109.00 271.00\" xmlns=\"http://www.w3.org/2000/svg\" xmlns:xlink=\"http://www.w3.org/1999/xlink\">\n",
       "<g id=\"graph0\" class=\"graph\" transform=\"scale(1 1) rotate(0) translate(4 267)\">\n",
       "<title>%3</title>\n",
       "<polygon fill=\"white\" stroke=\"transparent\" points=\"-4,4 -4,-267 105,-267 105,4 -4,4\"/>\n",
       "<!-- 140440513581200 -->\n",
       "<g id=\"node1\" class=\"node\">\n",
       "<title>140440513581200</title>\n",
       "<polygon fill=\"#caff70\" stroke=\"black\" points=\"77.5,-31 23.5,-31 23.5,0 77.5,0 77.5,-31\"/>\n",
       "<text text-anchor=\"middle\" x=\"50.5\" y=\"-7\" font-family=\"monospace\" font-size=\"10.00\"> (1)</text>\n",
       "</g>\n",
       "<!-- 140440513336608 -->\n",
       "<g id=\"node2\" class=\"node\">\n",
       "<title>140440513336608</title>\n",
       "<polygon fill=\"lightgrey\" stroke=\"black\" points=\"95,-86 6,-86 6,-67 95,-67 95,-86\"/>\n",
       "<text text-anchor=\"middle\" x=\"50.5\" y=\"-74\" font-family=\"monospace\" font-size=\"10.00\">PowBackward0</text>\n",
       "</g>\n",
       "<!-- 140440513336608&#45;&gt;140440513581200 -->\n",
       "<g id=\"edge4\" class=\"edge\">\n",
       "<title>140440513336608&#45;&gt;140440513581200</title>\n",
       "<path fill=\"none\" stroke=\"black\" d=\"M50.5,-66.79C50.5,-60.07 50.5,-50.4 50.5,-41.34\"/>\n",
       "<polygon fill=\"black\" stroke=\"black\" points=\"54,-41.19 50.5,-31.19 47,-41.19 54,-41.19\"/>\n",
       "</g>\n",
       "<!-- 140440513336704 -->\n",
       "<g id=\"node3\" class=\"node\">\n",
       "<title>140440513336704</title>\n",
       "<polygon fill=\"lightgrey\" stroke=\"black\" points=\"95,-141 6,-141 6,-122 95,-122 95,-141\"/>\n",
       "<text text-anchor=\"middle\" x=\"50.5\" y=\"-129\" font-family=\"monospace\" font-size=\"10.00\">AddBackward0</text>\n",
       "</g>\n",
       "<!-- 140440513336704&#45;&gt;140440513336608 -->\n",
       "<g id=\"edge1\" class=\"edge\">\n",
       "<title>140440513336704&#45;&gt;140440513336608</title>\n",
       "<path fill=\"none\" stroke=\"black\" d=\"M50.5,-121.75C50.5,-114.8 50.5,-104.85 50.5,-96.13\"/>\n",
       "<polygon fill=\"black\" stroke=\"black\" points=\"54,-96.09 50.5,-86.09 47,-96.09 54,-96.09\"/>\n",
       "</g>\n",
       "<!-- 140440513336224 -->\n",
       "<g id=\"node4\" class=\"node\">\n",
       "<title>140440513336224</title>\n",
       "<polygon fill=\"lightgrey\" stroke=\"black\" points=\"101,-196 0,-196 0,-177 101,-177 101,-196\"/>\n",
       "<text text-anchor=\"middle\" x=\"50.5\" y=\"-184\" font-family=\"monospace\" font-size=\"10.00\">AccumulateGrad</text>\n",
       "</g>\n",
       "<!-- 140440513336224&#45;&gt;140440513336704 -->\n",
       "<g id=\"edge2\" class=\"edge\">\n",
       "<title>140440513336224&#45;&gt;140440513336704</title>\n",
       "<path fill=\"none\" stroke=\"black\" d=\"M50.5,-176.75C50.5,-169.8 50.5,-159.85 50.5,-151.13\"/>\n",
       "<polygon fill=\"black\" stroke=\"black\" points=\"54,-151.09 50.5,-141.09 47,-151.09 54,-151.09\"/>\n",
       "</g>\n",
       "<!-- 140440513511488 -->\n",
       "<g id=\"node5\" class=\"node\">\n",
       "<title>140440513511488</title>\n",
       "<polygon fill=\"lightblue\" stroke=\"black\" points=\"77.5,-263 23.5,-263 23.5,-232 77.5,-232 77.5,-263\"/>\n",
       "<text text-anchor=\"middle\" x=\"50.5\" y=\"-239\" font-family=\"monospace\" font-size=\"10.00\"> (1)</text>\n",
       "</g>\n",
       "<!-- 140440513511488&#45;&gt;140440513336224 -->\n",
       "<g id=\"edge3\" class=\"edge\">\n",
       "<title>140440513511488&#45;&gt;140440513336224</title>\n",
       "<path fill=\"none\" stroke=\"black\" d=\"M50.5,-231.92C50.5,-224.22 50.5,-214.69 50.5,-206.43\"/>\n",
       "<polygon fill=\"black\" stroke=\"black\" points=\"54,-206.25 50.5,-196.25 47,-206.25 54,-206.25\"/>\n",
       "</g>\n",
       "</g>\n",
       "</svg>\n"
      ],
      "text/plain": [
       "<graphviz.graphs.Digraph at 0x7fbadae8d280>"
      ]
     },
     "execution_count": 41,
     "metadata": {},
     "output_type": "execute_result"
    }
   ],
   "source": [
    "make_dot(y)"
   ]
  },
  {
   "cell_type": "code",
   "execution_count": 42,
   "metadata": {
    "ExecuteTime": {
     "end_time": "2021-10-02T14:35:47.650878Z",
     "start_time": "2021-10-02T14:35:47.644582Z"
    },
    "scrolled": true
   },
   "outputs": [
    {
     "data": {
      "text/plain": [
       "tensor([75.])"
      ]
     },
     "execution_count": 42,
     "metadata": {},
     "output_type": "execute_result"
    }
   ],
   "source": [
    "y.backward()\n",
    "x.grad"
   ]
  },
  {
   "cell_type": "markdown",
   "metadata": {},
   "source": [
    "#### Obliczenia z pominięciem gradientów"
   ]
  },
  {
   "cell_type": "code",
   "execution_count": 43,
   "metadata": {
    "ExecuteTime": {
     "end_time": "2021-10-03T07:14:11.090002Z",
     "start_time": "2021-10-03T07:14:11.080853Z"
    }
   },
   "outputs": [
    {
     "name": "stdout",
     "output_type": "stream",
     "text": [
      "tensor([[0.6248, 1.0149, 0.4555],\n",
      "        [0.2309, 0.5038, 0.4224],\n",
      "        [0.1877, 0.7439, 0.7764]])\n",
      "tensor([[0.6248, 1.0149, 0.4555],\n",
      "        [0.2309, 0.5038, 0.4224],\n",
      "        [0.1877, 0.7439, 0.7764]], grad_fn=<MmBackward0>)\n"
     ]
    }
   ],
   "source": [
    "t1 = torch.rand(3,4, requires_grad=True)\n",
    "t2 = torch.rand(4,3, requires_grad=True)\n",
    "with torch.no_grad():\n",
    "    y = t1@t2\n",
    "print(y)\n",
    "print(t1@t2)"
   ]
  },
  {
   "cell_type": "markdown",
   "metadata": {},
   "source": [
    "#### Funkcja backward pozwala nam policzyć pochodną cząstkową w punkcie dla wszystkich źródeł (liści w grafie obliczeń)"
   ]
  },
  {
   "cell_type": "code",
   "execution_count": 44,
   "metadata": {
    "ExecuteTime": {
     "end_time": "2021-10-02T14:43:04.847863Z",
     "start_time": "2021-10-02T14:43:04.843680Z"
    }
   },
   "outputs": [],
   "source": [
    "x = torch.ones(5)  # input tensor\n",
    "y = torch.zeros(3)  # expected output"
   ]
  },
  {
   "cell_type": "code",
   "execution_count": 45,
   "metadata": {
    "ExecuteTime": {
     "end_time": "2021-10-02T14:43:05.075436Z",
     "start_time": "2021-10-02T14:43:05.071173Z"
    }
   },
   "outputs": [],
   "source": [
    "w = torch.randn(5, 3, requires_grad=True) #weights\n",
    "b = torch.randn(3, requires_grad=True) #bias"
   ]
  },
  {
   "cell_type": "code",
   "execution_count": 46,
   "metadata": {
    "ExecuteTime": {
     "end_time": "2021-10-02T14:43:05.285364Z",
     "start_time": "2021-10-02T14:43:05.281481Z"
    }
   },
   "outputs": [],
   "source": [
    "z = torch.matmul(x, w)+b"
   ]
  },
  {
   "cell_type": "code",
   "execution_count": 47,
   "metadata": {
    "ExecuteTime": {
     "end_time": "2021-10-02T14:43:05.507440Z",
     "start_time": "2021-10-02T14:43:05.501001Z"
    }
   },
   "outputs": [
    {
     "data": {
      "text/plain": [
       "tensor(2.6149, grad_fn=<MeanBackward0>)"
      ]
     },
     "execution_count": 47,
     "metadata": {},
     "output_type": "execute_result"
    }
   ],
   "source": [
    "loss = torch.abs((z-y)).mean()\n",
    "loss"
   ]
  },
  {
   "cell_type": "code",
   "execution_count": 48,
   "metadata": {
    "ExecuteTime": {
     "end_time": "2021-10-02T14:43:06.355062Z",
     "start_time": "2021-10-02T14:43:06.348255Z"
    }
   },
   "outputs": [
    {
     "name": "stdout",
     "output_type": "stream",
     "text": [
      "tensor([[ 0.3333,  0.3333, -0.3333],\n",
      "        [ 0.3333,  0.3333, -0.3333],\n",
      "        [ 0.3333,  0.3333, -0.3333],\n",
      "        [ 0.3333,  0.3333, -0.3333],\n",
      "        [ 0.3333,  0.3333, -0.3333]])\n",
      "tensor([ 0.3333,  0.3333, -0.3333])\n"
     ]
    }
   ],
   "source": [
    "loss.backward()\n",
    "print(w.grad)\n",
    "print(b.grad)"
   ]
  },
  {
   "cell_type": "markdown",
   "metadata": {},
   "source": [
    "# Regresja raz jeszcze"
   ]
  },
  {
   "cell_type": "code",
   "execution_count": 49,
   "metadata": {
    "ExecuteTime": {
     "end_time": "2021-10-02T15:02:58.234376Z",
     "start_time": "2021-10-02T15:02:58.229524Z"
    }
   },
   "outputs": [],
   "source": [
    "apples_kg_ordered = [2,4,7,3,13]\n",
    "plums_kg_ordered = [3,8,9,1,1]\n",
    "prices = [11.97 , 28.05, 38.98, 10.96, 41.1]"
   ]
  },
  {
   "cell_type": "code",
   "execution_count": 50,
   "metadata": {
    "ExecuteTime": {
     "end_time": "2021-10-02T15:02:58.647418Z",
     "start_time": "2021-10-02T15:02:58.639049Z"
    }
   },
   "outputs": [
    {
     "name": "stdout",
     "output_type": "stream",
     "text": [
      "tensor([[ 2.,  3.],\n",
      "        [ 4.,  8.],\n",
      "        [ 7.,  9.],\n",
      "        [ 3.,  1.],\n",
      "        [13.,  1.]])\n",
      "tensor([11.9700, 28.0500, 38.9800, 10.9600, 41.1000])\n"
     ]
    }
   ],
   "source": [
    "X = torch.tensor([apples_kg_ordered,plums_kg_ordered])\n",
    "y = torch.tensor(prices)\n",
    "X = X.T.float()\n",
    "Y = Y.T\n",
    "print(X)\n",
    "print(Y)"
   ]
  },
  {
   "cell_type": "code",
   "execution_count": 51,
   "metadata": {
    "ExecuteTime": {
     "end_time": "2021-10-02T15:02:58.844443Z",
     "start_time": "2021-10-02T15:02:58.840718Z"
    }
   },
   "outputs": [],
   "source": [
    "params = torch.rand(2,requires_grad=True)"
   ]
  },
  {
   "cell_type": "code",
   "execution_count": 52,
   "metadata": {
    "ExecuteTime": {
     "end_time": "2021-10-02T15:02:59.048063Z",
     "start_time": "2021-10-02T15:02:59.041604Z"
    }
   },
   "outputs": [
    {
     "data": {
      "text/plain": [
       "tensor([2.7637, 6.4191, 9.0043, 2.5852, 9.7164], grad_fn=<MvBackward0>)"
      ]
     },
     "execution_count": 52,
     "metadata": {},
     "output_type": "execute_result"
    }
   ],
   "source": [
    "y_pred = X@params\n",
    "y_pred"
   ]
  },
  {
   "cell_type": "code",
   "execution_count": 53,
   "metadata": {
    "ExecuteTime": {
     "end_time": "2021-10-02T15:02:59.237566Z",
     "start_time": "2021-10-02T15:02:59.230912Z"
    }
   },
   "outputs": [
    {
     "data": {
      "text/plain": [
       "tensor(501.2537, grad_fn=<MeanBackward0>)"
      ]
     },
     "execution_count": 53,
     "metadata": {},
     "output_type": "execute_result"
    }
   ],
   "source": [
    "loss = (torch.square(Y-y_pred)).mean()\n",
    "loss"
   ]
  },
  {
   "cell_type": "code",
   "execution_count": 54,
   "metadata": {
    "ExecuteTime": {
     "end_time": "2021-10-02T15:02:59.437480Z",
     "start_time": "2021-10-02T15:02:59.433774Z"
    }
   },
   "outputs": [],
   "source": [
    "loss.backward()"
   ]
  },
  {
   "cell_type": "code",
   "execution_count": 55,
   "metadata": {
    "ExecuteTime": {
     "end_time": "2021-10-02T15:02:59.662916Z",
     "start_time": "2021-10-02T15:02:59.656827Z"
    },
    "scrolled": true
   },
   "outputs": [
    {
     "data": {
      "text/plain": [
       "tensor([-299.1513, -204.0826])"
      ]
     },
     "execution_count": 55,
     "metadata": {},
     "output_type": "execute_result"
    }
   ],
   "source": [
    "params.grad"
   ]
  },
  {
   "cell_type": "code",
   "execution_count": 56,
   "metadata": {
    "ExecuteTime": {
     "end_time": "2021-10-02T15:03:00.003219Z",
     "start_time": "2021-10-02T15:03:00Z"
    }
   },
   "outputs": [],
   "source": [
    "lr = 0.001"
   ]
  },
  {
   "cell_type": "code",
   "execution_count": 57,
   "metadata": {
    "ExecuteTime": {
     "end_time": "2021-10-02T15:03:00.450882Z",
     "start_time": "2021-10-02T15:03:00.442852Z"
    }
   },
   "outputs": [
    {
     "name": "stdout",
     "output_type": "stream",
     "text": [
      "tensor([0.7131, 0.4458], requires_grad=True)\n"
     ]
    },
    {
     "data": {
      "text/plain": [
       "tensor([1.0123, 0.6499], grad_fn=<SubBackward0>)"
      ]
     },
     "execution_count": 57,
     "metadata": {},
     "output_type": "execute_result"
    }
   ],
   "source": [
    "print(params)\n",
    "params - lr *params.grad"
   ]
  },
  {
   "cell_type": "code",
   "execution_count": 58,
   "metadata": {
    "ExecuteTime": {
     "end_time": "2021-10-02T15:17:41.903513Z",
     "start_time": "2021-10-02T15:17:41.899456Z"
    }
   },
   "outputs": [],
   "source": [
    "params = torch.rand(2,requires_grad=True)"
   ]
  },
  {
   "cell_type": "code",
   "execution_count": 59,
   "metadata": {
    "ExecuteTime": {
     "end_time": "2021-10-02T15:18:30.997564Z",
     "start_time": "2021-10-02T15:18:30.905197Z"
    },
    "scrolled": true
   },
   "outputs": [
    {
     "name": "stdout",
     "output_type": "stream",
     "text": [
      "tensor([0.8992, 0.6753], requires_grad=True)\n",
      "tensor([-310.4636, -208.6020])\n",
      "tensor([1.1692, 0.8563], requires_grad=True)\n",
      "tensor([-270.0273, -181.0555])\n",
      "tensor([1.4041, 1.0135], requires_grad=True)\n",
      "tensor([-234.8752, -157.1204])\n",
      "tensor([1.6084, 1.1498], requires_grad=True)\n",
      "tensor([-204.3162, -136.3239])\n",
      "tensor([1.7862, 1.2680], requires_grad=True)\n",
      "tensor([-177.7498, -118.2553])\n",
      "tensor([1.9408, 1.3706], requires_grad=True)\n",
      "tensor([-154.6538, -102.5575])\n",
      "tensor([2.0754, 1.4595], requires_grad=True)\n",
      "tensor([-134.5743,  -88.9201])\n",
      "tensor([2.1925, 1.5366], requires_grad=True)\n",
      "tensor([-117.1169,  -77.0734])\n",
      "tensor([2.2945, 1.6034], requires_grad=True)\n",
      "tensor([-101.9387,  -66.7829])\n",
      "tensor([2.3832, 1.6612], requires_grad=True)\n",
      "tensor([-88.7417, -57.8450])\n",
      "tensor([2.4605, 1.7113], requires_grad=True)\n",
      "tensor([-77.2669, -50.0823])\n",
      "tensor([2.5278, 1.7546], requires_grad=True)\n",
      "tensor([-67.2891, -43.3411])\n",
      "tensor([2.5864, 1.7921], requires_grad=True)\n",
      "tensor([-58.6125, -37.4875])\n",
      "tensor([2.6374, 1.8245], requires_grad=True)\n",
      "tensor([-51.0672, -32.4052])\n",
      "tensor([2.6819, 1.8525], requires_grad=True)\n",
      "tensor([-44.5052, -27.9932])\n",
      "tensor([2.7207, 1.8767], requires_grad=True)\n",
      "tensor([-38.7980, -24.1635])\n",
      "tensor([2.7546, 1.8975], requires_grad=True)\n",
      "tensor([-33.8339, -20.8400])\n",
      "tensor([2.7841, 1.9155], requires_grad=True)\n",
      "tensor([-29.5158, -17.9561])\n",
      "tensor([2.8098, 1.9309], requires_grad=True)\n",
      "tensor([-25.7593, -15.4543])\n",
      "tensor([2.8323, 1.9442], requires_grad=True)\n",
      "tensor([-22.4910, -13.2845])\n",
      "tensor([2.8520, 1.9556], requires_grad=True)\n",
      "tensor([-19.6472, -11.4029])\n",
      "tensor([2.8692, 1.9654], requires_grad=True)\n",
      "tensor([-17.1724,  -9.7719])\n",
      "tensor([2.8842, 1.9738], requires_grad=True)\n",
      "tensor([-15.0185,  -8.3585])\n",
      "tensor([2.8973, 1.9809], requires_grad=True)\n",
      "tensor([-13.1435,  -7.1340])\n",
      "tensor([2.9088, 1.9870], requires_grad=True)\n",
      "tensor([-11.5110,  -6.0738])\n",
      "tensor([2.9189, 1.9921], requires_grad=True)\n",
      "tensor([-10.0895,  -5.1560])\n",
      "tensor([2.9278, 1.9965], requires_grad=True)\n",
      "tensor([-8.8513, -4.3621])\n",
      "tensor([2.9355, 2.0002], requires_grad=True)\n",
      "tensor([-7.7727, -3.6757])\n",
      "tensor([2.9424, 2.0032], requires_grad=True)\n",
      "tensor([-6.8327, -3.0826])\n",
      "tensor([2.9484, 2.0058], requires_grad=True)\n",
      "tensor([-6.0134, -2.5705])\n",
      "tensor([2.9537, 2.0079], requires_grad=True)\n",
      "tensor([-5.2990, -2.1286])\n",
      "tensor([2.9584, 2.0097], requires_grad=True)\n",
      "tensor([-4.6758, -1.7478])\n",
      "tensor([2.9625, 2.0111], requires_grad=True)\n",
      "tensor([-4.1320, -1.4199])\n",
      "tensor([2.9662, 2.0122], requires_grad=True)\n",
      "tensor([-3.6573, -1.1379])\n",
      "tensor([2.9694, 2.0131], requires_grad=True)\n",
      "tensor([-3.2427, -0.8958])\n",
      "tensor([2.9723, 2.0138], requires_grad=True)\n",
      "tensor([-2.8804, -0.6881])\n",
      "tensor([2.9748, 2.0143], requires_grad=True)\n",
      "tensor([-2.5636, -0.5104])\n",
      "tensor([2.9771, 2.0147], requires_grad=True)\n",
      "tensor([-2.2865, -0.3585])\n",
      "tensor([2.9792, 2.0149], requires_grad=True)\n",
      "tensor([-2.0438, -0.2292])\n",
      "tensor([2.9810, 2.0150], requires_grad=True)\n",
      "tensor([-1.8311, -0.1192])\n",
      "tensor([2.9826, 2.0151], requires_grad=True)\n",
      "tensor([-1.6446, -0.0261])\n",
      "tensor([2.9841, 2.0150], requires_grad=True)\n",
      "tensor([-1.4810,  0.0525])\n",
      "tensor([2.9855, 2.0149], requires_grad=True)\n",
      "tensor([-1.3371,  0.1186])\n",
      "tensor([2.9867, 2.0147], requires_grad=True)\n",
      "tensor([-1.2105,  0.1737])\n",
      "tensor([2.9878, 2.0145], requires_grad=True)\n",
      "tensor([-1.0991,  0.2195])\n",
      "tensor([2.9888, 2.0143], requires_grad=True)\n",
      "tensor([-1.0007,  0.2573])\n",
      "tensor([2.9897, 2.0140], requires_grad=True)\n",
      "tensor([-0.9139,  0.2881])\n",
      "tensor([2.9905, 2.0137], requires_grad=True)\n",
      "tensor([-0.8371,  0.3129])\n",
      "tensor([2.9913, 2.0133], requires_grad=True)\n",
      "tensor([-0.7690,  0.3325])\n",
      "tensor([2.9920, 2.0130], requires_grad=True)\n",
      "tensor([-0.7086,  0.3478])\n"
     ]
    }
   ],
   "source": [
    "for epoch in range(50):\n",
    "    y_pred = X@params\n",
    "    loss = (torch.square(Y-y_pred)).mean()\n",
    "    loss.backward()\n",
    "    with torch.no_grad():\n",
    "        params.copy_(params - lr *params.grad)\n",
    "    print(params)\n",
    "    print(params.grad)\n",
    "    params.grad.zero_()"
   ]
  },
  {
   "cell_type": "markdown",
   "metadata": {},
   "source": [
    "### Mini zadanie na plusa, mozna wyslać po zajęciach.\n",
    "Tym razem na innym targu do ceny owoców doliczany jest stały koszt reklamówki. Napisz model regresji liniowej który oszacuje cenę kg ziemniaków, pomidorów i reklamówki"
   ]
  },
  {
   "cell_type": "code",
   "execution_count": 60,
   "metadata": {
    "ExecuteTime": {
     "end_time": "2021-10-03T07:05:29.893186Z",
     "start_time": "2021-10-03T07:05:29.886876Z"
    }
   },
   "outputs": [],
   "source": [
    "potatoes_kg_ordered = [1,3,7,3,10,6,8,4,3,1,2,0]\n",
    "tomatoes_kg_ordered = [5,2,3,1,2,3,6,7,3,2,3,1]\n",
    "prices = [22.37 , 14.45, 26.6, 10.44, 28.49, 24.52, 40.38, 36.51, 18.50, 10.46, 16.51, 4.58]"
   ]
  },
  {
   "cell_type": "code",
   "execution_count": 61,
   "metadata": {
    "ExecuteTime": {
     "end_time": "2021-10-03T06:59:55.773674Z",
     "start_time": "2021-10-03T06:59:55.766821Z"
    }
   },
   "outputs": [
    {
     "data": {
      "text/plain": [
       "array([22.5, 14.5, 26.5, 10.5, 28.5, 24.5, 40.5, 36.5, 18.5, 10.5, 16.5,\n",
       "        4.5])"
      ]
     },
     "execution_count": 61,
     "metadata": {},
     "output_type": "execute_result"
    }
   ],
   "source": [
    "np.array(potatoes_kg_ordered)*2 + np.array(tomatoes_kg_ordered)*4 + 0.5"
   ]
  },
  {
   "cell_type": "code",
   "execution_count": 62,
   "metadata": {
    "ExecuteTime": {
     "end_time": "2021-10-03T07:05:35.107666Z",
     "start_time": "2021-10-03T07:05:35.098747Z"
    }
   },
   "outputs": [
    {
     "name": "stdout",
     "output_type": "stream",
     "text": [
      "tensor([[ 1.,  5.],\n",
      "        [ 3.,  2.],\n",
      "        [ 7.,  3.],\n",
      "        [ 3.,  1.],\n",
      "        [10.,  2.],\n",
      "        [ 6.,  3.],\n",
      "        [ 8.,  6.],\n",
      "        [ 4.,  7.],\n",
      "        [ 3.,  3.],\n",
      "        [ 1.,  2.],\n",
      "        [ 2.,  3.],\n",
      "        [ 0.,  1.]])\n",
      "tensor([22.3700, 14.4500, 26.6000, 10.4400, 28.4900, 24.5200, 40.3800, 36.5100,\n",
      "        18.5000, 10.4600, 16.5100,  4.5800])\n"
     ]
    }
   ],
   "source": [
    "X = torch.tensor([potatoes_kg_ordered,tomatoes_kg_ordered])\n",
    "Y = torch.tensor(prices)\n",
    "X = X.T.float()\n",
    "Y = Y.T\n",
    "print(X)\n",
    "print(Y)"
   ]
  },
  {
   "cell_type": "code",
   "execution_count": 63,
   "metadata": {
    "ExecuteTime": {
     "end_time": "2021-10-03T07:16:24.005906Z",
     "start_time": "2021-10-03T07:16:24.001381Z"
    }
   },
   "outputs": [],
   "source": [
    "params = torch.rand(2,requires_grad=True)\n",
    "bias = torch.rand(1,requires_grad=True)"
   ]
  },
  {
   "cell_type": "code",
   "execution_count": 64,
   "metadata": {
    "ExecuteTime": {
     "end_time": "2021-10-03T07:16:28.152660Z",
     "start_time": "2021-10-03T07:16:28.149122Z"
    }
   },
   "outputs": [],
   "source": [
    "lr = 0.01"
   ]
  },
  {
   "cell_type": "code",
   "execution_count": 65,
   "metadata": {
    "ExecuteTime": {
     "end_time": "2021-10-03T07:16:29.248618Z",
     "start_time": "2021-10-03T07:16:28.987082Z"
    },
    "scrolled": true
   },
   "outputs": [
    {
     "name": "stdout",
     "output_type": "stream",
     "text": [
      "tensor([2.4913, 1.4529], requires_grad=True)\n",
      "tensor([0.8805], requires_grad=True)\n",
      "tensor([2.9204, 1.9703], requires_grad=True)\n",
      "tensor([0.9946], requires_grad=True)\n",
      "tensor([2.9841, 2.2237], requires_grad=True)\n",
      "tensor([1.0393], requires_grad=True)\n",
      "tensor([2.9425, 2.3891], requires_grad=True)\n",
      "tensor([1.0620], requires_grad=True)\n",
      "tensor([2.8740, 2.5205], requires_grad=True)\n",
      "tensor([1.0771], requires_grad=True)\n",
      "tensor([2.8019, 2.6349], requires_grad=True)\n",
      "tensor([1.0890], requires_grad=True)\n",
      "tensor([2.7331, 2.7379], requires_grad=True)\n",
      "tensor([1.0992], requires_grad=True)\n",
      "tensor([2.6691, 2.8319], requires_grad=True)\n",
      "tensor([1.1082], requires_grad=True)\n",
      "tensor([2.6102, 2.9180], requires_grad=True)\n",
      "tensor([1.1161], requires_grad=True)\n",
      "tensor([2.5560, 2.9969], requires_grad=True)\n",
      "tensor([1.1232], requires_grad=True)\n",
      "tensor([2.5064, 3.0692], requires_grad=True)\n",
      "tensor([1.1295], requires_grad=True)\n",
      "tensor([2.4609, 3.1356], requires_grad=True)\n",
      "tensor([1.1350], requires_grad=True)\n",
      "tensor([2.4192, 3.1966], requires_grad=True)\n",
      "tensor([1.1399], requires_grad=True)\n",
      "tensor([2.3810, 3.2525], requires_grad=True)\n",
      "tensor([1.1441], requires_grad=True)\n",
      "tensor([2.3459, 3.3038], requires_grad=True)\n",
      "tensor([1.1478], requires_grad=True)\n",
      "tensor([2.3138, 3.3509], requires_grad=True)\n",
      "tensor([1.1509], requires_grad=True)\n",
      "tensor([2.2843, 3.3942], requires_grad=True)\n",
      "tensor([1.1536], requires_grad=True)\n",
      "tensor([2.2573, 3.4339], requires_grad=True)\n",
      "tensor([1.1558], requires_grad=True)\n",
      "tensor([2.2325, 3.4703], requires_grad=True)\n",
      "tensor([1.1577], requires_grad=True)\n",
      "tensor([2.2098, 3.5038], requires_grad=True)\n",
      "tensor([1.1591], requires_grad=True)\n",
      "tensor([2.1891, 3.5345], requires_grad=True)\n",
      "tensor([1.1603], requires_grad=True)\n",
      "tensor([2.1700, 3.5627], requires_grad=True)\n",
      "tensor([1.1611], requires_grad=True)\n",
      "tensor([2.1525, 3.5886], requires_grad=True)\n",
      "tensor([1.1617], requires_grad=True)\n",
      "tensor([2.1365, 3.6124], requires_grad=True)\n",
      "tensor([1.1620], requires_grad=True)\n",
      "tensor([2.1219, 3.6342], requires_grad=True)\n",
      "tensor([1.1621], requires_grad=True)\n",
      "tensor([2.1084, 3.6543], requires_grad=True)\n",
      "tensor([1.1619], requires_grad=True)\n",
      "tensor([2.0961, 3.6727], requires_grad=True)\n",
      "tensor([1.1616], requires_grad=True)\n",
      "tensor([2.0849, 3.6897], requires_grad=True)\n",
      "tensor([1.1611], requires_grad=True)\n",
      "tensor([2.0746, 3.7053], requires_grad=True)\n",
      "tensor([1.1604], requires_grad=True)\n",
      "tensor([2.0651, 3.7196], requires_grad=True)\n",
      "tensor([1.1596], requires_grad=True)\n",
      "tensor([2.0564, 3.7328], requires_grad=True)\n",
      "tensor([1.1586], requires_grad=True)\n",
      "tensor([2.0485, 3.7449], requires_grad=True)\n",
      "tensor([1.1575], requires_grad=True)\n",
      "tensor([2.0413, 3.7560], requires_grad=True)\n",
      "tensor([1.1563], requires_grad=True)\n",
      "tensor([2.0346, 3.7663], requires_grad=True)\n",
      "tensor([1.1550], requires_grad=True)\n",
      "tensor([2.0286, 3.7757], requires_grad=True)\n",
      "tensor([1.1537], requires_grad=True)\n",
      "tensor([2.0230, 3.7844], requires_grad=True)\n",
      "tensor([1.1522], requires_grad=True)\n",
      "tensor([2.0179, 3.7924], requires_grad=True)\n",
      "tensor([1.1506], requires_grad=True)\n",
      "tensor([2.0133, 3.7998], requires_grad=True)\n",
      "tensor([1.1490], requires_grad=True)\n",
      "tensor([2.0090, 3.8066], requires_grad=True)\n",
      "tensor([1.1473], requires_grad=True)\n",
      "tensor([2.0051, 3.8129], requires_grad=True)\n",
      "tensor([1.1456], requires_grad=True)\n",
      "tensor([2.0016, 3.8186], requires_grad=True)\n",
      "tensor([1.1438], requires_grad=True)\n",
      "tensor([1.9983, 3.8240], requires_grad=True)\n",
      "tensor([1.1420], requires_grad=True)\n",
      "tensor([1.9954, 3.8289], requires_grad=True)\n",
      "tensor([1.1401], requires_grad=True)\n",
      "tensor([1.9927, 3.8335], requires_grad=True)\n",
      "tensor([1.1382], requires_grad=True)\n",
      "tensor([1.9902, 3.8377], requires_grad=True)\n",
      "tensor([1.1363], requires_grad=True)\n",
      "tensor([1.9879, 3.8416], requires_grad=True)\n",
      "tensor([1.1343], requires_grad=True)\n",
      "tensor([1.9859, 3.8452], requires_grad=True)\n",
      "tensor([1.1323], requires_grad=True)\n",
      "tensor([1.9840, 3.8485], requires_grad=True)\n",
      "tensor([1.1303], requires_grad=True)\n",
      "tensor([1.9823, 3.8516], requires_grad=True)\n",
      "tensor([1.1282], requires_grad=True)\n",
      "tensor([1.9808, 3.8544], requires_grad=True)\n",
      "tensor([1.1261], requires_grad=True)\n",
      "tensor([1.9794, 3.8571], requires_grad=True)\n",
      "tensor([1.1241], requires_grad=True)\n",
      "tensor([1.9781, 3.8596], requires_grad=True)\n",
      "tensor([1.1220], requires_grad=True)\n",
      "tensor([1.9769, 3.8619], requires_grad=True)\n",
      "tensor([1.1198], requires_grad=True)\n",
      "tensor([1.9759, 3.8640], requires_grad=True)\n",
      "tensor([1.1177], requires_grad=True)\n",
      "tensor([1.9749, 3.8660], requires_grad=True)\n",
      "tensor([1.1156], requires_grad=True)\n",
      "tensor([1.9741, 3.8679], requires_grad=True)\n",
      "tensor([1.1135], requires_grad=True)\n",
      "tensor([1.9733, 3.8696], requires_grad=True)\n",
      "tensor([1.1113], requires_grad=True)\n",
      "tensor([1.9726, 3.8712], requires_grad=True)\n",
      "tensor([1.1092], requires_grad=True)\n",
      "tensor([1.9720, 3.8728], requires_grad=True)\n",
      "tensor([1.1070], requires_grad=True)\n",
      "tensor([1.9714, 3.8742], requires_grad=True)\n",
      "tensor([1.1049], requires_grad=True)\n",
      "tensor([1.9709, 3.8755], requires_grad=True)\n",
      "tensor([1.1027], requires_grad=True)\n",
      "tensor([1.9704, 3.8768], requires_grad=True)\n",
      "tensor([1.1005], requires_grad=True)\n",
      "tensor([1.9700, 3.8780], requires_grad=True)\n",
      "tensor([1.0984], requires_grad=True)\n",
      "tensor([1.9697, 3.8791], requires_grad=True)\n",
      "tensor([1.0962], requires_grad=True)\n",
      "tensor([1.9694, 3.8801], requires_grad=True)\n",
      "tensor([1.0941], requires_grad=True)\n",
      "tensor([1.9691, 3.8811], requires_grad=True)\n",
      "tensor([1.0919], requires_grad=True)\n",
      "tensor([1.9688, 3.8821], requires_grad=True)\n",
      "tensor([1.0898], requires_grad=True)\n",
      "tensor([1.9686, 3.8830], requires_grad=True)\n",
      "tensor([1.0876], requires_grad=True)\n",
      "tensor([1.9684, 3.8838], requires_grad=True)\n",
      "tensor([1.0855], requires_grad=True)\n",
      "tensor([1.9683, 3.8847], requires_grad=True)\n",
      "tensor([1.0833], requires_grad=True)\n",
      "tensor([1.9681, 3.8854], requires_grad=True)\n",
      "tensor([1.0812], requires_grad=True)\n",
      "tensor([1.9680, 3.8862], requires_grad=True)\n",
      "tensor([1.0790], requires_grad=True)\n",
      "tensor([1.9680, 3.8869], requires_grad=True)\n",
      "tensor([1.0769], requires_grad=True)\n",
      "tensor([1.9679, 3.8876], requires_grad=True)\n",
      "tensor([1.0748], requires_grad=True)\n",
      "tensor([1.9678, 3.8882], requires_grad=True)\n",
      "tensor([1.0727], requires_grad=True)\n",
      "tensor([1.9678, 3.8888], requires_grad=True)\n",
      "tensor([1.0705], requires_grad=True)\n",
      "tensor([1.9678, 3.8894], requires_grad=True)\n",
      "tensor([1.0684], requires_grad=True)\n",
      "tensor([1.9678, 3.8900], requires_grad=True)\n",
      "tensor([1.0663], requires_grad=True)\n",
      "tensor([1.9678, 3.8906], requires_grad=True)\n",
      "tensor([1.0642], requires_grad=True)\n",
      "tensor([1.9678, 3.8911], requires_grad=True)\n",
      "tensor([1.0621], requires_grad=True)\n",
      "tensor([1.9678, 3.8917], requires_grad=True)\n",
      "tensor([1.0601], requires_grad=True)\n",
      "tensor([1.9678, 3.8922], requires_grad=True)\n",
      "tensor([1.0580], requires_grad=True)\n",
      "tensor([1.9679, 3.8927], requires_grad=True)\n",
      "tensor([1.0559], requires_grad=True)\n",
      "tensor([1.9679, 3.8932], requires_grad=True)\n",
      "tensor([1.0538], requires_grad=True)\n",
      "tensor([1.9680, 3.8936], requires_grad=True)\n",
      "tensor([1.0518], requires_grad=True)\n",
      "tensor([1.9680, 3.8941], requires_grad=True)\n",
      "tensor([1.0497], requires_grad=True)\n",
      "tensor([1.9681, 3.8946], requires_grad=True)\n",
      "tensor([1.0477], requires_grad=True)\n",
      "tensor([1.9682, 3.8950], requires_grad=True)\n",
      "tensor([1.0456], requires_grad=True)\n",
      "tensor([1.9682, 3.8954], requires_grad=True)\n",
      "tensor([1.0436], requires_grad=True)\n",
      "tensor([1.9683, 3.8959], requires_grad=True)\n",
      "tensor([1.0416], requires_grad=True)\n",
      "tensor([1.9684, 3.8963], requires_grad=True)\n",
      "tensor([1.0396], requires_grad=True)\n",
      "tensor([1.9685, 3.8967], requires_grad=True)\n",
      "tensor([1.0375], requires_grad=True)\n",
      "tensor([1.9686, 3.8971], requires_grad=True)\n",
      "tensor([1.0355], requires_grad=True)\n",
      "tensor([1.9687, 3.8975], requires_grad=True)\n",
      "tensor([1.0335], requires_grad=True)\n",
      "tensor([1.9688, 3.8979], requires_grad=True)\n",
      "tensor([1.0316], requires_grad=True)\n",
      "tensor([1.9689, 3.8983], requires_grad=True)\n",
      "tensor([1.0296], requires_grad=True)\n",
      "tensor([1.9690, 3.8986], requires_grad=True)\n",
      "tensor([1.0276], requires_grad=True)\n",
      "tensor([1.9691, 3.8990], requires_grad=True)\n",
      "tensor([1.0256], requires_grad=True)\n",
      "tensor([1.9692, 3.8994], requires_grad=True)\n",
      "tensor([1.0237], requires_grad=True)\n",
      "tensor([1.9693, 3.8998], requires_grad=True)\n",
      "tensor([1.0217], requires_grad=True)\n",
      "tensor([1.9694, 3.9001], requires_grad=True)\n",
      "tensor([1.0198], requires_grad=True)\n",
      "tensor([1.9695, 3.9005], requires_grad=True)\n",
      "tensor([1.0178], requires_grad=True)\n",
      "tensor([1.9696, 3.9008], requires_grad=True)\n",
      "tensor([1.0159], requires_grad=True)\n",
      "tensor([1.9697, 3.9012], requires_grad=True)\n",
      "tensor([1.0140], requires_grad=True)\n",
      "tensor([1.9699, 3.9016], requires_grad=True)\n",
      "tensor([1.0121], requires_grad=True)\n",
      "tensor([1.9700, 3.9019], requires_grad=True)\n",
      "tensor([1.0101], requires_grad=True)\n",
      "tensor([1.9701, 3.9022], requires_grad=True)\n",
      "tensor([1.0082], requires_grad=True)\n",
      "tensor([1.9702, 3.9026], requires_grad=True)\n",
      "tensor([1.0063], requires_grad=True)\n",
      "tensor([1.9703, 3.9029], requires_grad=True)\n",
      "tensor([1.0045], requires_grad=True)\n",
      "tensor([1.9704, 3.9033], requires_grad=True)\n",
      "tensor([1.0026], requires_grad=True)\n",
      "tensor([1.9705, 3.9036], requires_grad=True)\n",
      "tensor([1.0007], requires_grad=True)\n",
      "tensor([1.9707, 3.9039], requires_grad=True)\n",
      "tensor([0.9988], requires_grad=True)\n",
      "tensor([1.9708, 3.9043], requires_grad=True)\n",
      "tensor([0.9970], requires_grad=True)\n",
      "tensor([1.9709, 3.9046], requires_grad=True)\n",
      "tensor([0.9951], requires_grad=True)\n",
      "tensor([1.9710, 3.9049], requires_grad=True)\n",
      "tensor([0.9933], requires_grad=True)\n",
      "tensor([1.9711, 3.9052], requires_grad=True)\n",
      "tensor([0.9914], requires_grad=True)\n",
      "tensor([1.9712, 3.9056], requires_grad=True)\n",
      "tensor([0.9896], requires_grad=True)\n",
      "tensor([1.9714, 3.9059], requires_grad=True)\n",
      "tensor([0.9878], requires_grad=True)\n",
      "tensor([1.9715, 3.9062], requires_grad=True)\n",
      "tensor([0.9859], requires_grad=True)\n",
      "tensor([1.9716, 3.9065], requires_grad=True)\n",
      "tensor([0.9841], requires_grad=True)\n",
      "tensor([1.9717, 3.9068], requires_grad=True)\n",
      "tensor([0.9823], requires_grad=True)\n",
      "tensor([1.9718, 3.9071], requires_grad=True)\n",
      "tensor([0.9805], requires_grad=True)\n",
      "tensor([1.9719, 3.9074], requires_grad=True)\n",
      "tensor([0.9787], requires_grad=True)\n",
      "tensor([1.9720, 3.9078], requires_grad=True)\n",
      "tensor([0.9770], requires_grad=True)\n",
      "tensor([1.9722, 3.9081], requires_grad=True)\n",
      "tensor([0.9752], requires_grad=True)\n",
      "tensor([1.9723, 3.9084], requires_grad=True)\n",
      "tensor([0.9734], requires_grad=True)\n",
      "tensor([1.9724, 3.9087], requires_grad=True)\n",
      "tensor([0.9716], requires_grad=True)\n",
      "tensor([1.9725, 3.9090], requires_grad=True)\n",
      "tensor([0.9699], requires_grad=True)\n",
      "tensor([1.9726, 3.9093], requires_grad=True)\n",
      "tensor([0.9681], requires_grad=True)\n",
      "tensor([1.9727, 3.9096], requires_grad=True)\n",
      "tensor([0.9664], requires_grad=True)\n",
      "tensor([1.9728, 3.9099], requires_grad=True)\n",
      "tensor([0.9647], requires_grad=True)\n",
      "tensor([1.9730, 3.9102], requires_grad=True)\n",
      "tensor([0.9629], requires_grad=True)\n",
      "tensor([1.9731, 3.9105], requires_grad=True)\n",
      "tensor([0.9612], requires_grad=True)\n",
      "tensor([1.9732, 3.9108], requires_grad=True)\n",
      "tensor([0.9595], requires_grad=True)\n",
      "tensor([1.9733, 3.9111], requires_grad=True)\n",
      "tensor([0.9578], requires_grad=True)\n",
      "tensor([1.9734, 3.9114], requires_grad=True)\n",
      "tensor([0.9561], requires_grad=True)\n",
      "tensor([1.9735, 3.9117], requires_grad=True)\n",
      "tensor([0.9544], requires_grad=True)\n",
      "tensor([1.9736, 3.9119], requires_grad=True)\n",
      "tensor([0.9527], requires_grad=True)\n",
      "tensor([1.9737, 3.9122], requires_grad=True)\n",
      "tensor([0.9510], requires_grad=True)\n",
      "tensor([1.9738, 3.9125], requires_grad=True)\n",
      "tensor([0.9493], requires_grad=True)\n",
      "tensor([1.9740, 3.9128], requires_grad=True)\n",
      "tensor([0.9477], requires_grad=True)\n",
      "tensor([1.9741, 3.9131], requires_grad=True)\n",
      "tensor([0.9460], requires_grad=True)\n",
      "tensor([1.9742, 3.9134], requires_grad=True)\n",
      "tensor([0.9443], requires_grad=True)\n",
      "tensor([1.9743, 3.9137], requires_grad=True)\n",
      "tensor([0.9427], requires_grad=True)\n",
      "tensor([1.9744, 3.9140], requires_grad=True)\n",
      "tensor([0.9410], requires_grad=True)\n",
      "tensor([1.9745, 3.9142], requires_grad=True)\n",
      "tensor([0.9394], requires_grad=True)\n",
      "tensor([1.9746, 3.9145], requires_grad=True)\n",
      "tensor([0.9378], requires_grad=True)\n",
      "tensor([1.9747, 3.9148], requires_grad=True)\n",
      "tensor([0.9361], requires_grad=True)\n",
      "tensor([1.9748, 3.9151], requires_grad=True)\n",
      "tensor([0.9345], requires_grad=True)\n",
      "tensor([1.9749, 3.9153], requires_grad=True)\n",
      "tensor([0.9329], requires_grad=True)\n"
     ]
    }
   ],
   "source": [
    "for epoch in range(150):\n",
    "    y_pred = X@params + bias\n",
    "    loss = (torch.square(Y-y_pred)).mean()\n",
    "    loss.backward()\n",
    "    with torch.no_grad():\n",
    "        params.copy_(params - lr *params.grad)\n",
    "        bias.copy_(bias - lr *bias.grad)\n",
    "    print(params)\n",
    "    print(bias)\n",
    "    params.grad.zero_()\n",
    "    bias.grad.zero_()"
   ]
  },
  {
   "cell_type": "code",
   "execution_count": 66,
   "metadata": {},
   "outputs": [
    {
     "data": {
      "text/plain": [
       "tensor([21.5517, 13.7555, 25.5706,  9.8401, 27.5800, 23.5956, 39.2915, 35.3072,\n",
       "        17.6708,  9.8056, 15.6959,  3.9153], grad_fn=<MvBackward0>)"
      ]
     },
     "execution_count": 66,
     "metadata": {},
     "output_type": "execute_result"
    }
   ],
   "source": [
    "y_pred = X@params\n",
    "y_pred"
   ]
  },
  {
   "cell_type": "code",
   "execution_count": 111,
   "metadata": {},
   "outputs": [
    {
     "data": {
      "text/plain": [
       "tensor([22.4846, 14.6884, 26.5035, 10.7730, 28.5129, 24.5285, 40.2244, 36.2401,\n",
       "        18.6037, 10.7385, 16.6288,  4.8482], grad_fn=<AddBackward0>)"
      ]
     },
     "execution_count": 111,
     "metadata": {},
     "output_type": "execute_result"
    }
   ],
   "source": [
    "y_pred = X@params + bias\n",
    "y_pred"
   ]
  },
  {
   "cell_type": "markdown",
   "metadata": {},
   "source": [
    "# LAB 2 - Tworzenie architektury i przygotowanie danych"
   ]
  },
  {
   "cell_type": "code",
   "execution_count": 68,
   "metadata": {
    "ExecuteTime": {
     "end_time": "2021-10-15T06:25:18.845741Z",
     "start_time": "2021-10-15T06:25:18.434742Z"
    }
   },
   "outputs": [],
   "source": [
    "import torch\n",
    "import numpy as np\n",
    "import time\n",
    "import math\n",
    "import matplotlib.pyplot as plt"
   ]
  },
  {
   "cell_type": "markdown",
   "metadata": {},
   "source": [
    "## GPU"
   ]
  },
  {
   "cell_type": "markdown",
   "metadata": {},
   "source": [
    "Jednym z kluczowych udogodnień pytorcha jest możliwość szybkiego i prostego przenoszenia obliczeń między CPU a GPU"
   ]
  },
  {
   "cell_type": "code",
   "execution_count": 69,
   "metadata": {
    "ExecuteTime": {
     "end_time": "2021-10-15T06:26:18.605771Z",
     "start_time": "2021-10-15T06:26:17.326230Z"
    }
   },
   "outputs": [
    {
     "data": {
      "text/plain": [
       "True"
      ]
     },
     "execution_count": 69,
     "metadata": {},
     "output_type": "execute_result"
    }
   ],
   "source": [
    "torch.cuda.is_available()"
   ]
  },
  {
   "cell_type": "code",
   "execution_count": 70,
   "metadata": {
    "ExecuteTime": {
     "end_time": "2021-10-15T06:28:51.680702Z",
     "start_time": "2021-10-15T06:28:51.675017Z"
    }
   },
   "outputs": [
    {
     "data": {
      "text/plain": [
       "device(type='cuda')"
      ]
     },
     "execution_count": 70,
     "metadata": {},
     "output_type": "execute_result"
    }
   ],
   "source": [
    "device = torch.device(\"cuda\") \n",
    "device"
   ]
  },
  {
   "cell_type": "code",
   "execution_count": 71,
   "metadata": {
    "ExecuteTime": {
     "end_time": "2021-10-15T06:28:54.839617Z",
     "start_time": "2021-10-15T06:28:53.163109Z"
    }
   },
   "outputs": [
    {
     "name": "stdout",
     "output_type": "stream",
     "text": [
      "X tensor([[0., 0., 0.],\n",
      "        [0., 0., 0.]])\n",
      "X tensor([[0., 0., 0.],\n",
      "        [0., 0., 0.]], device='cuda:0')\n"
     ]
    }
   ],
   "source": [
    "x = torch.zeros(2, 3)\n",
    "print(\"X\", x)\n",
    "x = x.to(device)\n",
    "print(\"X\", x)"
   ]
  },
  {
   "cell_type": "markdown",
   "metadata": {},
   "source": [
    "#### Co nam to daje?"
   ]
  },
  {
   "cell_type": "code",
   "execution_count": 72,
   "metadata": {
    "ExecuteTime": {
     "end_time": "2021-10-15T06:30:02.766546Z",
     "start_time": "2021-10-15T06:30:02.344191Z"
    },
    "scrolled": true
   },
   "outputs": [
    {
     "name": "stdout",
     "output_type": "stream",
     "text": [
      "CPU time: 1.88691s\n",
      "GPU time: 0.00044s\n"
     ]
    }
   ],
   "source": [
    "x = torch.randn(5000, 5000)\n",
    "\n",
    "## CPU version\n",
    "start_time = time.time()\n",
    "_ = torch.matmul(x, x)\n",
    "end_time = time.time()\n",
    "print(f\"CPU time: {(end_time - start_time):6.5f}s\")\n",
    "\n",
    "## GPU version\n",
    "x = x.to(device)\n",
    "# The first operation on a CUDA device can be slow as it has to establish a CPU-GPU communication first. \n",
    "# Hence, we run an arbitrary command first without timing it for a fair comparison.\n",
    "_ = torch.matmul(x*0.0, x)\n",
    "start_time = time.time()\n",
    "_ = torch.matmul(x, x)\n",
    "end_time = time.time()\n",
    "print(f\"GPU time: {(end_time - start_time):6.5f}s\")"
   ]
  },
  {
   "cell_type": "markdown",
   "metadata": {},
   "source": [
    "#### Ciąg komend do zapisania\n",
    "Losowość jest bardzo ważnym elementem trenowania sieci neuronowych (o czym się wkrótce przekonamy). Eksperymentując, chcielibyśmy jednak żeby przy każdym uruchomieniu programu, wynik był taki sam. Tylko w takim przypadku jesteśmy w stanie coś wnioskować. Do zapewnienia możliwości reprodukcji wyników na GPU za pomocą pytorcha służa poniższe komendy:"
   ]
  },
  {
   "cell_type": "code",
   "execution_count": 73,
   "metadata": {
    "ExecuteTime": {
     "end_time": "2021-10-11T14:25:02.868485Z",
     "start_time": "2021-10-11T14:25:02.862527Z"
    }
   },
   "outputs": [],
   "source": [
    "# GPU operations have a separate seed we also want to set\n",
    "if torch.cuda.is_available(): \n",
    "    torch.cuda.manual_seed(42)\n",
    "    torch.cuda.manual_seed_all(42)\n",
    "    \n",
    "# Additionally, some operations on a GPU are implemented stochastic for efficiency\n",
    "# We want to ensure that all operations are deterministic on GPU (if used) for reproducibility\n",
    "torch.backends.cudnn.determinstic = True\n",
    "torch.backends.cudnn.benchmark = False"
   ]
  },
  {
   "cell_type": "markdown",
   "metadata": {},
   "source": [
    "## Tworzenie modeli\n",
    "Tworzymy tensory z parametrami, wagi i biasy, obliczamy gradienty, aktualizujemy parametry itd.\n",
    "lub\n",
    "wykorzystujemy torch.nn"
   ]
  },
  {
   "cell_type": "markdown",
   "metadata": {},
   "source": [
    "W torch.nn możemy znaleźć wiele przydatnych predefiniowanych klas jak wagi sieci, funkcje aktywacji, funkcje straty, optymalizacja itp. Jeszcze raz, dokumentacja jest fajna: https://pytorch.org/docs/stable/nn.html"
   ]
  },
  {
   "cell_type": "code",
   "execution_count": 74,
   "metadata": {
    "ExecuteTime": {
     "end_time": "2021-10-15T06:34:21.423948Z",
     "start_time": "2021-10-15T06:34:21.419785Z"
    }
   },
   "outputs": [],
   "source": [
    "import torch.nn as nn"
   ]
  },
  {
   "cell_type": "markdown",
   "metadata": {},
   "source": [
    "Dodatkowo, funkcje wykorzystywane w budowaniu sieci znajdują się w module torch.nn.functionl"
   ]
  },
  {
   "cell_type": "code",
   "execution_count": 75,
   "metadata": {
    "ExecuteTime": {
     "end_time": "2021-10-15T06:34:29.552399Z",
     "start_time": "2021-10-15T06:34:29.548679Z"
    }
   },
   "outputs": [],
   "source": [
    "import torch.nn.functional as F"
   ]
  },
  {
   "cell_type": "markdown",
   "metadata": {},
   "source": [
    "### nn.Module\n",
    "W PyTorchu, sieci neuronowe są zbudowane z modułów - obiektów klas dziedziczących po klasie nn.Module. Moduły mogą składać się z innych modułów, a sieć neuronowa w całości też zazwyczaj jest modułem.\n",
    "\n",
    "Podstawowy template dla modułu wygląda następująco"
   ]
  },
  {
   "cell_type": "code",
   "execution_count": 76,
   "metadata": {
    "ExecuteTime": {
     "end_time": "2021-10-09T07:40:40.406203Z",
     "start_time": "2021-10-09T07:40:40.401191Z"
    }
   },
   "outputs": [],
   "source": [
    "class MyModule(nn.Module):\n",
    "    \n",
    "    def __init__(self):\n",
    "        super().__init__()\n",
    "        # Some init for my module\n",
    "        \n",
    "    def forward(self, x):\n",
    "        # Function for performing the calculation of the module.\n",
    "        pass"
   ]
  },
  {
   "cell_type": "markdown",
   "metadata": {},
   "source": [
    "W konstruktorze modułu zazwyczaj inicjowane są wszystkie parametry, lub wewnętrzne moduły (np. warstwy sieci)\n",
    "\n",
    "W funkcji forward zapisane są wszystkie obliczenia które są wykonywane kiedy wywołujemy dany moduł. Przykładowo: (nn = MyModule(); nn(x)). \n",
    "\n",
    "Kalkulacja wstecz (backwards) jest tworzona automatycznie, ale w razie potrzeby można ją też nadpisywać "
   ]
  },
  {
   "cell_type": "markdown",
   "metadata": {},
   "source": [
    "# Stwórzmy pierwsza sieć neuronową "
   ]
  },
  {
   "cell_type": "code",
   "execution_count": 77,
   "metadata": {
    "ExecuteTime": {
     "end_time": "2021-10-15T06:43:32.605680Z",
     "start_time": "2021-10-15T06:43:32.597437Z"
    }
   },
   "outputs": [],
   "source": [
    "class SimpleClassifier(nn.Module):\n",
    "\n",
    "    def __init__(self, num_inputs, num_hidden, num_outputs):\n",
    "        super().__init__()\n",
    "        # Initialize the modules we need to build the network\n",
    "        self.linear1 = nn.Linear(num_inputs, num_hidden)\n",
    "        self.act_fn = nn.Tanh()\n",
    "        self.linear2 = nn.Linear(num_hidden, num_outputs)\n",
    "#         self.linear3 = nn.Linear(num_hidden, num_outputs)\n",
    "\n",
    "    def forward(self, x):\n",
    "        # Perform the calculation of the model to determine the prediction\n",
    "        x = self.linear1(x)\n",
    "        x = self.act_fn(x)\n",
    "        x = self.linear2(x)\n",
    "#         x = self.act_fn(x)\n",
    "#         x = self.linear3(x)\n",
    "        return x"
   ]
  },
  {
   "cell_type": "markdown",
   "metadata": {},
   "source": [
    "Wypisywanie zawartości modelu"
   ]
  },
  {
   "cell_type": "code",
   "execution_count": 78,
   "metadata": {
    "ExecuteTime": {
     "end_time": "2021-10-15T06:43:36.560612Z",
     "start_time": "2021-10-15T06:43:36.554872Z"
    }
   },
   "outputs": [
    {
     "name": "stdout",
     "output_type": "stream",
     "text": [
      "SimpleClassifier(\n",
      "  (linear1): Linear(in_features=2, out_features=4, bias=True)\n",
      "  (act_fn): Tanh()\n",
      "  (linear2): Linear(in_features=4, out_features=1, bias=True)\n",
      ")\n"
     ]
    }
   ],
   "source": [
    "model = SimpleClassifier(num_inputs=2, num_hidden=4, num_outputs=1)\n",
    "model.cuda()\n",
    "# Printing a module shows all its submodules\n",
    "print(model)"
   ]
  },
  {
   "cell_type": "code",
   "execution_count": 79,
   "metadata": {},
   "outputs": [],
   "source": [
    "x = torch.Tensor(2).cuda()"
   ]
  },
  {
   "cell_type": "code",
   "execution_count": 80,
   "metadata": {},
   "outputs": [
    {
     "data": {
      "text/plain": [
       "tensor([-0.1667], device='cuda:0', grad_fn=<ViewBackward0>)"
      ]
     },
     "execution_count": 80,
     "metadata": {},
     "output_type": "execute_result"
    }
   ],
   "source": [
    "model.forward(x)\n",
    "model(x)"
   ]
  },
  {
   "cell_type": "markdown",
   "metadata": {},
   "source": [
    "Co tak właściwie mamy w środku?"
   ]
  },
  {
   "cell_type": "code",
   "execution_count": 81,
   "metadata": {
    "ExecuteTime": {
     "end_time": "2021-10-15T06:43:59.318323Z",
     "start_time": "2021-10-15T06:43:59.312691Z"
    },
    "scrolled": true
   },
   "outputs": [
    {
     "name": "stdout",
     "output_type": "stream",
     "text": [
      "Parameter linear1.weight, shape torch.Size([4, 2])\n",
      "Parameter linear1.bias, shape torch.Size([4])\n",
      "Parameter linear2.weight, shape torch.Size([1, 4])\n",
      "Parameter linear2.bias, shape torch.Size([1])\n"
     ]
    }
   ],
   "source": [
    "for name, param in model.named_parameters():\n",
    "    print(f\"Parameter {name}, shape {param.shape}\")"
   ]
  },
  {
   "cell_type": "markdown",
   "metadata": {},
   "source": [
    "## Activation functions"
   ]
  },
  {
   "cell_type": "code",
   "execution_count": 82,
   "metadata": {
    "ExecuteTime": {
     "end_time": "2021-10-15T06:46:24.004399Z",
     "start_time": "2021-10-15T06:46:23.999714Z"
    }
   },
   "outputs": [],
   "source": [
    "act_fn_by_name = {\n",
    "    \"sigmoid\": torch.sigmoid,\n",
    "    \"tanh\": torch.tanh,\n",
    "    \"relu\": F.relu,\n",
    "    \"leakyrelu\": F.leaky_relu\n",
    "}"
   ]
  },
  {
   "cell_type": "code",
   "execution_count": 83,
   "metadata": {
    "ExecuteTime": {
     "end_time": "2021-10-15T06:46:32.611689Z",
     "start_time": "2021-10-15T06:46:32.606580Z"
    }
   },
   "outputs": [],
   "source": [
    "def get_grads(act_fn, x):\n",
    "    x = x.clone().requires_grad_() # Mark the input as tensor for which we want to store gradients\n",
    "    out = act_fn(x)\n",
    "    out.sum().backward() # Summing results in an equal gradient flow to each element in x\n",
    "    return x.grad # Accessing the gradients of x by \"x.grad\""
   ]
  },
  {
   "cell_type": "code",
   "execution_count": 84,
   "metadata": {
    "ExecuteTime": {
     "end_time": "2021-10-15T06:46:34.798998Z",
     "start_time": "2021-10-15T06:46:34.324320Z"
    }
   },
   "outputs": [
    {
     "data": {
      "image/png": "[encoded data removed]",
      "text/plain": [
       "<Figure size 800x800 with 4 Axes>"
      ]
     },
     "metadata": {},
     "output_type": "display_data"
    }
   ],
   "source": [
    "%matplotlib inline\n",
    "def vis_act_fn(act_fn, name, ax, x):\n",
    "    # Run activation function\n",
    "    y = act_fn(x)\n",
    "    y_grads = get_grads(act_fn, x)\n",
    "    # Push x, y and gradients back to cpu for plotting\n",
    "    x, y, y_grads = x.cpu().numpy(), y.cpu().numpy(), y_grads.cpu().numpy()\n",
    "    ## Plotting\n",
    "    ax.plot(x, y, linewidth=2, label=\"ActFn\")\n",
    "    ax.plot(x, y_grads, linewidth=2, label=\"Gradient\")\n",
    "    ax.set_title(name)\n",
    "    ax.legend()\n",
    "    ax.set_ylim(-1.5, x.max())\n",
    "\n",
    "x = torch.linspace(-5, 5, 1000) # Range on which we want to visualize the activation functions\n",
    "## Plotting\n",
    "rows = math.ceil(len(act_fn_by_name)/2.0)\n",
    "fig, ax = plt.subplots(rows, 2, figsize=(8, rows*4))\n",
    "for i, name in enumerate(act_fn_by_name.keys()):\n",
    "    vis_act_fn(act_fn_by_name[name], name, ax[divmod(i,2)], x)\n",
    "fig.subplots_adjust(hspace=0.3)\n",
    "plt.show()\n",
    "plt.close()"
   ]
  },
  {
   "cell_type": "markdown",
   "metadata": {},
   "source": [
    "# Dane\n",
    "PyTorch posiada zaimplementowanych kilka funkcjonalności które pozwalają wczytywać i manipulować danymi. Znajdują się one w pakiecie torch.utils.data"
   ]
  },
  {
   "cell_type": "code",
   "execution_count": 85,
   "metadata": {
    "ExecuteTime": {
     "end_time": "2021-10-15T06:56:27.893031Z",
     "start_time": "2021-10-15T06:56:27.888726Z"
    }
   },
   "outputs": [],
   "source": [
    "import torch.utils.data as data"
   ]
  },
  {
   "cell_type": "markdown",
   "metadata": {},
   "source": [
    "Główną strukturą w ramach której przechowywane (lub niekoniecznie) są dane jest klasa Dataset. Stwórzmy sobie przykładowy zbiór danych - tzw. ciągły XOR. Przykład zaczerpnięty z https://uvadlc-notebooks.readthedocs.io/en/latest/tutorial_notebooks/tutorial2/Introduction_to_PyTorch.html#Learning-by-example:-Continuous-XOR"
   ]
  },
  {
   "cell_type": "code",
   "execution_count": 86,
   "metadata": {
    "ExecuteTime": {
     "end_time": "2021-10-15T06:58:31.045759Z",
     "start_time": "2021-10-15T06:58:31.033124Z"
    }
   },
   "outputs": [],
   "source": [
    "class XORDataset(data.Dataset):\n",
    "\n",
    "    def __init__(self, size, std=0.1):\n",
    "        \"\"\"\n",
    "        Inputs:\n",
    "            size - Number of data points we want to generate\n",
    "            std - Standard deviation of the noise (see generate_continuous_xor function)\n",
    "        \"\"\"\n",
    "        super().__init__()\n",
    "        self.size = size\n",
    "        self.std = std\n",
    "        self.generate_continuous_xor()\n",
    "\n",
    "    def generate_continuous_xor(self):\n",
    "        # Each data point in the XOR dataset has two variables, x and y, that can be either 0 or 1\n",
    "        # The label is their XOR combination, i.e. 1 if only x or only y is 1 while the other is 0.\n",
    "        # If x=y, the label is 0.\n",
    "        data = torch.randint(low=0, high=2, size=(self.size, 2), dtype=torch.float32)\n",
    "        label = (data.sum(dim=1) == 1).to(torch.long)\n",
    "        # To make it slightly more challenging, we add a bit of gaussian noise to the data points.\n",
    "        data += self.std * torch.randn(data.shape)\n",
    "\n",
    "        self.data = data\n",
    "        self.label = label\n",
    "\n",
    "    def __len__(self):\n",
    "        # Number of data point we have. Alternatively self.data.shape[0], or self.label.shape[0]\n",
    "        return self.size\n",
    "\n",
    "    def __getitem__(self, idx):\n",
    "        # Return the idx-th data point of the dataset\n",
    "        # If we have multiple things to return (data point and label), we can return them as tuple\n",
    "        data_point = self.data[idx]\n",
    "        data_label = self.label[idx]\n",
    "        return data_point, data_label"
   ]
  },
  {
   "cell_type": "code",
   "execution_count": 87,
   "metadata": {
    "ExecuteTime": {
     "end_time": "2021-10-15T06:58:37.098767Z",
     "start_time": "2021-10-15T06:58:37.091627Z"
    },
    "scrolled": true
   },
   "outputs": [
    {
     "name": "stdout",
     "output_type": "stream",
     "text": [
      "Size of dataset: 200\n",
      "Data point 0: (tensor([1.0719, 1.0572]), tensor(0))\n"
     ]
    }
   ],
   "source": [
    "dataset = XORDataset(size=200)\n",
    "print(\"Size of dataset:\", len(dataset))\n",
    "print(\"Data point 0:\", dataset[0])"
   ]
  },
  {
   "cell_type": "code",
   "execution_count": 88,
   "metadata": {
    "ExecuteTime": {
     "end_time": "2021-10-15T06:58:41.854203Z",
     "start_time": "2021-10-15T06:58:41.734789Z"
    }
   },
   "outputs": [
    {
     "data": {
      "image/png": "[encoded data removed]",
      "text/plain": [
       "<Figure size 400x400 with 1 Axes>"
      ]
     },
     "metadata": {},
     "output_type": "display_data"
    }
   ],
   "source": [
    "examples = dataset.data\n",
    "labels = dataset.label\n",
    "data_0 = examples[labels == 0]\n",
    "data_1 = examples[labels == 1]\n",
    "\n",
    "plt.figure(figsize=(4,4))\n",
    "plt.scatter(data_0[:,0], data_0[:,1], edgecolor=\"#333\", label=\"Class 0\")\n",
    "plt.scatter(data_1[:,0], data_1[:,1], edgecolor=\"#333\", label=\"Class 1\")\n",
    "plt.title(\"Dataset samples\")\n",
    "plt.legend()\n",
    "plt.show()"
   ]
  },
  {
   "cell_type": "markdown",
   "metadata": {},
   "source": [
    "## Data loaders (Ładowacze danych?!)"
   ]
  },
  {
   "cell_type": "code",
   "execution_count": 89,
   "metadata": {
    "ExecuteTime": {
     "end_time": "2021-10-15T07:02:17.519527Z",
     "start_time": "2021-10-15T07:02:17.514783Z"
    }
   },
   "outputs": [],
   "source": [
    "data_loader = data.DataLoader(dataset, batch_size=8, shuffle=True)"
   ]
  },
  {
   "cell_type": "code",
   "execution_count": 90,
   "metadata": {
    "ExecuteTime": {
     "end_time": "2021-10-15T07:02:33.724184Z",
     "start_time": "2021-10-15T07:02:33.715355Z"
    }
   },
   "outputs": [
    {
     "data": {
      "text/plain": [
       "[tensor([[ 1.0417,  0.9755],\n",
       "         [ 0.9950,  0.8257],\n",
       "         [ 1.0719,  1.0572],\n",
       "         [-0.0329,  0.9707],\n",
       "         [-0.0473,  0.9627],\n",
       "         [-0.1083,  0.9919],\n",
       "         [ 0.0137, -0.0680],\n",
       "         [ 0.2043,  1.1105]]),\n",
       " tensor([0, 0, 0, 1, 1, 1, 0, 1])]"
      ]
     },
     "execution_count": 90,
     "metadata": {},
     "output_type": "execute_result"
    }
   ],
   "source": [
    "next(iter(data_loader))"
   ]
  },
  {
   "cell_type": "code",
   "execution_count": 91,
   "metadata": {
    "ExecuteTime": {
     "end_time": "2021-10-15T07:03:36.174474Z",
     "start_time": "2021-10-15T07:03:36.169066Z"
    }
   },
   "outputs": [
    {
     "data": {
      "text/plain": [
       "25"
      ]
     },
     "execution_count": 91,
     "metadata": {},
     "output_type": "execute_result"
    }
   ],
   "source": [
    "len(data_loader)"
   ]
  },
  {
   "cell_type": "code",
   "execution_count": 92,
   "metadata": {
    "ExecuteTime": {
     "end_time": "2021-10-15T07:04:04.285129Z",
     "start_time": "2021-10-15T07:04:04.277946Z"
    }
   },
   "outputs": [
    {
     "data": {
      "text/plain": [
       "200"
      ]
     },
     "execution_count": 92,
     "metadata": {},
     "output_type": "execute_result"
    }
   ],
   "source": [
    "next(iter(data_loader))[0].shape[0]*len(data_loader)"
   ]
  },
  {
   "cell_type": "code",
   "execution_count": 93,
   "metadata": {
    "ExecuteTime": {
     "end_time": "2021-10-15T07:04:34.190206Z",
     "start_time": "2021-10-15T07:04:34.182718Z"
    }
   },
   "outputs": [
    {
     "data": {
      "text/plain": [
       "203"
      ]
     },
     "execution_count": 93,
     "metadata": {},
     "output_type": "execute_result"
    }
   ],
   "source": [
    "data_loader_2 = data.DataLoader(dataset, batch_size=7, shuffle=True)\n",
    "next(iter(data_loader_2))[0].shape[0]*len(data_loader_2)"
   ]
  },
  {
   "cell_type": "code",
   "execution_count": 94,
   "metadata": {
    "ExecuteTime": {
     "end_time": "2021-10-15T07:04:55.373439Z",
     "start_time": "2021-10-15T07:04:55.362483Z"
    }
   },
   "outputs": [
    {
     "data": {
      "text/plain": [
       "[tensor([[ 0.9400,  0.0203],\n",
       "         [ 1.0099, -0.2000],\n",
       "         [ 1.1746,  0.9582],\n",
       "         [-0.2086,  1.0789]]),\n",
       " tensor([1, 1, 0, 1])]"
      ]
     },
     "execution_count": 94,
     "metadata": {},
     "output_type": "execute_result"
    }
   ],
   "source": [
    "list(iter(data_loader_2))[-1]"
   ]
  },
  {
   "cell_type": "markdown",
   "metadata": {},
   "source": [
    "#### Drop last\n",
    "Parametr powodujący pominięcie ostatniego wsadu (batch)"
   ]
  },
  {
   "cell_type": "code",
   "execution_count": 95,
   "metadata": {
    "ExecuteTime": {
     "end_time": "2021-10-15T07:05:25.707981Z",
     "start_time": "2021-10-15T07:05:25.700236Z"
    },
    "scrolled": true
   },
   "outputs": [
    {
     "data": {
      "text/plain": [
       "196"
      ]
     },
     "execution_count": 95,
     "metadata": {},
     "output_type": "execute_result"
    }
   ],
   "source": [
    "data_loader_2 = data.DataLoader(dataset,batch_size=7, shuffle=True, drop_last=True)\n",
    "next(iter(data_loader_2))[0].shape[0]*len(data_loader_2)"
   ]
  },
  {
   "cell_type": "markdown",
   "metadata": {},
   "source": [
    "## Funkcje straty\n",
    "Na poprzednich zajęciach obliczaliśmy funkcję straty ręcznie wykonując operacje na tensorach. Jest to w pełni poprawne rozwiązanie, ale możemy też nie wymyślać koła na nowo, ale wykorzystać wbudowane moduły. Pełna lista dostępna tutaj: https://pytorch.org/docs/stable/nn.html#loss-functions"
   ]
  },
  {
   "cell_type": "code",
   "execution_count": 96,
   "metadata": {
    "ExecuteTime": {
     "end_time": "2021-10-15T07:23:49.066606Z",
     "start_time": "2021-10-15T07:23:49.057207Z"
    }
   },
   "outputs": [],
   "source": [
    "from mpl_toolkits.mplot3d import Axes3D\n",
    "import matplotlib.pyplot as plt\n",
    "%matplotlib inline"
   ]
  },
  {
   "cell_type": "code",
   "execution_count": 97,
   "metadata": {
    "ExecuteTime": {
     "end_time": "2021-10-15T07:24:03.454133Z",
     "start_time": "2021-10-15T07:24:03.447263Z"
    }
   },
   "outputs": [
    {
     "name": "stdout",
     "output_type": "stream",
     "text": [
      "tensor([0, 1, 2, 3, 4]) tensor([1., 1., 1., 1., 1.])\n"
     ]
    }
   ],
   "source": [
    "tensor_1 = torch.arange(5)\n",
    "tensor_2 = torch.ones(5)\n",
    "print(tensor_1, tensor_2)"
   ]
  },
  {
   "cell_type": "markdown",
   "metadata": {},
   "source": [
    "### Błąd średniokwadratowy (Mean Squared Error) lub L2Loss"
   ]
  },
  {
   "cell_type": "code",
   "execution_count": 98,
   "metadata": {
    "ExecuteTime": {
     "end_time": "2021-10-15T07:24:22.469112Z",
     "start_time": "2021-10-15T07:24:22.462160Z"
    },
    "scrolled": true
   },
   "outputs": [
    {
     "data": {
      "text/plain": [
       "tensor(3.)"
      ]
     },
     "execution_count": 98,
     "metadata": {},
     "output_type": "execute_result"
    }
   ],
   "source": [
    "loss = nn.MSELoss()\n",
    "loss(tensor_1,tensor_2)"
   ]
  },
  {
   "cell_type": "markdown",
   "metadata": {},
   "source": [
    "$ \\quad l_{n}=\\left(x_{n}-y_{n}\\right)^{2}$"
   ]
  },
  {
   "cell_type": "code",
   "execution_count": 99,
   "metadata": {
    "ExecuteTime": {
     "end_time": "2021-10-15T07:27:22.476676Z",
     "start_time": "2021-10-15T07:27:22.467395Z"
    }
   },
   "outputs": [
    {
     "name": "stdout",
     "output_type": "stream",
     "text": [
      "No reduction: tensor([1., 0., 1., 4., 9.])\n",
      "Mean: 3.0\n",
      "Sum: 15.0\n"
     ]
    }
   ],
   "source": [
    "loss = nn.MSELoss(reduction=\"none\")\n",
    "print(f\"No reduction: {loss(tensor_1,tensor_2)}\")\n",
    "loss = nn.MSELoss(reduction=\"mean\")\n",
    "print(f\"Mean: {loss(tensor_1,tensor_2)}\")\n",
    "loss = nn.MSELoss(reduction=\"sum\")\n",
    "print(f\"Sum: {loss(tensor_1,tensor_2)}\")"
   ]
  },
  {
   "cell_type": "code",
   "execution_count": 100,
   "metadata": {
    "ExecuteTime": {
     "end_time": "2021-10-15T07:28:00.314781Z",
     "start_time": "2021-10-15T07:28:00.307796Z"
    },
    "scrolled": true
   },
   "outputs": [
    {
     "data": {
      "text/plain": [
       "tensor(3.)"
      ]
     },
     "execution_count": 100,
     "metadata": {},
     "output_type": "execute_result"
    }
   ],
   "source": [
    "F.mse_loss(tensor_1, tensor_2)"
   ]
  },
  {
   "cell_type": "code",
   "execution_count": 101,
   "metadata": {
    "ExecuteTime": {
     "end_time": "2021-10-15T07:28:06.205007Z",
     "start_time": "2021-10-15T07:28:06.052756Z"
    },
    "scrolled": false
   },
   "outputs": [
    {
     "name": "stderr",
     "output_type": "stream",
     "text": [
      "/usr/local/lib/python3.8/dist-packages/torch/functional.py:504: UserWarning: torch.meshgrid: in an upcoming release, it will be required to pass the indexing argument. (Triggered internally at ../aten/src/ATen/native/TensorShape.cpp:3526.)\n",
      "  return _VF.meshgrid(tensors, **kwargs)  # type: ignore[attr-defined]\n"
     ]
    },
    {
     "data": {
      "image/png": "[encoded data removed]",
      "text/plain": [
       "<Figure size 640x480 with 1 Axes>"
      ]
     },
     "metadata": {},
     "output_type": "display_data"
    }
   ],
   "source": [
    "loss = nn.MSELoss(reduction=\"none\")\n",
    "x, y = torch.meshgrid(torch.linspace(0,10,100),torch.linspace(0,10,100))\n",
    "z = loss(x,y)\n",
    "\n",
    "fig = plt.figure()\n",
    "ax = fig.add_subplot(projection = '3d')\n",
    "#ax = fig.gca(projection='3d') - for older matplotlib\n",
    "\n",
    "ax.plot_trisurf(x.numpy().flatten(), y.numpy().flatten(), z.numpy().flatten(), linewidth=0.2, antialiased=True)\n",
    "\n",
    "plt.show()"
   ]
  },
  {
   "cell_type": "markdown",
   "metadata": {},
   "source": [
    "### Błąd bezwzględny (Mean absolute Error) lub L1Loss"
   ]
  },
  {
   "cell_type": "markdown",
   "metadata": {
    "ExecuteTime": {
     "end_time": "2021-10-08T20:04:21.482653Z",
     "start_time": "2021-10-08T20:04:21.475776Z"
    }
   },
   "source": [
    "$ \\quad l_{n}=\\left|x_{n}-y_{n}\\right|$"
   ]
  },
  {
   "cell_type": "code",
   "execution_count": 102,
   "metadata": {
    "ExecuteTime": {
     "end_time": "2021-10-15T07:30:20.809441Z",
     "start_time": "2021-10-15T07:30:20.798876Z"
    }
   },
   "outputs": [
    {
     "name": "stdout",
     "output_type": "stream",
     "text": [
      "tensor([0, 1, 2, 3, 4]) tensor([1., 1., 1., 1., 1.])\n"
     ]
    },
    {
     "data": {
      "text/plain": [
       "tensor(1.4000)"
      ]
     },
     "execution_count": 102,
     "metadata": {},
     "output_type": "execute_result"
    }
   ],
   "source": [
    "print(tensor_1, tensor_2)\n",
    "loss = nn.L1Loss()\n",
    "loss(tensor_1,tensor_2)"
   ]
  },
  {
   "cell_type": "code",
   "execution_count": 103,
   "metadata": {
    "ExecuteTime": {
     "end_time": "2021-10-15T07:30:24.982771Z",
     "start_time": "2021-10-15T07:30:24.974301Z"
    }
   },
   "outputs": [
    {
     "name": "stdout",
     "output_type": "stream",
     "text": [
      "No reduction: tensor([1., 0., 1., 2., 3.])\n",
      "Mean: 1.399999976158142\n",
      "Sum: 7.0\n"
     ]
    }
   ],
   "source": [
    "loss = nn.L1Loss(reduction=\"none\")\n",
    "print(f\"No reduction: {loss(tensor_1,tensor_2)}\")\n",
    "loss = nn.L1Loss(reduction=\"mean\")\n",
    "print(f\"Mean: {loss(tensor_1,tensor_2)}\")\n",
    "loss = nn.L1Loss(reduction=\"sum\")\n",
    "print(f\"Sum: {loss(tensor_1,tensor_2)}\")"
   ]
  },
  {
   "cell_type": "code",
   "execution_count": 104,
   "metadata": {
    "ExecuteTime": {
     "end_time": "2021-10-15T07:30:26.863924Z",
     "start_time": "2021-10-15T07:30:26.707699Z"
    }
   },
   "outputs": [
    {
     "data": {
      "image/png": "[encoded data removed]",
      "text/plain": [
       "<Figure size 640x480 with 1 Axes>"
      ]
     },
     "metadata": {},
     "output_type": "display_data"
    }
   ],
   "source": [
    "loss = nn.L1Loss(reduction=\"none\")\n",
    "x, y = torch.meshgrid(torch.linspace(0,10,100),torch.linspace(0,10,100))\n",
    "z = loss(x,y)\n",
    "\n",
    "fig = plt.figure()\n",
    "ax = fig.add_subplot(projection = '3d')\n",
    "#ax = fig.gca(projection='3d') - for older matplotlib\n",
    "\n",
    "ax.plot_trisurf(x.numpy().flatten(), y.numpy().flatten(), z.numpy().flatten(), linewidth=0.2, antialiased=True)\n",
    "    \n",
    "plt.show()"
   ]
  },
  {
   "cell_type": "markdown",
   "metadata": {},
   "source": [
    "### Entropia krzyżowa:\n",
    "$l_{n}=\\left[y_{n} \\cdot \\log x_{n}+\\left(1-y_{n}\\right) \\cdot \\log \\left(1-x_{n}\\right)\\right]$"
   ]
  },
  {
   "cell_type": "code",
   "execution_count": 105,
   "metadata": {
    "ExecuteTime": {
     "end_time": "2021-10-15T07:34:59.743694Z",
     "start_time": "2021-10-15T07:34:59.730893Z"
    }
   },
   "outputs": [
    {
     "name": "stdout",
     "output_type": "stream",
     "text": [
      "tensor([0.2433, 0.7601, 0.5816, 0.1037, 0.9418]) tensor([1., 1., 1., 1., 1.])\n"
     ]
    },
    {
     "data": {
      "text/plain": [
       "tensor([1.4136, 0.2743, 0.5420, 2.2667, 0.0599])"
      ]
     },
     "execution_count": 105,
     "metadata": {},
     "output_type": "execute_result"
    }
   ],
   "source": [
    "tensor_1 = torch.rand(5)\n",
    "tensor_2 = torch.ones(5)\n",
    "print(tensor_1, tensor_2)\n",
    "loss = nn.BCELoss(reduction=\"none\")\n",
    "loss(tensor_1,tensor_2)"
   ]
  },
  {
   "cell_type": "code",
   "execution_count": 106,
   "metadata": {
    "ExecuteTime": {
     "end_time": "2021-10-15T07:35:03.280234Z",
     "start_time": "2021-10-15T07:35:03.210393Z"
    },
    "scrolled": false
   },
   "outputs": [
    {
     "ename": "RuntimeError",
     "evalue": "all elements of input should be between 0 and 1",
     "output_type": "error",
     "traceback": [
      "\u001b[0;31m---------------------------------------------------------------------------\u001b[0m",
      "\u001b[0;31mRuntimeError\u001b[0m                              Traceback (most recent call last)",
      "Cell \u001b[0;32mIn [106], line 1\u001b[0m\n\u001b[0;32m----> 1\u001b[0m \u001b[43mloss\u001b[49m\u001b[43m(\u001b[49m\u001b[43mtensor_1\u001b[49m\u001b[38;5;241;43m*\u001b[39;49m\u001b[38;5;241;43m10\u001b[39;49m\u001b[43m,\u001b[49m\u001b[43mtensor_2\u001b[49m\u001b[43m)\u001b[49m\n",
      "File \u001b[0;32m/usr/local/lib/python3.8/dist-packages/torch/nn/modules/module.py:1518\u001b[0m, in \u001b[0;36mModule._wrapped_call_impl\u001b[0;34m(self, *args, **kwargs)\u001b[0m\n\u001b[1;32m   1516\u001b[0m     \u001b[38;5;28;01mreturn\u001b[39;00m \u001b[38;5;28mself\u001b[39m\u001b[38;5;241m.\u001b[39m_compiled_call_impl(\u001b[38;5;241m*\u001b[39margs, \u001b[38;5;241m*\u001b[39m\u001b[38;5;241m*\u001b[39mkwargs)  \u001b[38;5;66;03m# type: ignore[misc]\u001b[39;00m\n\u001b[1;32m   1517\u001b[0m \u001b[38;5;28;01melse\u001b[39;00m:\n\u001b[0;32m-> 1518\u001b[0m     \u001b[38;5;28;01mreturn\u001b[39;00m \u001b[38;5;28;43mself\u001b[39;49m\u001b[38;5;241;43m.\u001b[39;49m\u001b[43m_call_impl\u001b[49m\u001b[43m(\u001b[49m\u001b[38;5;241;43m*\u001b[39;49m\u001b[43margs\u001b[49m\u001b[43m,\u001b[49m\u001b[43m \u001b[49m\u001b[38;5;241;43m*\u001b[39;49m\u001b[38;5;241;43m*\u001b[39;49m\u001b[43mkwargs\u001b[49m\u001b[43m)\u001b[49m\n",
      "File \u001b[0;32m/usr/local/lib/python3.8/dist-packages/torch/nn/modules/module.py:1527\u001b[0m, in \u001b[0;36mModule._call_impl\u001b[0;34m(self, *args, **kwargs)\u001b[0m\n\u001b[1;32m   1522\u001b[0m \u001b[38;5;66;03m# If we don't have any hooks, we want to skip the rest of the logic in\u001b[39;00m\n\u001b[1;32m   1523\u001b[0m \u001b[38;5;66;03m# this function, and just call forward.\u001b[39;00m\n\u001b[1;32m   1524\u001b[0m \u001b[38;5;28;01mif\u001b[39;00m \u001b[38;5;129;01mnot\u001b[39;00m (\u001b[38;5;28mself\u001b[39m\u001b[38;5;241m.\u001b[39m_backward_hooks \u001b[38;5;129;01mor\u001b[39;00m \u001b[38;5;28mself\u001b[39m\u001b[38;5;241m.\u001b[39m_backward_pre_hooks \u001b[38;5;129;01mor\u001b[39;00m \u001b[38;5;28mself\u001b[39m\u001b[38;5;241m.\u001b[39m_forward_hooks \u001b[38;5;129;01mor\u001b[39;00m \u001b[38;5;28mself\u001b[39m\u001b[38;5;241m.\u001b[39m_forward_pre_hooks\n\u001b[1;32m   1525\u001b[0m         \u001b[38;5;129;01mor\u001b[39;00m _global_backward_pre_hooks \u001b[38;5;129;01mor\u001b[39;00m _global_backward_hooks\n\u001b[1;32m   1526\u001b[0m         \u001b[38;5;129;01mor\u001b[39;00m _global_forward_hooks \u001b[38;5;129;01mor\u001b[39;00m _global_forward_pre_hooks):\n\u001b[0;32m-> 1527\u001b[0m     \u001b[38;5;28;01mreturn\u001b[39;00m \u001b[43mforward_call\u001b[49m\u001b[43m(\u001b[49m\u001b[38;5;241;43m*\u001b[39;49m\u001b[43margs\u001b[49m\u001b[43m,\u001b[49m\u001b[43m \u001b[49m\u001b[38;5;241;43m*\u001b[39;49m\u001b[38;5;241;43m*\u001b[39;49m\u001b[43mkwargs\u001b[49m\u001b[43m)\u001b[49m\n\u001b[1;32m   1529\u001b[0m \u001b[38;5;28;01mtry\u001b[39;00m:\n\u001b[1;32m   1530\u001b[0m     result \u001b[38;5;241m=\u001b[39m \u001b[38;5;28;01mNone\u001b[39;00m\n",
      "File \u001b[0;32m/usr/local/lib/python3.8/dist-packages/torch/nn/modules/loss.py:618\u001b[0m, in \u001b[0;36mBCELoss.forward\u001b[0;34m(self, input, target)\u001b[0m\n\u001b[1;32m    617\u001b[0m \u001b[38;5;28;01mdef\u001b[39;00m \u001b[38;5;21mforward\u001b[39m(\u001b[38;5;28mself\u001b[39m, \u001b[38;5;28minput\u001b[39m: Tensor, target: Tensor) \u001b[38;5;241m-\u001b[39m\u001b[38;5;241m>\u001b[39m Tensor:\n\u001b[0;32m--> 618\u001b[0m     \u001b[38;5;28;01mreturn\u001b[39;00m \u001b[43mF\u001b[49m\u001b[38;5;241;43m.\u001b[39;49m\u001b[43mbinary_cross_entropy\u001b[49m\u001b[43m(\u001b[49m\u001b[38;5;28;43minput\u001b[39;49m\u001b[43m,\u001b[49m\u001b[43m \u001b[49m\u001b[43mtarget\u001b[49m\u001b[43m,\u001b[49m\u001b[43m \u001b[49m\u001b[43mweight\u001b[49m\u001b[38;5;241;43m=\u001b[39;49m\u001b[38;5;28;43mself\u001b[39;49m\u001b[38;5;241;43m.\u001b[39;49m\u001b[43mweight\u001b[49m\u001b[43m,\u001b[49m\u001b[43m \u001b[49m\u001b[43mreduction\u001b[49m\u001b[38;5;241;43m=\u001b[39;49m\u001b[38;5;28;43mself\u001b[39;49m\u001b[38;5;241;43m.\u001b[39;49m\u001b[43mreduction\u001b[49m\u001b[43m)\u001b[49m\n",
      "File \u001b[0;32m/usr/local/lib/python3.8/dist-packages/torch/nn/functional.py:3122\u001b[0m, in \u001b[0;36mbinary_cross_entropy\u001b[0;34m(input, target, weight, size_average, reduce, reduction)\u001b[0m\n\u001b[1;32m   3119\u001b[0m     new_size \u001b[38;5;241m=\u001b[39m _infer_size(target\u001b[38;5;241m.\u001b[39msize(), weight\u001b[38;5;241m.\u001b[39msize())\n\u001b[1;32m   3120\u001b[0m     weight \u001b[38;5;241m=\u001b[39m weight\u001b[38;5;241m.\u001b[39mexpand(new_size)\n\u001b[0;32m-> 3122\u001b[0m \u001b[38;5;28;01mreturn\u001b[39;00m \u001b[43mtorch\u001b[49m\u001b[38;5;241;43m.\u001b[39;49m\u001b[43m_C\u001b[49m\u001b[38;5;241;43m.\u001b[39;49m\u001b[43m_nn\u001b[49m\u001b[38;5;241;43m.\u001b[39;49m\u001b[43mbinary_cross_entropy\u001b[49m\u001b[43m(\u001b[49m\u001b[38;5;28;43minput\u001b[39;49m\u001b[43m,\u001b[49m\u001b[43m \u001b[49m\u001b[43mtarget\u001b[49m\u001b[43m,\u001b[49m\u001b[43m \u001b[49m\u001b[43mweight\u001b[49m\u001b[43m,\u001b[49m\u001b[43m \u001b[49m\u001b[43mreduction_enum\u001b[49m\u001b[43m)\u001b[49m\n",
      "\u001b[0;31mRuntimeError\u001b[0m: all elements of input should be between 0 and 1"
     ]
    }
   ],
   "source": [
    "loss(tensor_1*10,tensor_2)"
   ]
  },
  {
   "cell_type": "code",
   "execution_count": null,
   "metadata": {
    "ExecuteTime": {
     "end_time": "2021-10-15T07:40:54.408039Z",
     "start_time": "2021-10-15T07:40:54.401288Z"
    }
   },
   "outputs": [
    {
     "data": {
      "text/plain": [
       "tensor([0., 0., 0., 0., 0.])"
      ]
     },
     "execution_count": 110,
     "metadata": {},
     "output_type": "execute_result"
    }
   ],
   "source": [
    "loss = nn.BCEWithLogitsLoss(reduction=\"none\")\n",
    "loss(tensor_1*100,tensor_2)"
   ]
  },
  {
   "cell_type": "code",
   "execution_count": null,
   "metadata": {
    "ExecuteTime": {
     "end_time": "2021-10-15T07:41:06.608957Z",
     "start_time": "2021-10-15T07:41:06.400148Z"
    }
   },
   "outputs": [
    {
     "data": {
      "image/png": "[encoded data removed]",
      "text/plain": [
       "<Figure size 640x480 with 1 Axes>"
      ]
     },
     "metadata": {},
     "output_type": "display_data"
    }
   ],
   "source": [
    "loss = nn.BCEWithLogitsLoss(reduction=\"none\")\n",
    "x, y = torch.meshgrid(torch.linspace(-10,10,100),torch.linspace(-10,10,100))\n",
    "z = loss(x,y)\n",
    "\n",
    "fig = plt.figure()\n",
    "ax = fig.add_subplot(projection = '3d')\n",
    "#ax = fig.gca(projection='3d') - for older matplotlib\n",
    "\n",
    "ax.plot_trisurf(x.numpy().flatten(), y.numpy().flatten(), z.numpy().flatten(), linewidth=0.2, antialiased=True)\n",
    "\n",
    "plt.show()"
   ]
  },
  {
   "cell_type": "markdown",
   "metadata": {},
   "source": [
    "# Optymalizacja parametrów\n",
    "W przykładowym problemie optymalizacji parametrów regresji, ręcznie aktualizowaliśmy gradienty. W torch są do tego narzędzia zwane optymalizatorami, znajdują się one w pakiecie torch.optim\n",
    "\n",
    "Najprostszym optymalizaotrem jest algorytm stochastycznego spadku gradientu (Stochastic Gradient Descent) - SGD"
   ]
  },
  {
   "cell_type": "code",
   "execution_count": null,
   "metadata": {
    "ExecuteTime": {
     "end_time": "2021-10-15T07:43:48.800381Z",
     "start_time": "2021-10-15T07:43:48.794037Z"
    }
   },
   "outputs": [
    {
     "name": "stdout",
     "output_type": "stream",
     "text": [
      "SimpleClassifier(\n",
      "  (linear1): Linear(in_features=2, out_features=4, bias=True)\n",
      "  (act_fn): Tanh()\n",
      "  (linear2): Linear(in_features=4, out_features=1, bias=True)\n",
      ")\n"
     ]
    }
   ],
   "source": [
    "model = SimpleClassifier(num_inputs=2, num_hidden=4, num_outputs=1)\n",
    "print(model)"
   ]
  },
  {
   "cell_type": "code",
   "execution_count": null,
   "metadata": {
    "ExecuteTime": {
     "end_time": "2021-10-15T07:43:49.078656Z",
     "start_time": "2021-10-15T07:43:49.076336Z"
    }
   },
   "outputs": [],
   "source": [
    "optimizer = torch.optim.SGD(model.parameters(), lr = 0.1)"
   ]
  },
  {
   "cell_type": "markdown",
   "metadata": {},
   "source": [
    "## Połączmy to wszystko razem"
   ]
  },
  {
   "cell_type": "code",
   "execution_count": null,
   "metadata": {
    "ExecuteTime": {
     "end_time": "2021-10-15T07:44:18.983845Z",
     "start_time": "2021-10-15T07:44:18.978346Z"
    }
   },
   "outputs": [],
   "source": [
    "train_dataset = XORDataset(size=1000)\n",
    "train_data_loader = data.DataLoader(train_dataset, batch_size=128, shuffle=True)"
   ]
  },
  {
   "cell_type": "code",
   "execution_count": null,
   "metadata": {
    "ExecuteTime": {
     "end_time": "2021-10-15T07:44:36.326493Z",
     "start_time": "2021-10-15T07:44:36.306043Z"
    }
   },
   "outputs": [
    {
     "data": {
      "text/plain": [
       "SimpleClassifier(\n",
       "  (linear1): Linear(in_features=2, out_features=4, bias=True)\n",
       "  (act_fn): Tanh()\n",
       "  (linear2): Linear(in_features=4, out_features=1, bias=True)\n",
       ")"
      ]
     },
     "execution_count": 115,
     "metadata": {},
     "output_type": "execute_result"
    }
   ],
   "source": [
    "model = SimpleClassifier(num_inputs=2, num_hidden=4, num_outputs=1)\n",
    "model.to(device)"
   ]
  },
  {
   "cell_type": "code",
   "execution_count": null,
   "metadata": {
    "ExecuteTime": {
     "end_time": "2021-10-15T07:45:02.741675Z",
     "start_time": "2021-10-15T07:45:02.737243Z"
    }
   },
   "outputs": [],
   "source": [
    "optimizer = torch.optim.SGD(model.parameters(), lr = 0.1)"
   ]
  },
  {
   "cell_type": "code",
   "execution_count": null,
   "metadata": {
    "ExecuteTime": {
     "end_time": "2021-10-15T07:46:29.841453Z",
     "start_time": "2021-10-15T07:46:29.837141Z"
    }
   },
   "outputs": [],
   "source": [
    "loss_module = nn.BCEWithLogitsLoss()"
   ]
  },
  {
   "cell_type": "code",
   "execution_count": null,
   "metadata": {
    "ExecuteTime": {
     "end_time": "2021-10-15T07:50:48.258366Z",
     "start_time": "2021-10-15T07:50:46.369532Z"
    },
    "scrolled": true
   },
   "outputs": [
    {
     "name": "stdout",
     "output_type": "stream",
     "text": [
      "Epoch: 0, loss: 0.714\n",
      "Epoch: 1, loss: 0.698\n",
      "Epoch: 2, loss: 0.69\n",
      "Epoch: 3, loss: 0.693\n",
      "Epoch: 4, loss: 0.697\n",
      "Epoch: 5, loss: 0.691\n",
      "Epoch: 6, loss: 0.691\n",
      "Epoch: 7, loss: 0.696\n",
      "Epoch: 8, loss: 0.687\n",
      "Epoch: 9, loss: 0.687\n",
      "Epoch: 10, loss: 0.689\n",
      "Epoch: 11, loss: 0.692\n",
      "Epoch: 12, loss: 0.698\n",
      "Epoch: 13, loss: 0.688\n",
      "Epoch: 14, loss: 0.694\n",
      "Epoch: 15, loss: 0.678\n",
      "Epoch: 16, loss: 0.681\n",
      "Epoch: 17, loss: 0.689\n",
      "Epoch: 18, loss: 0.69\n",
      "Epoch: 19, loss: 0.693\n",
      "Epoch: 20, loss: 0.678\n",
      "Epoch: 21, loss: 0.676\n",
      "Epoch: 22, loss: 0.697\n",
      "Epoch: 23, loss: 0.696\n",
      "Epoch: 24, loss: 0.674\n",
      "Epoch: 25, loss: 0.672\n",
      "Epoch: 26, loss: 0.682\n",
      "Epoch: 27, loss: 0.683\n",
      "Epoch: 28, loss: 0.7\n",
      "Epoch: 29, loss: 0.691\n",
      "Epoch: 30, loss: 0.668\n",
      "Epoch: 31, loss: 0.674\n",
      "Epoch: 32, loss: 0.676\n",
      "Epoch: 33, loss: 0.671\n",
      "Epoch: 34, loss: 0.676\n",
      "Epoch: 35, loss: 0.677\n",
      "Epoch: 36, loss: 0.668\n",
      "Epoch: 37, loss: 0.657\n",
      "Epoch: 38, loss: 0.641\n",
      "Epoch: 39, loss: 0.641\n",
      "Epoch: 40, loss: 0.658\n",
      "Epoch: 41, loss: 0.646\n",
      "Epoch: 42, loss: 0.659\n",
      "Epoch: 43, loss: 0.661\n",
      "Epoch: 44, loss: 0.66\n",
      "Epoch: 45, loss: 0.656\n",
      "Epoch: 46, loss: 0.653\n",
      "Epoch: 47, loss: 0.665\n",
      "Epoch: 48, loss: 0.626\n",
      "Epoch: 49, loss: 0.612\n",
      "Epoch: 50, loss: 0.625\n",
      "Epoch: 51, loss: 0.663\n",
      "Epoch: 52, loss: 0.639\n",
      "Epoch: 53, loss: 0.599\n",
      "Epoch: 54, loss: 0.604\n",
      "Epoch: 55, loss: 0.625\n",
      "Epoch: 56, loss: 0.6\n",
      "Epoch: 57, loss: 0.589\n",
      "Epoch: 58, loss: 0.602\n",
      "Epoch: 59, loss: 0.622\n",
      "Epoch: 60, loss: 0.625\n",
      "Epoch: 61, loss: 0.569\n",
      "Epoch: 62, loss: 0.537\n",
      "Epoch: 63, loss: 0.548\n",
      "Epoch: 64, loss: 0.58\n",
      "Epoch: 65, loss: 0.611\n",
      "Epoch: 66, loss: 0.563\n",
      "Epoch: 67, loss: 0.522\n",
      "Epoch: 68, loss: 0.528\n",
      "Epoch: 69, loss: 0.589\n",
      "Epoch: 70, loss: 0.574\n",
      "Epoch: 71, loss: 0.534\n",
      "Epoch: 72, loss: 0.53\n",
      "Epoch: 73, loss: 0.538\n",
      "Epoch: 74, loss: 0.507\n",
      "Epoch: 75, loss: 0.498\n",
      "Epoch: 76, loss: 0.497\n",
      "Epoch: 77, loss: 0.492\n",
      "Epoch: 78, loss: 0.515\n",
      "Epoch: 79, loss: 0.487\n",
      "Epoch: 80, loss: 0.499\n",
      "Epoch: 81, loss: 0.497\n",
      "Epoch: 82, loss: 0.495\n",
      "Epoch: 83, loss: 0.454\n",
      "Epoch: 84, loss: 0.475\n",
      "Epoch: 85, loss: 0.449\n",
      "Epoch: 86, loss: 0.443\n",
      "Epoch: 87, loss: 0.444\n",
      "Epoch: 88, loss: 0.418\n",
      "Epoch: 89, loss: 0.4\n",
      "Epoch: 90, loss: 0.419\n",
      "Epoch: 91, loss: 0.374\n",
      "Epoch: 92, loss: 0.403\n",
      "Epoch: 93, loss: 0.404\n",
      "Epoch: 94, loss: 0.381\n",
      "Epoch: 95, loss: 0.352\n",
      "Epoch: 96, loss: 0.384\n",
      "Epoch: 97, loss: 0.337\n",
      "Epoch: 98, loss: 0.327\n",
      "Epoch: 99, loss: 0.323\n"
     ]
    }
   ],
   "source": [
    "model.train() \n",
    "\n",
    "# Training loop\n",
    "for epoch in range(100):\n",
    "    for data_inputs, data_labels in train_data_loader:\n",
    "\n",
    "        ## Step 1: Move input data to device (only strictly necessary if we use GPU)\n",
    "        data_inputs = data_inputs.to(device)\n",
    "        data_labels = data_labels.to(device)\n",
    "\n",
    "        ## Step 2: Run the model on the input data\n",
    "        preds = model(data_inputs)\n",
    "        preds = preds.squeeze(dim=1) # Output is [Batch size, 1], but we want [Batch size]\n",
    "\n",
    "        ## Step 3: Calculate the loss\n",
    "        loss = loss_module(preds, data_labels.float())\n",
    "\n",
    "        ## Step 4: Perform backpropagation\n",
    "        # Before calculating the gradients, we need to ensure that they are all zero. \n",
    "        # The gradients would not be overwritten, but actually added to the existing ones.\n",
    "        optimizer.zero_grad() \n",
    "        # Perform backpropagation\n",
    "        loss.backward()\n",
    "\n",
    "        ## Step 5: Update the parameters\n",
    "        optimizer.step()\n",
    "    print(f\"Epoch: {epoch}, loss: {loss.item():.3}\")"
   ]
  },
  {
   "cell_type": "markdown",
   "metadata": {},
   "source": [
    "### Ewaluacja"
   ]
  },
  {
   "cell_type": "code",
   "execution_count": null,
   "metadata": {
    "ExecuteTime": {
     "end_time": "2021-10-15T07:51:38.845537Z",
     "start_time": "2021-10-15T07:51:38.840121Z"
    }
   },
   "outputs": [],
   "source": [
    "test_dataset = XORDataset(size=500)\n",
    "# drop_last -> Don't drop the last batch although it is smaller than 128\n",
    "test_data_loader = data.DataLoader(test_dataset, batch_size=128, shuffle=False, drop_last=False)"
   ]
  },
  {
   "cell_type": "code",
   "execution_count": null,
   "metadata": {
    "ExecuteTime": {
     "end_time": "2021-10-15T07:53:40.557355Z",
     "start_time": "2021-10-15T07:53:40.525176Z"
    }
   },
   "outputs": [
    {
     "name": "stdout",
     "output_type": "stream",
     "text": [
      "Accuracy of the model: 99.40%\n"
     ]
    }
   ],
   "source": [
    "model.eval() # Set model to eval mode\n",
    "true_preds, num_preds = 0., 0.\n",
    "\n",
    "with torch.no_grad(): # Deactivate gradients for the following code\n",
    "    for data_inputs, data_labels in test_data_loader:\n",
    "\n",
    "        # Determine prediction of model on dev set\n",
    "        data_inputs, data_labels = data_inputs.to(device), data_labels.to(device)\n",
    "        preds = model(data_inputs)\n",
    "        preds = preds.squeeze(dim=1)\n",
    "        preds = torch.sigmoid(preds) # Sigmoid to map predictions between 0 and 1\n",
    "        pred_labels = (preds >= 0.5).long() # Binarize predictions to 0 and 1\n",
    "\n",
    "        # Keep records of predictions for the accuracy metric (true_preds=TP+TN, num_preds=TP+TN+FP+FN)\n",
    "        true_preds += (pred_labels == data_labels).sum()\n",
    "        num_preds += data_labels.shape[0]\n",
    "\n",
    "acc = true_preds / num_preds\n",
    "print(f\"Accuracy of the model: {100.0*acc:4.2f}%\")"
   ]
  },
  {
   "cell_type": "code",
   "execution_count": null,
   "metadata": {
    "ExecuteTime": {
     "end_time": "2021-10-15T07:54:21.054767Z",
     "start_time": "2021-10-15T07:54:21.050577Z"
    }
   },
   "outputs": [],
   "source": [
    "from matplotlib.colors import to_rgba"
   ]
  },
  {
   "cell_type": "code",
   "execution_count": null,
   "metadata": {
    "ExecuteTime": {
     "end_time": "2021-10-15T07:54:23.136789Z",
     "start_time": "2021-10-15T07:54:23.089427Z"
    }
   },
   "outputs": [
    {
     "data": {
      "image/png": "[encoded data removed]",
      "text/plain": [
       "<Figure size 400x400 with 1 Axes>"
      ]
     },
     "metadata": {},
     "output_type": "display_data"
    }
   ],
   "source": [
    "%matplotlib inline\n",
    "with torch.no_grad():\n",
    "    data = test_dataset.data.cpu().numpy()\n",
    "    label = test_dataset.label.cpu().numpy()\n",
    "    data_0 = data[label == 0]\n",
    "    data_1 = data[label == 1]\n",
    "\n",
    "    plt.figure(figsize=(4,4))\n",
    "    plt.scatter(data_0[:,0], data_0[:,1], edgecolor=\"#333\", label=\"Class 0\")\n",
    "    plt.scatter(data_1[:,0], data_1[:,1], edgecolor=\"#333\", label=\"Class 1\")\n",
    "    plt.title(\"Dataset samples\")\n",
    "    plt.ylabel(r\"$x_2$\")\n",
    "    plt.xlabel(r\"$x_1$\")\n",
    "    plt.legend()\n",
    "\n",
    "    # Let's make use of a lot of operations we have learned above\n",
    "    model.to(device)\n",
    "    c0 = torch.Tensor(to_rgba(\"C0\")).to(device)\n",
    "    c1 = torch.Tensor(to_rgba(\"C1\")).to(device)\n",
    "    x1 = torch.arange(-0.5, 1.5, step=0.01, device=device)\n",
    "    x2 = torch.arange(-0.5, 1.5, step=0.01, device=device)\n",
    "    xx1, xx2 = torch.meshgrid(x1, x2) # Meshgrid function as in numpy\n",
    "    model_inputs = torch.stack([xx1, xx2], dim=-1)\n",
    "    preds = model(model_inputs)\n",
    "    preds = torch.sigmoid(preds)\n",
    "    output_image = preds * c0[None,None] + (1 - preds) * c1[None,None] # Specifying \"None\" in a dimension creates a new one\n",
    "    output_image = output_image.cpu().numpy() # Convert to numpy array. This only works for tensors on CPU, hence first push to CPU\n",
    "    plt.imshow(output_image, origin='upper', extent=(-0.5, 1.5, -0.5, 1.5))\n",
    "    plt.grid(False)"
   ]
  },
  {
   "cell_type": "markdown",
   "metadata": {},
   "source": [
    "## Zapisywanie i wczytywanie modelu"
   ]
  },
  {
   "cell_type": "code",
   "execution_count": null,
   "metadata": {
    "ExecuteTime": {
     "end_time": "2021-10-15T07:58:49.846379Z",
     "start_time": "2021-10-15T07:58:49.834095Z"
    }
   },
   "outputs": [
    {
     "name": "stdout",
     "output_type": "stream",
     "text": [
      "OrderedDict([('linear1.weight', tensor([[ 0.6508, -0.8706],\n",
      "        [ 0.2034, -0.8791],\n",
      "        [ 2.4620, -2.4011],\n",
      "        [ 1.0299, -0.6400]], device='cuda:0')), ('linear1.bias', tensor([-0.2122,  0.6096,  1.3602, -0.4238], device='cuda:0')), ('linear2.weight', tensor([[ 0.7289,  1.0859, -2.4915,  1.3446]], device='cuda:0')), ('linear2.bias', tensor([1.1928], device='cuda:0'))])\n"
     ]
    }
   ],
   "source": [
    "model = model.to(device)\n",
    "state_dict = model.state_dict()\n",
    "print(state_dict)"
   ]
  },
  {
   "cell_type": "code",
   "execution_count": null,
   "metadata": {
    "ExecuteTime": {
     "end_time": "2021-10-15T07:58:50.958873Z",
     "start_time": "2021-10-15T07:58:50.953220Z"
    }
   },
   "outputs": [],
   "source": [
    "model = model.to(device)\n",
    "torch.save(state_dict, \"simple_model.tar\")"
   ]
  },
  {
   "cell_type": "code",
   "execution_count": null,
   "metadata": {
    "ExecuteTime": {
     "end_time": "2021-10-15T07:59:31.488723Z",
     "start_time": "2021-10-15T07:59:31.462882Z"
    }
   },
   "outputs": [],
   "source": [
    "torch.save(model,\"test\")"
   ]
  },
  {
   "cell_type": "code",
   "execution_count": null,
   "metadata": {
    "ExecuteTime": {
     "end_time": "2021-10-15T07:59:05.568057Z",
     "start_time": "2021-10-15T07:59:05.547564Z"
    }
   },
   "outputs": [
    {
     "name": "stdout",
     "output_type": "stream",
     "text": [
      "Original model\n",
      " OrderedDict([('linear1.weight', tensor([[ 0.6508, -0.8706],\n",
      "        [ 0.2034, -0.8791],\n",
      "        [ 2.4620, -2.4011],\n",
      "        [ 1.0299, -0.6400]], device='cuda:0')), ('linear1.bias', tensor([-0.2122,  0.6096,  1.3602, -0.4238], device='cuda:0')), ('linear2.weight', tensor([[ 0.7289,  1.0859, -2.4915,  1.3446]], device='cuda:0')), ('linear2.bias', tensor([1.1928], device='cuda:0'))])\n",
      "\n",
      "Loaded model\n",
      " OrderedDict([('linear1.weight', tensor([[ 0.6508, -0.8706],\n",
      "        [ 0.2034, -0.8791],\n",
      "        [ 2.4620, -2.4011],\n",
      "        [ 1.0299, -0.6400]], device='cuda:0')), ('linear1.bias', tensor([-0.2122,  0.6096,  1.3602, -0.4238], device='cuda:0')), ('linear2.weight', tensor([[ 0.7289,  1.0859, -2.4915,  1.3446]], device='cuda:0')), ('linear2.bias', tensor([1.1928], device='cuda:0'))])\n"
     ]
    }
   ],
   "source": [
    "# Load state dict from the disk (make sure it is the same name as above)\n",
    "state_dict = torch.load(\"simple_model.tar\")\n",
    "\n",
    "# Create a new model and load the state\n",
    "new_model = SimpleClassifier(num_inputs=2, num_hidden=4, num_outputs=1).to(device)\n",
    "new_model.load_state_dict(state_dict)\n",
    "# Verify that the parameters are the same\n",
    "print(\"Original model\\n\", model.state_dict())\n",
    "print(\"\\nLoaded model\\n\", new_model.state_dict())"
   ]
  },
  {
   "cell_type": "markdown",
   "metadata": {},
   "source": [
    "## Zrób to sam. Polecane przećwiczyć przed kolejnymi ćwiczeniami.\n",
    "\n",
    "Spróbujmy przewidzieć ocenę wina na podstawie jego parametrów"
   ]
  },
  {
   "cell_type": "code",
   "execution_count": null,
   "metadata": {
    "ExecuteTime": {
     "end_time": "2021-10-11T15:54:03.496453Z",
     "start_time": "2021-10-11T15:53:59.598809Z"
    }
   },
   "outputs": [],
   "source": [
    "import pandas as pd\n",
    "df = pd.read_csv('https://archive.ics.uci.edu/ml/machine-learning-databases/wine-quality/winequality-white.csv', delimiter=\";\")"
   ]
  },
  {
   "cell_type": "code",
   "execution_count": null,
   "metadata": {
    "ExecuteTime": {
     "end_time": "2021-10-11T15:54:05.452669Z",
     "start_time": "2021-10-11T15:54:05.424031Z"
    }
   },
   "outputs": [
    {
     "data": {
      "text/html": [
       "<div>\n",
       "<style scoped>\n",
       "    .dataframe tbody tr th:only-of-type {\n",
       "        vertical-align: middle;\n",
       "    }\n",
       "\n",
       "    .dataframe tbody tr th {\n",
       "        vertical-align: top;\n",
       "    }\n",
       "\n",
       "    .dataframe thead th {\n",
       "        text-align: right;\n",
       "    }\n",
       "</style>\n",
       "<table border=\"1\" class=\"dataframe\">\n",
       "  <thead>\n",
       "    <tr style=\"text-align: right;\">\n",
       "      <th></th>\n",
       "      <th>fixed acidity</th>\n",
       "      <th>volatile acidity</th>\n",
       "      <th>citric acid</th>\n",
       "      <th>residual sugar</th>\n",
       "      <th>chlorides</th>\n",
       "      <th>free sulfur dioxide</th>\n",
       "      <th>total sulfur dioxide</th>\n",
       "      <th>density</th>\n",
       "      <th>pH</th>\n",
       "      <th>sulphates</th>\n",
       "      <th>alcohol</th>\n",
       "      <th>quality</th>\n",
       "    </tr>\n",
       "  </thead>\n",
       "  <tbody>\n",
       "    <tr>\n",
       "      <th>0</th>\n",
       "      <td>7.0</td>\n",
       "      <td>0.27</td>\n",
       "      <td>0.36</td>\n",
       "      <td>20.7</td>\n",
       "      <td>0.045</td>\n",
       "      <td>45.0</td>\n",
       "      <td>170.0</td>\n",
       "      <td>1.00100</td>\n",
       "      <td>3.00</td>\n",
       "      <td>0.45</td>\n",
       "      <td>8.8</td>\n",
       "      <td>6</td>\n",
       "    </tr>\n",
       "    <tr>\n",
       "      <th>1</th>\n",
       "      <td>6.3</td>\n",
       "      <td>0.30</td>\n",
       "      <td>0.34</td>\n",
       "      <td>1.6</td>\n",
       "      <td>0.049</td>\n",
       "      <td>14.0</td>\n",
       "      <td>132.0</td>\n",
       "      <td>0.99400</td>\n",
       "      <td>3.30</td>\n",
       "      <td>0.49</td>\n",
       "      <td>9.5</td>\n",
       "      <td>6</td>\n",
       "    </tr>\n",
       "    <tr>\n",
       "      <th>2</th>\n",
       "      <td>8.1</td>\n",
       "      <td>0.28</td>\n",
       "      <td>0.40</td>\n",
       "      <td>6.9</td>\n",
       "      <td>0.050</td>\n",
       "      <td>30.0</td>\n",
       "      <td>97.0</td>\n",
       "      <td>0.99510</td>\n",
       "      <td>3.26</td>\n",
       "      <td>0.44</td>\n",
       "      <td>10.1</td>\n",
       "      <td>6</td>\n",
       "    </tr>\n",
       "    <tr>\n",
       "      <th>3</th>\n",
       "      <td>7.2</td>\n",
       "      <td>0.23</td>\n",
       "      <td>0.32</td>\n",
       "      <td>8.5</td>\n",
       "      <td>0.058</td>\n",
       "      <td>47.0</td>\n",
       "      <td>186.0</td>\n",
       "      <td>0.99560</td>\n",
       "      <td>3.19</td>\n",
       "      <td>0.40</td>\n",
       "      <td>9.9</td>\n",
       "      <td>6</td>\n",
       "    </tr>\n",
       "    <tr>\n",
       "      <th>4</th>\n",
       "      <td>7.2</td>\n",
       "      <td>0.23</td>\n",
       "      <td>0.32</td>\n",
       "      <td>8.5</td>\n",
       "      <td>0.058</td>\n",
       "      <td>47.0</td>\n",
       "      <td>186.0</td>\n",
       "      <td>0.99560</td>\n",
       "      <td>3.19</td>\n",
       "      <td>0.40</td>\n",
       "      <td>9.9</td>\n",
       "      <td>6</td>\n",
       "    </tr>\n",
       "    <tr>\n",
       "      <th>...</th>\n",
       "      <td>...</td>\n",
       "      <td>...</td>\n",
       "      <td>...</td>\n",
       "      <td>...</td>\n",
       "      <td>...</td>\n",
       "      <td>...</td>\n",
       "      <td>...</td>\n",
       "      <td>...</td>\n",
       "      <td>...</td>\n",
       "      <td>...</td>\n",
       "      <td>...</td>\n",
       "      <td>...</td>\n",
       "    </tr>\n",
       "    <tr>\n",
       "      <th>4893</th>\n",
       "      <td>6.2</td>\n",
       "      <td>0.21</td>\n",
       "      <td>0.29</td>\n",
       "      <td>1.6</td>\n",
       "      <td>0.039</td>\n",
       "      <td>24.0</td>\n",
       "      <td>92.0</td>\n",
       "      <td>0.99114</td>\n",
       "      <td>3.27</td>\n",
       "      <td>0.50</td>\n",
       "      <td>11.2</td>\n",
       "      <td>6</td>\n",
       "    </tr>\n",
       "    <tr>\n",
       "      <th>4894</th>\n",
       "      <td>6.6</td>\n",
       "      <td>0.32</td>\n",
       "      <td>0.36</td>\n",
       "      <td>8.0</td>\n",
       "      <td>0.047</td>\n",
       "      <td>57.0</td>\n",
       "      <td>168.0</td>\n",
       "      <td>0.99490</td>\n",
       "      <td>3.15</td>\n",
       "      <td>0.46</td>\n",
       "      <td>9.6</td>\n",
       "      <td>5</td>\n",
       "    </tr>\n",
       "    <tr>\n",
       "      <th>4895</th>\n",
       "      <td>6.5</td>\n",
       "      <td>0.24</td>\n",
       "      <td>0.19</td>\n",
       "      <td>1.2</td>\n",
       "      <td>0.041</td>\n",
       "      <td>30.0</td>\n",
       "      <td>111.0</td>\n",
       "      <td>0.99254</td>\n",
       "      <td>2.99</td>\n",
       "      <td>0.46</td>\n",
       "      <td>9.4</td>\n",
       "      <td>6</td>\n",
       "    </tr>\n",
       "    <tr>\n",
       "      <th>4896</th>\n",
       "      <td>5.5</td>\n",
       "      <td>0.29</td>\n",
       "      <td>0.30</td>\n",
       "      <td>1.1</td>\n",
       "      <td>0.022</td>\n",
       "      <td>20.0</td>\n",
       "      <td>110.0</td>\n",
       "      <td>0.98869</td>\n",
       "      <td>3.34</td>\n",
       "      <td>0.38</td>\n",
       "      <td>12.8</td>\n",
       "      <td>7</td>\n",
       "    </tr>\n",
       "    <tr>\n",
       "      <th>4897</th>\n",
       "      <td>6.0</td>\n",
       "      <td>0.21</td>\n",
       "      <td>0.38</td>\n",
       "      <td>0.8</td>\n",
       "      <td>0.020</td>\n",
       "      <td>22.0</td>\n",
       "      <td>98.0</td>\n",
       "      <td>0.98941</td>\n",
       "      <td>3.26</td>\n",
       "      <td>0.32</td>\n",
       "      <td>11.8</td>\n",
       "      <td>6</td>\n",
       "    </tr>\n",
       "  </tbody>\n",
       "</table>\n",
       "<p>4898 rows × 12 columns</p>\n",
       "</div>"
      ],
      "text/plain": [
       "      fixed acidity  volatile acidity  citric acid  residual sugar  chlorides  \\\n",
       "0               7.0              0.27         0.36            20.7      0.045   \n",
       "1               6.3              0.30         0.34             1.6      0.049   \n",
       "2               8.1              0.28         0.40             6.9      0.050   \n",
       "3               7.2              0.23         0.32             8.5      0.058   \n",
       "4               7.2              0.23         0.32             8.5      0.058   \n",
       "...             ...               ...          ...             ...        ...   \n",
       "4893            6.2              0.21         0.29             1.6      0.039   \n",
       "4894            6.6              0.32         0.36             8.0      0.047   \n",
       "4895            6.5              0.24         0.19             1.2      0.041   \n",
       "4896            5.5              0.29         0.30             1.1      0.022   \n",
       "4897            6.0              0.21         0.38             0.8      0.020   \n",
       "\n",
       "      free sulfur dioxide  total sulfur dioxide  density    pH  sulphates  \\\n",
       "0                    45.0                 170.0  1.00100  3.00       0.45   \n",
       "1                    14.0                 132.0  0.99400  3.30       0.49   \n",
       "2                    30.0                  97.0  0.99510  3.26       0.44   \n",
       "3                    47.0                 186.0  0.99560  3.19       0.40   \n",
       "4                    47.0                 186.0  0.99560  3.19       0.40   \n",
       "...                   ...                   ...      ...   ...        ...   \n",
       "4893                 24.0                  92.0  0.99114  3.27       0.50   \n",
       "4894                 57.0                 168.0  0.99490  3.15       0.46   \n",
       "4895                 30.0                 111.0  0.99254  2.99       0.46   \n",
       "4896                 20.0                 110.0  0.98869  3.34       0.38   \n",
       "4897                 22.0                  98.0  0.98941  3.26       0.32   \n",
       "\n",
       "      alcohol  quality  \n",
       "0         8.8        6  \n",
       "1         9.5        6  \n",
       "2        10.1        6  \n",
       "3         9.9        6  \n",
       "4         9.9        6  \n",
       "...       ...      ...  \n",
       "4893     11.2        6  \n",
       "4894      9.6        5  \n",
       "4895      9.4        6  \n",
       "4896     12.8        7  \n",
       "4897     11.8        6  \n",
       "\n",
       "[4898 rows x 12 columns]"
      ]
     },
     "execution_count": 128,
     "metadata": {},
     "output_type": "execute_result"
    }
   ],
   "source": [
    "df"
   ]
  },
  {
   "cell_type": "markdown",
   "metadata": {},
   "source": [
    "#### ... Jakieś wstępne przetwarzanie danych?"
   ]
  },
  {
   "cell_type": "code",
   "execution_count": null,
   "metadata": {
    "ExecuteTime": {
     "end_time": "2021-10-09T07:01:02.263945Z",
     "start_time": "2021-10-09T07:01:02.252840Z"
    }
   },
   "outputs": [],
   "source": [
    "train=df.sample(frac=0.8,random_state=200) #random state is a seed value\n",
    "test=df.drop(train.index)"
   ]
  },
  {
   "cell_type": "code",
   "execution_count": null,
   "metadata": {
    "ExecuteTime": {
     "end_time": "2021-10-09T07:02:23.882290Z",
     "start_time": "2021-10-09T07:02:23.878126Z"
    }
   },
   "outputs": [],
   "source": [
    "import torch.utils.data as data"
   ]
  },
  {
   "cell_type": "code",
   "execution_count": null,
   "metadata": {
    "ExecuteTime": {
     "end_time": "2021-10-09T07:06:07.644344Z",
     "start_time": "2021-10-09T07:06:07.634358Z"
    }
   },
   "outputs": [
    {
     "data": {
      "text/plain": [
       "(tensor([7.6000e+00, 3.0000e-01, 3.7000e-01, 1.6000e+00, 8.7000e-02, 2.7000e+01,\n",
       "         1.7700e+02, 9.9438e-01, 3.0900e+00, 5.0000e-01, 9.8000e+00],\n",
       "        dtype=torch.float64),\n",
       " tensor(5., dtype=torch.float64))"
      ]
     },
     "execution_count": 131,
     "metadata": {},
     "output_type": "execute_result"
    }
   ],
   "source": [
    "train_dataset = data.TensorDataset(torch.from_numpy(train.values[:,:-1]),torch.from_numpy(train.values[:,-1]))\n",
    "next(iter(train_dataset))"
   ]
  }
 ],
 "metadata": {
  "kernelspec": {
   "display_name": "Python 3",
   "language": "python",
   "name": "python3"
  },
  "language_info": {
   "codemirror_mode": {
    "name": "ipython",
    "version": 3
   },
   "file_extension": ".py",
   "mimetype": "text/x-python",
   "name": "python",
   "nbconvert_exporter": "python",
   "pygments_lexer": "ipython3",
   "version": "3.8.10"
  },
  "varInspector": {
   "cols": {
    "lenName": 16,
    "lenType": 16,
    "lenVar": 40
   },
   "kernels_config": {
    "python": {
     "delete_cmd_postfix": "",
     "delete_cmd_prefix": "del ",
     "library": "var_list.py",
     "varRefreshCmd": "print(var_dic_list())"
    },
    "r": {
     "delete_cmd_postfix": ") ",
     "delete_cmd_prefix": "rm(",
     "library": "var_list.r",
     "varRefreshCmd": "cat(var_dic_list()) "
    }
   },
   "types_to_exclude": [
    "module",
    "function",
    "builtin_function_or_method",
    "instance",
    "_Feature"
   ],
   "window_display": false
  }
 },
 "nbformat": 4,
 "nbformat_minor": 4
}
