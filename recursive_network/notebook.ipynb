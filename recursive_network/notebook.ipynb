{
 "cells": [
  {
   "cell_type": "markdown",
   "metadata": {},
   "source": [
    "Pewien słuchacz szkoły muzycznej ma w sobie niesamowity talent. Jednak przed jej ukończeniem wstrzymuje go jeden przedmiot - \"Kompozytorzy muzyki klasycznej\". Słuchacz ten, mając dość niepowodzeń w zdawaniu tego tematu, zwraca się do Was o pomoc.\n",
    "\n",
    "Zadanie polega na stworzeniu modelu rekurencyjnego, który będzie przewidywał kompozytora danego utworu klasycznego w oparciu o jego zapis w formie sekwencji akordów. Akordy znormalizowane zostały do klucza C-dur lub a-moll, w zależności od skali utworu (durowa/molowa).\n",
    "Dane przygotowane są w postaci pickle (https://docs.python.org/3/library/pickle.html), w których znajduje się lista krotek z sekwencjami i odpowiadającymi im klasami (kompozytorami), odpowiednio: {0: 'bach', 1: 'beethoven', 2: 'debussy', 3: 'scarlatti', 4: 'victoria'}. Dane treningowe znajdują się w pliku train.pkl. W pliku test_no_target.pkl znajdują się testowe sekwencje, dla których predykcje mają Państwo przewidzieć.\n",
    "\n",
    "Uwaga, utwory mogą mieć różne długości. Do stworzenia batchy dla przykładów różnej długości proszę wykorzystać omówiony na zajęciach padding i trenować z wykorzystaniem wyrównanych tensorów lub spakowanych sekwencji (PackedSequence).\n",
    "\n",
    "Bardzo proszę, żeby zwrócili Państwo archiwum zip, zgodnie z instrukcjami:\n",
    "- Archiwum powinno być nazwane {poniedzialek/piatek}_nazwisko1_nazwisko2.zip, bez nawiasów klamrowych przy dniu tygodnia\n",
    "- W archiwum proszę, bez zbędnych podfolderów, umieścić pliki ze swoim kodem i testowe predykcje nazwane {poniedzialek/piatek}_nazwisko1_nazwisko2.csv (lub nazwa drużyny), bez nawiasów klamrowych przy dniu tygodnia\n",
    "- Testowe predykcje powinny mieć kolejność zgodną z kolejnością sekwencji w picklu. Plik .csv nie powinien mieć nagłówka ani indeksów.\n",
    "\n",
    "Proszę zwracać uwagę na prawidłowe nazewnictwo oraz odpowiedni format zwracanych plików. Niedostosowanie się do wytycznych może spowodować nieuwzględnienie Państwa w rankingu i utratę punktów za osiągnięty wynik!\n",
    "Proszę także o udokumentowanie wykonanych eksperymentów."
   ]
  },
  {
   "cell_type": "code",
   "execution_count": 1,
   "metadata": {},
   "outputs": [],
   "source": [
    "import pickle\n",
    "import torch\n",
    "import pandas as pd\n",
    "import torch.nn as nn\n",
    "import torch.optim as optim\n",
    "from tqdm import tqdm\n",
    "from collections import Counter\n",
    "from torch.utils.data import Dataset, DataLoader\n",
    "from torch.functional import F\n",
    "from sklearn.model_selection import train_test_split\n",
    "import matplotlib.pyplot as plt"
   ]
  },
  {
   "cell_type": "code",
   "execution_count": 2,
   "metadata": {},
   "outputs": [],
   "source": [
    "DATA_PATH = './data'\n",
    "MODEL_PATH = './models'\n",
    "\n",
    "BATCH_SIZE = 32\n",
    "LEARNING_RATE = 0.001\n",
    "TEST_RATIO = 0.2\n",
    "EPOCHS = 101\n",
    "\n",
    "MAX_DATASET_LEN = 750\n",
    "\n",
    "HIDDEN_DIM = 128\n",
    "INPUT_DIM = 1\n",
    "OUTPUT_DIM = 5\n",
    "DROPOUT_RATE = 0.5"
   ]
  },
  {
   "cell_type": "code",
   "execution_count": 3,
   "metadata": {},
   "outputs": [
    {
     "name": "stdout",
     "output_type": "stream",
     "text": [
      "Device: cuda\n"
     ]
    }
   ],
   "source": [
    "device = torch.device('cuda' if torch.cuda.is_available() else 'cpu')\n",
    "print(\"Device:\", device)"
   ]
  },
  {
   "cell_type": "code",
   "execution_count": 4,
   "metadata": {},
   "outputs": [],
   "source": [
    "with open(f'{DATA_PATH}/train.pkl', 'rb') as file:\n",
    "    train_data = pickle.load(file)\n",
    "\n",
    "with open(f'{DATA_PATH}/test_no_target.pkl', 'rb') as file:\n",
    "    test_data = pickle.load(file)\n"
   ]
  },
  {
   "cell_type": "code",
   "execution_count": 5,
   "metadata": {},
   "outputs": [],
   "source": [
    "class MusicDataset(Dataset):\n",
    "    def __init__(self, data, max_len=None, is_train_dataset=True):\n",
    "        if is_train_dataset:\n",
    "            self.seq, self.labels = zip(*data)\n",
    "        else:\n",
    "            self.seq = data\n",
    "            self.labels = [None] * len(data) \n",
    "            \n",
    "        self.max_len = max(len(s) for s in self.seq)\n",
    "        self.seq = [MusicDataset.pad_collate(self, seq) for seq in self.seq]\n",
    "        self.is_train_dataset = is_train_dataset\n",
    "    \n",
    "    def __len__(self):\n",
    "        return len(self.seq)\n",
    "    \n",
    "    def __getitem__(self, idx):\n",
    "        return self.seq[idx], self.labels[idx] if self.is_train_dataset else self.seq[idx]\n",
    "\n",
    "    @staticmethod\n",
    "    def pad_collate(self, seq, pad_value=0):\n",
    "        seq = torch.tensor(seq, dtype=torch.float32).unsqueeze(1)\n",
    "        padding = self.max_len - len(seq)\n",
    "        return F.pad(seq, (0, 0, 0, padding), mode=\"constant\", value=pad_value)\n"
   ]
  },
  {
   "cell_type": "code",
   "execution_count": 6,
   "metadata": {},
   "outputs": [],
   "source": [
    "train_data, validation_data = train_test_split(train_data, test_size=TEST_RATIO)\n",
    "\n",
    "train_dataset = MusicDataset(train_data, max_len=MAX_DATASET_LEN, is_train_dataset=True)\n",
    "test_dataset = MusicDataset(test_data, max_len=MAX_DATASET_LEN, is_train_dataset=False)\n",
    "validation_dataset = MusicDataset(validation_data, max_len=MAX_DATASET_LEN, is_train_dataset=True)\n",
    "\n",
    "train_loader = DataLoader(train_dataset, batch_size=BATCH_SIZE, shuffle=True)\n",
    "test_loader = DataLoader(test_dataset, batch_size=BATCH_SIZE, shuffle=False)\n",
    "validation_loader = DataLoader(validation_dataset, batch_size=BATCH_SIZE, shuffle=True)"
   ]
  },
  {
   "cell_type": "code",
   "execution_count": 7,
   "metadata": {},
   "outputs": [],
   "source": [
    "class ComposerClassifier(nn.Module):\n",
    "    def __init__(self, input_dim, hidden_dim, output_dim, n_layers=1):\n",
    "        super(ComposerClassifier, self).__init__()\n",
    "        self.lstm = nn.LSTM(input_dim, \n",
    "                            hidden_dim, \n",
    "                            num_layers=n_layers, \n",
    "                            bidirectional=True, \n",
    "                            batch_first=True,\n",
    "                            dropout=DROPOUT_RATE)\n",
    "        self.fc = nn.Linear(hidden_dim * 2, output_dim)\n",
    "        self.dropout = nn.Dropout(DROPOUT_RATE)\n",
    "        self.batch_norm = nn.BatchNorm1d(hidden_dim * 2)\n",
    "    \n",
    "    def forward(self, x):\n",
    "        lstm_out, (hidden, cell) = self.lstm(x)\n",
    "        x = torch.cat((hidden[-2], hidden[-1]), dim=1)\n",
    "        x = self.batch_norm(x)\n",
    "        x = self.dropout(x)\n",
    "        x = self.fc(x)\n",
    "        return x"
   ]
  },
  {
   "cell_type": "code",
   "execution_count": 8,
   "metadata": {},
   "outputs": [],
   "source": [
    "_, train_labels = zip(*train_data)\n",
    "class_nums = Counter(train_labels)\n",
    "samples_num = sum(class_nums.values())\n",
    "class_weights = {cls: samples_num / num for cls, num in class_nums.items()}\n",
    "weights = torch.tensor([class_weights[ii] for ii in range(len(class_nums))], dtype=torch.float32).to(device)"
   ]
  },
  {
   "cell_type": "code",
   "execution_count": 9,
   "metadata": {},
   "outputs": [
    {
     "name": "stderr",
     "output_type": "stream",
     "text": [
      "/home/karol/.local/lib/python3.10/site-packages/torch/nn/modules/rnn.py:83: UserWarning: dropout option adds dropout after all but last recurrent layer, so non-zero dropout expects num_layers greater than 1, but got dropout=0.5 and num_layers=1\n",
      "  warnings.warn(\"dropout option adds dropout after all but last \"\n",
      "/home/karol/.local/lib/python3.10/site-packages/tqdm/auto.py:21: TqdmWarning: IProgress not found. Please update jupyter and ipywidgets. See https://ipywidgets.readthedocs.io/en/stable/user_install.html\n",
      "  from .autonotebook import tqdm as notebook_tqdm\n"
     ]
    }
   ],
   "source": [
    "model = ComposerClassifier(INPUT_DIM, HIDDEN_DIM, OUTPUT_DIM).to(device)\n",
    "criterion = nn.CrossEntropyLoss()\n",
    "optimizer = optim.Adam(model.parameters(), lr=LEARNING_RATE)"
   ]
  },
  {
   "cell_type": "code",
   "execution_count": 10,
   "metadata": {},
   "outputs": [
    {
     "name": "stderr",
     "output_type": "stream",
     "text": [
      "  0%|          | 0/101 [00:00<?, ?it/s]"
     ]
    },
    {
     "name": "stdout",
     "output_type": "stream",
     "text": [
      "Epoch 1/101 - Train Loss: 1.4296 - Train Accuracy: 0.4049\n"
     ]
    },
    {
     "name": "stderr",
     "output_type": "stream",
     "text": [
      "  1%|          | 1/101 [00:07<12:00,  7.21s/it]"
     ]
    },
    {
     "name": "stdout",
     "output_type": "stream",
     "text": [
      "Epoch 1/101 - Validation Loss: 1.1641 - Validation Accuracy: 0.6088\n",
      "Epoch 2/101 - Train Loss: 1.1648 - Train Accuracy: 0.5700\n"
     ]
    },
    {
     "name": "stderr",
     "output_type": "stream",
     "text": [
      "  2%|▏         | 2/101 [00:14<11:44,  7.11s/it]"
     ]
    },
    {
     "name": "stdout",
     "output_type": "stream",
     "text": [
      "Epoch 2/101 - Validation Loss: 1.1809 - Validation Accuracy: 0.6156\n",
      "Epoch 3/101 - Train Loss: 1.1014 - Train Accuracy: 0.5853\n"
     ]
    },
    {
     "name": "stderr",
     "output_type": "stream",
     "text": [
      "  3%|▎         | 3/101 [00:21<11:34,  7.09s/it]"
     ]
    },
    {
     "name": "stdout",
     "output_type": "stream",
     "text": [
      "Epoch 3/101 - Validation Loss: 1.2373 - Validation Accuracy: 0.6344\n",
      "Epoch 4/101 - Train Loss: 1.0596 - Train Accuracy: 0.5866\n"
     ]
    },
    {
     "name": "stderr",
     "output_type": "stream",
     "text": [
      "  4%|▍         | 4/101 [00:28<11:25,  7.07s/it]"
     ]
    },
    {
     "name": "stdout",
     "output_type": "stream",
     "text": [
      "Epoch 4/101 - Validation Loss: 1.2769 - Validation Accuracy: 0.6122\n",
      "Epoch 5/101 - Train Loss: 1.0089 - Train Accuracy: 0.6185\n"
     ]
    },
    {
     "name": "stderr",
     "output_type": "stream",
     "text": [
      "  5%|▍         | 5/101 [00:35<11:18,  7.06s/it]"
     ]
    },
    {
     "name": "stdout",
     "output_type": "stream",
     "text": [
      "Epoch 5/101 - Validation Loss: 1.2583 - Validation Accuracy: 0.6480\n",
      "Epoch 6/101 - Train Loss: 1.0042 - Train Accuracy: 0.6270\n"
     ]
    },
    {
     "name": "stderr",
     "output_type": "stream",
     "text": [
      "  6%|▌         | 6/101 [00:42<11:12,  7.08s/it]"
     ]
    },
    {
     "name": "stdout",
     "output_type": "stream",
     "text": [
      "Epoch 6/101 - Validation Loss: 1.8645 - Validation Accuracy: 0.5884\n",
      "Epoch 7/101 - Train Loss: 0.9694 - Train Accuracy: 0.6393\n"
     ]
    },
    {
     "name": "stderr",
     "output_type": "stream",
     "text": [
      "  7%|▋         | 7/101 [00:49<11:05,  7.08s/it]"
     ]
    },
    {
     "name": "stdout",
     "output_type": "stream",
     "text": [
      "Epoch 7/101 - Validation Loss: 1.0809 - Validation Accuracy: 0.6735\n",
      "Epoch 8/101 - Train Loss: 0.9876 - Train Accuracy: 0.6368\n"
     ]
    },
    {
     "name": "stderr",
     "output_type": "stream",
     "text": [
      "  8%|▊         | 8/101 [00:56<10:58,  7.08s/it]"
     ]
    },
    {
     "name": "stdout",
     "output_type": "stream",
     "text": [
      "Epoch 8/101 - Validation Loss: 1.1839 - Validation Accuracy: 0.6854\n",
      "Epoch 9/101 - Train Loss: 0.9331 - Train Accuracy: 0.6474\n"
     ]
    },
    {
     "name": "stderr",
     "output_type": "stream",
     "text": [
      "  9%|▉         | 9/101 [01:03<10:50,  7.08s/it]"
     ]
    },
    {
     "name": "stdout",
     "output_type": "stream",
     "text": [
      "Epoch 9/101 - Validation Loss: 1.3932 - Validation Accuracy: 0.6276\n",
      "Epoch 10/101 - Train Loss: 0.9127 - Train Accuracy: 0.6542\n"
     ]
    },
    {
     "name": "stderr",
     "output_type": "stream",
     "text": [
      " 10%|▉         | 10/101 [01:10<10:43,  7.07s/it]"
     ]
    },
    {
     "name": "stdout",
     "output_type": "stream",
     "text": [
      "Epoch 10/101 - Validation Loss: 2.5771 - Validation Accuracy: 0.2330\n",
      "Epoch 11/101 - Train Loss: 0.8739 - Train Accuracy: 0.6874\n"
     ]
    },
    {
     "name": "stderr",
     "output_type": "stream",
     "text": [
      " 11%|█         | 11/101 [01:17<10:37,  7.08s/it]"
     ]
    },
    {
     "name": "stdout",
     "output_type": "stream",
     "text": [
      "Epoch 11/101 - Validation Loss: 0.9981 - Validation Accuracy: 0.6837\n",
      "Epoch 12/101 - Train Loss: 0.8425 - Train Accuracy: 0.6908\n"
     ]
    },
    {
     "name": "stderr",
     "output_type": "stream",
     "text": [
      " 12%|█▏        | 12/101 [01:25<10:31,  7.09s/it]"
     ]
    },
    {
     "name": "stdout",
     "output_type": "stream",
     "text": [
      "Epoch 12/101 - Validation Loss: 1.0673 - Validation Accuracy: 0.6667\n",
      "Epoch 13/101 - Train Loss: 0.8580 - Train Accuracy: 0.6869\n"
     ]
    },
    {
     "name": "stderr",
     "output_type": "stream",
     "text": [
      " 13%|█▎        | 13/101 [01:32<10:23,  7.09s/it]"
     ]
    },
    {
     "name": "stdout",
     "output_type": "stream",
     "text": [
      "Epoch 13/101 - Validation Loss: 0.9945 - Validation Accuracy: 0.6990\n",
      "Epoch 14/101 - Train Loss: 0.8546 - Train Accuracy: 0.6916\n"
     ]
    },
    {
     "name": "stderr",
     "output_type": "stream",
     "text": [
      " 14%|█▍        | 14/101 [01:39<10:17,  7.09s/it]"
     ]
    },
    {
     "name": "stdout",
     "output_type": "stream",
     "text": [
      "Epoch 14/101 - Validation Loss: 0.9580 - Validation Accuracy: 0.7194\n",
      "Epoch 15/101 - Train Loss: 0.7738 - Train Accuracy: 0.7129\n"
     ]
    },
    {
     "name": "stderr",
     "output_type": "stream",
     "text": [
      " 15%|█▍        | 15/101 [01:46<10:10,  7.10s/it]"
     ]
    },
    {
     "name": "stdout",
     "output_type": "stream",
     "text": [
      "Epoch 15/101 - Validation Loss: 0.9705 - Validation Accuracy: 0.6888\n",
      "Epoch 16/101 - Train Loss: 0.8035 - Train Accuracy: 0.7082\n"
     ]
    },
    {
     "name": "stderr",
     "output_type": "stream",
     "text": [
      " 16%|█▌        | 16/101 [01:53<10:02,  7.09s/it]"
     ]
    },
    {
     "name": "stdout",
     "output_type": "stream",
     "text": [
      "Epoch 16/101 - Validation Loss: 1.0313 - Validation Accuracy: 0.6922\n",
      "Epoch 17/101 - Train Loss: 0.7786 - Train Accuracy: 0.7210\n"
     ]
    },
    {
     "name": "stderr",
     "output_type": "stream",
     "text": [
      " 17%|█▋        | 17/101 [02:00<09:54,  7.08s/it]"
     ]
    },
    {
     "name": "stdout",
     "output_type": "stream",
     "text": [
      "Epoch 17/101 - Validation Loss: 0.9118 - Validation Accuracy: 0.7483\n",
      "Epoch 18/101 - Train Loss: 0.7393 - Train Accuracy: 0.7269\n"
     ]
    },
    {
     "name": "stderr",
     "output_type": "stream",
     "text": [
      " 18%|█▊        | 18/101 [02:07<09:47,  7.08s/it]"
     ]
    },
    {
     "name": "stdout",
     "output_type": "stream",
     "text": [
      "Epoch 18/101 - Validation Loss: 0.9432 - Validation Accuracy: 0.7347\n",
      "Epoch 19/101 - Train Loss: 0.7189 - Train Accuracy: 0.7435\n"
     ]
    },
    {
     "name": "stderr",
     "output_type": "stream",
     "text": [
      " 19%|█▉        | 19/101 [02:14<09:40,  7.07s/it]"
     ]
    },
    {
     "name": "stdout",
     "output_type": "stream",
     "text": [
      "Epoch 19/101 - Validation Loss: 1.0047 - Validation Accuracy: 0.7347\n",
      "Epoch 20/101 - Train Loss: 0.7468 - Train Accuracy: 0.7201\n"
     ]
    },
    {
     "name": "stderr",
     "output_type": "stream",
     "text": [
      " 20%|█▉        | 20/101 [02:21<09:33,  7.08s/it]"
     ]
    },
    {
     "name": "stdout",
     "output_type": "stream",
     "text": [
      "Epoch 20/101 - Validation Loss: 0.9226 - Validation Accuracy: 0.7160\n",
      "Epoch 21/101 - Train Loss: 0.6856 - Train Accuracy: 0.7507\n"
     ]
    },
    {
     "name": "stderr",
     "output_type": "stream",
     "text": [
      " 21%|██        | 21/101 [02:28<09:26,  7.09s/it]"
     ]
    },
    {
     "name": "stdout",
     "output_type": "stream",
     "text": [
      "Epoch 21/101 - Validation Loss: 0.8882 - Validation Accuracy: 0.7177\n",
      "Epoch 22/101 - Train Loss: 0.6702 - Train Accuracy: 0.7558\n"
     ]
    },
    {
     "name": "stderr",
     "output_type": "stream",
     "text": [
      " 22%|██▏       | 22/101 [02:35<09:19,  7.09s/it]"
     ]
    },
    {
     "name": "stdout",
     "output_type": "stream",
     "text": [
      "Epoch 22/101 - Validation Loss: 0.8634 - Validation Accuracy: 0.7483\n",
      "Epoch 23/101 - Train Loss: 0.6581 - Train Accuracy: 0.7750\n"
     ]
    },
    {
     "name": "stderr",
     "output_type": "stream",
     "text": [
      " 23%|██▎       | 23/101 [02:42<09:12,  7.09s/it]"
     ]
    },
    {
     "name": "stdout",
     "output_type": "stream",
     "text": [
      "Epoch 23/101 - Validation Loss: 0.8689 - Validation Accuracy: 0.7432\n",
      "Epoch 24/101 - Train Loss: 0.6310 - Train Accuracy: 0.7724\n"
     ]
    },
    {
     "name": "stderr",
     "output_type": "stream",
     "text": [
      " 24%|██▍       | 24/101 [02:50<09:05,  7.08s/it]"
     ]
    },
    {
     "name": "stdout",
     "output_type": "stream",
     "text": [
      "Epoch 24/101 - Validation Loss: 0.9186 - Validation Accuracy: 0.7483\n",
      "Epoch 25/101 - Train Loss: 0.6338 - Train Accuracy: 0.7809\n"
     ]
    },
    {
     "name": "stderr",
     "output_type": "stream",
     "text": [
      " 25%|██▍       | 25/101 [02:57<08:58,  7.09s/it]"
     ]
    },
    {
     "name": "stdout",
     "output_type": "stream",
     "text": [
      "Epoch 25/101 - Validation Loss: 0.9337 - Validation Accuracy: 0.7636\n",
      "Epoch 26/101 - Train Loss: 0.6191 - Train Accuracy: 0.7831\n"
     ]
    },
    {
     "name": "stderr",
     "output_type": "stream",
     "text": [
      " 26%|██▌       | 26/101 [03:04<08:52,  7.10s/it]"
     ]
    },
    {
     "name": "stdout",
     "output_type": "stream",
     "text": [
      "Epoch 26/101 - Validation Loss: 0.8739 - Validation Accuracy: 0.7398\n",
      "Epoch 27/101 - Train Loss: 0.6016 - Train Accuracy: 0.7839\n"
     ]
    },
    {
     "name": "stderr",
     "output_type": "stream",
     "text": [
      " 27%|██▋       | 27/101 [03:11<08:44,  7.09s/it]"
     ]
    },
    {
     "name": "stdout",
     "output_type": "stream",
     "text": [
      "Epoch 27/101 - Validation Loss: 0.9421 - Validation Accuracy: 0.7177\n",
      "Epoch 28/101 - Train Loss: 0.6099 - Train Accuracy: 0.7912\n"
     ]
    },
    {
     "name": "stderr",
     "output_type": "stream",
     "text": [
      " 28%|██▊       | 28/101 [03:18<08:37,  7.09s/it]"
     ]
    },
    {
     "name": "stdout",
     "output_type": "stream",
     "text": [
      "Epoch 28/101 - Validation Loss: 0.8624 - Validation Accuracy: 0.7636\n",
      "Epoch 29/101 - Train Loss: 0.6040 - Train Accuracy: 0.7890\n"
     ]
    },
    {
     "name": "stderr",
     "output_type": "stream",
     "text": [
      " 29%|██▊       | 29/101 [03:25<08:30,  7.09s/it]"
     ]
    },
    {
     "name": "stdout",
     "output_type": "stream",
     "text": [
      "Epoch 29/101 - Validation Loss: 0.9285 - Validation Accuracy: 0.7194\n",
      "Epoch 30/101 - Train Loss: 0.5570 - Train Accuracy: 0.8069\n"
     ]
    },
    {
     "name": "stderr",
     "output_type": "stream",
     "text": [
      " 30%|██▉       | 30/101 [03:32<08:23,  7.09s/it]"
     ]
    },
    {
     "name": "stdout",
     "output_type": "stream",
     "text": [
      "Epoch 30/101 - Validation Loss: 1.0608 - Validation Accuracy: 0.6616\n",
      "Epoch 31/101 - Train Loss: 0.5886 - Train Accuracy: 0.7903\n"
     ]
    },
    {
     "name": "stderr",
     "output_type": "stream",
     "text": [
      " 31%|███       | 31/101 [03:39<08:16,  7.09s/it]"
     ]
    },
    {
     "name": "stdout",
     "output_type": "stream",
     "text": [
      "Epoch 31/101 - Validation Loss: 0.8050 - Validation Accuracy: 0.7398\n",
      "Epoch 32/101 - Train Loss: 0.5681 - Train Accuracy: 0.8043\n"
     ]
    },
    {
     "name": "stderr",
     "output_type": "stream",
     "text": [
      " 32%|███▏      | 32/101 [03:46<08:09,  7.10s/it]"
     ]
    },
    {
     "name": "stdout",
     "output_type": "stream",
     "text": [
      "Epoch 32/101 - Validation Loss: 0.8231 - Validation Accuracy: 0.7500\n",
      "Epoch 33/101 - Train Loss: 0.5173 - Train Accuracy: 0.8192\n"
     ]
    },
    {
     "name": "stderr",
     "output_type": "stream",
     "text": [
      " 33%|███▎      | 33/101 [03:53<08:02,  7.10s/it]"
     ]
    },
    {
     "name": "stdout",
     "output_type": "stream",
     "text": [
      "Epoch 33/101 - Validation Loss: 0.7924 - Validation Accuracy: 0.7653\n",
      "Epoch 34/101 - Train Loss: 0.5337 - Train Accuracy: 0.8133\n"
     ]
    },
    {
     "name": "stderr",
     "output_type": "stream",
     "text": [
      " 34%|███▎      | 34/101 [04:01<07:55,  7.10s/it]"
     ]
    },
    {
     "name": "stdout",
     "output_type": "stream",
     "text": [
      "Epoch 34/101 - Validation Loss: 0.7862 - Validation Accuracy: 0.7568\n",
      "Epoch 35/101 - Train Loss: 0.4943 - Train Accuracy: 0.8282\n"
     ]
    },
    {
     "name": "stderr",
     "output_type": "stream",
     "text": [
      " 35%|███▍      | 35/101 [04:08<07:48,  7.11s/it]"
     ]
    },
    {
     "name": "stdout",
     "output_type": "stream",
     "text": [
      "Epoch 35/101 - Validation Loss: 0.7707 - Validation Accuracy: 0.7738\n",
      "Epoch 36/101 - Train Loss: 0.4952 - Train Accuracy: 0.8222\n"
     ]
    },
    {
     "name": "stderr",
     "output_type": "stream",
     "text": [
      " 36%|███▌      | 36/101 [04:15<07:41,  7.10s/it]"
     ]
    },
    {
     "name": "stdout",
     "output_type": "stream",
     "text": [
      "Epoch 36/101 - Validation Loss: 0.8163 - Validation Accuracy: 0.7755\n",
      "Epoch 37/101 - Train Loss: 0.4764 - Train Accuracy: 0.8354\n"
     ]
    },
    {
     "name": "stderr",
     "output_type": "stream",
     "text": [
      " 37%|███▋      | 37/101 [04:22<07:34,  7.10s/it]"
     ]
    },
    {
     "name": "stdout",
     "output_type": "stream",
     "text": [
      "Epoch 37/101 - Validation Loss: 1.1066 - Validation Accuracy: 0.7789\n",
      "Epoch 38/101 - Train Loss: 0.4482 - Train Accuracy: 0.8494\n"
     ]
    },
    {
     "name": "stderr",
     "output_type": "stream",
     "text": [
      " 38%|███▊      | 38/101 [04:29<07:27,  7.10s/it]"
     ]
    },
    {
     "name": "stdout",
     "output_type": "stream",
     "text": [
      "Epoch 38/101 - Validation Loss: 1.2613 - Validation Accuracy: 0.7687\n",
      "Epoch 39/101 - Train Loss: 0.6295 - Train Accuracy: 0.7763\n"
     ]
    },
    {
     "name": "stderr",
     "output_type": "stream",
     "text": [
      " 39%|███▊      | 39/101 [04:36<07:19,  7.09s/it]"
     ]
    },
    {
     "name": "stdout",
     "output_type": "stream",
     "text": [
      "Epoch 39/101 - Validation Loss: 0.9922 - Validation Accuracy: 0.6888\n",
      "Epoch 40/101 - Train Loss: 0.5791 - Train Accuracy: 0.7963\n"
     ]
    },
    {
     "name": "stderr",
     "output_type": "stream",
     "text": [
      " 40%|███▉      | 40/101 [04:43<07:12,  7.08s/it]"
     ]
    },
    {
     "name": "stdout",
     "output_type": "stream",
     "text": [
      "Epoch 40/101 - Validation Loss: 0.7643 - Validation Accuracy: 0.7534\n",
      "Epoch 41/101 - Train Loss: 0.5206 - Train Accuracy: 0.8188\n"
     ]
    },
    {
     "name": "stderr",
     "output_type": "stream",
     "text": [
      " 41%|████      | 41/101 [04:50<07:05,  7.08s/it]"
     ]
    },
    {
     "name": "stdout",
     "output_type": "stream",
     "text": [
      "Epoch 41/101 - Validation Loss: 0.8827 - Validation Accuracy: 0.7687\n",
      "Epoch 42/101 - Train Loss: 0.4797 - Train Accuracy: 0.8316\n"
     ]
    },
    {
     "name": "stderr",
     "output_type": "stream",
     "text": [
      " 42%|████▏     | 42/101 [04:57<06:59,  7.11s/it]"
     ]
    },
    {
     "name": "stdout",
     "output_type": "stream",
     "text": [
      "Epoch 42/101 - Validation Loss: 0.8720 - Validation Accuracy: 0.7653\n",
      "Epoch 43/101 - Train Loss: 0.4465 - Train Accuracy: 0.8494\n"
     ]
    },
    {
     "name": "stderr",
     "output_type": "stream",
     "text": [
      " 43%|████▎     | 43/101 [05:04<06:52,  7.12s/it]"
     ]
    },
    {
     "name": "stdout",
     "output_type": "stream",
     "text": [
      "Epoch 43/101 - Validation Loss: 0.9059 - Validation Accuracy: 0.7704\n",
      "Epoch 44/101 - Train Loss: 0.4694 - Train Accuracy: 0.8422\n"
     ]
    },
    {
     "name": "stderr",
     "output_type": "stream",
     "text": [
      " 44%|████▎     | 44/101 [05:12<06:45,  7.11s/it]"
     ]
    },
    {
     "name": "stdout",
     "output_type": "stream",
     "text": [
      "Epoch 44/101 - Validation Loss: 0.9990 - Validation Accuracy: 0.7449\n",
      "Epoch 45/101 - Train Loss: 0.4427 - Train Accuracy: 0.8469\n"
     ]
    },
    {
     "name": "stderr",
     "output_type": "stream",
     "text": [
      " 45%|████▍     | 45/101 [05:19<06:38,  7.11s/it]"
     ]
    },
    {
     "name": "stdout",
     "output_type": "stream",
     "text": [
      "Epoch 45/101 - Validation Loss: 1.1579 - Validation Accuracy: 0.6531\n",
      "Epoch 46/101 - Train Loss: 0.4232 - Train Accuracy: 0.8541\n"
     ]
    },
    {
     "name": "stderr",
     "output_type": "stream",
     "text": [
      " 46%|████▌     | 46/101 [05:26<06:31,  7.12s/it]"
     ]
    },
    {
     "name": "stdout",
     "output_type": "stream",
     "text": [
      "Epoch 46/101 - Validation Loss: 0.8382 - Validation Accuracy: 0.7636\n",
      "Epoch 47/101 - Train Loss: 0.3831 - Train Accuracy: 0.8694\n"
     ]
    },
    {
     "name": "stderr",
     "output_type": "stream",
     "text": [
      " 47%|████▋     | 47/101 [05:33<06:24,  7.12s/it]"
     ]
    },
    {
     "name": "stdout",
     "output_type": "stream",
     "text": [
      "Epoch 47/101 - Validation Loss: 0.8703 - Validation Accuracy: 0.7772\n",
      "Epoch 48/101 - Train Loss: 0.3781 - Train Accuracy: 0.8652\n"
     ]
    },
    {
     "name": "stderr",
     "output_type": "stream",
     "text": [
      " 48%|████▊     | 48/101 [05:40<06:17,  7.13s/it]"
     ]
    },
    {
     "name": "stdout",
     "output_type": "stream",
     "text": [
      "Epoch 48/101 - Validation Loss: 0.9182 - Validation Accuracy: 0.7602\n",
      "Epoch 49/101 - Train Loss: 0.3623 - Train Accuracy: 0.8724\n"
     ]
    },
    {
     "name": "stderr",
     "output_type": "stream",
     "text": [
      " 49%|████▊     | 49/101 [05:47<06:10,  7.12s/it]"
     ]
    },
    {
     "name": "stdout",
     "output_type": "stream",
     "text": [
      "Epoch 49/101 - Validation Loss: 0.9311 - Validation Accuracy: 0.7619\n",
      "Epoch 50/101 - Train Loss: 0.3681 - Train Accuracy: 0.8788\n"
     ]
    },
    {
     "name": "stderr",
     "output_type": "stream",
     "text": [
      " 50%|████▉     | 50/101 [05:54<06:02,  7.11s/it]"
     ]
    },
    {
     "name": "stdout",
     "output_type": "stream",
     "text": [
      "Epoch 50/101 - Validation Loss: 0.8234 - Validation Accuracy: 0.7857\n",
      "Epoch 51/101 - Train Loss: 0.3496 - Train Accuracy: 0.8805\n"
     ]
    },
    {
     "name": "stderr",
     "output_type": "stream",
     "text": [
      " 50%|█████     | 51/101 [06:01<05:55,  7.10s/it]"
     ]
    },
    {
     "name": "stdout",
     "output_type": "stream",
     "text": [
      "Epoch 51/101 - Validation Loss: 0.8938 - Validation Accuracy: 0.7704\n",
      "Epoch 52/101 - Train Loss: 0.3390 - Train Accuracy: 0.8826\n"
     ]
    },
    {
     "name": "stderr",
     "output_type": "stream",
     "text": [
      " 51%|█████▏    | 52/101 [06:08<05:48,  7.10s/it]"
     ]
    },
    {
     "name": "stdout",
     "output_type": "stream",
     "text": [
      "Epoch 52/101 - Validation Loss: 0.8072 - Validation Accuracy: 0.8027\n",
      "Epoch 53/101 - Train Loss: 0.3569 - Train Accuracy: 0.8749\n"
     ]
    },
    {
     "name": "stderr",
     "output_type": "stream",
     "text": [
      " 52%|█████▏    | 53/101 [06:15<05:40,  7.10s/it]"
     ]
    },
    {
     "name": "stdout",
     "output_type": "stream",
     "text": [
      "Epoch 53/101 - Validation Loss: 0.8494 - Validation Accuracy: 0.7806\n",
      "Epoch 54/101 - Train Loss: 0.3575 - Train Accuracy: 0.8783\n"
     ]
    },
    {
     "name": "stderr",
     "output_type": "stream",
     "text": [
      " 53%|█████▎    | 54/101 [06:23<05:33,  7.09s/it]"
     ]
    },
    {
     "name": "stdout",
     "output_type": "stream",
     "text": [
      "Epoch 54/101 - Validation Loss: 0.8715 - Validation Accuracy: 0.7772\n",
      "Epoch 55/101 - Train Loss: 0.3443 - Train Accuracy: 0.8779\n"
     ]
    },
    {
     "name": "stderr",
     "output_type": "stream",
     "text": [
      " 54%|█████▍    | 55/101 [06:30<05:26,  7.11s/it]"
     ]
    },
    {
     "name": "stdout",
     "output_type": "stream",
     "text": [
      "Epoch 55/101 - Validation Loss: 0.9919 - Validation Accuracy: 0.7772\n",
      "Epoch 56/101 - Train Loss: 0.3096 - Train Accuracy: 0.8966\n"
     ]
    },
    {
     "name": "stderr",
     "output_type": "stream",
     "text": [
      " 55%|█████▌    | 56/101 [06:37<05:19,  7.11s/it]"
     ]
    },
    {
     "name": "stdout",
     "output_type": "stream",
     "text": [
      "Epoch 56/101 - Validation Loss: 1.0385 - Validation Accuracy: 0.7687\n",
      "Epoch 57/101 - Train Loss: 0.3189 - Train Accuracy: 0.8932\n"
     ]
    },
    {
     "name": "stderr",
     "output_type": "stream",
     "text": [
      " 56%|█████▋    | 57/101 [06:44<05:12,  7.10s/it]"
     ]
    },
    {
     "name": "stdout",
     "output_type": "stream",
     "text": [
      "Epoch 57/101 - Validation Loss: 1.2715 - Validation Accuracy: 0.7126\n",
      "Epoch 58/101 - Train Loss: 0.3072 - Train Accuracy: 0.8890\n"
     ]
    },
    {
     "name": "stderr",
     "output_type": "stream",
     "text": [
      " 57%|█████▋    | 58/101 [06:51<05:05,  7.10s/it]"
     ]
    },
    {
     "name": "stdout",
     "output_type": "stream",
     "text": [
      "Epoch 58/101 - Validation Loss: 1.0536 - Validation Accuracy: 0.7925\n",
      "Epoch 59/101 - Train Loss: 0.2746 - Train Accuracy: 0.9047\n"
     ]
    },
    {
     "name": "stderr",
     "output_type": "stream",
     "text": [
      " 58%|█████▊    | 59/101 [06:58<04:57,  7.08s/it]"
     ]
    },
    {
     "name": "stdout",
     "output_type": "stream",
     "text": [
      "Epoch 59/101 - Validation Loss: 1.0736 - Validation Accuracy: 0.7925\n",
      "Epoch 60/101 - Train Loss: 0.2860 - Train Accuracy: 0.9039\n"
     ]
    },
    {
     "name": "stderr",
     "output_type": "stream",
     "text": [
      " 59%|█████▉    | 60/101 [07:05<04:50,  7.09s/it]"
     ]
    },
    {
     "name": "stdout",
     "output_type": "stream",
     "text": [
      "Epoch 60/101 - Validation Loss: 1.1416 - Validation Accuracy: 0.7908\n",
      "Epoch 61/101 - Train Loss: 0.2743 - Train Accuracy: 0.9141\n"
     ]
    },
    {
     "name": "stderr",
     "output_type": "stream",
     "text": [
      " 60%|██████    | 61/101 [07:12<04:43,  7.09s/it]"
     ]
    },
    {
     "name": "stdout",
     "output_type": "stream",
     "text": [
      "Epoch 61/101 - Validation Loss: 1.1168 - Validation Accuracy: 0.7721\n",
      "Epoch 62/101 - Train Loss: 0.2739 - Train Accuracy: 0.9124\n"
     ]
    },
    {
     "name": "stderr",
     "output_type": "stream",
     "text": [
      " 61%|██████▏   | 62/101 [07:19<04:36,  7.09s/it]"
     ]
    },
    {
     "name": "stdout",
     "output_type": "stream",
     "text": [
      "Epoch 62/101 - Validation Loss: 1.1734 - Validation Accuracy: 0.7670\n",
      "Epoch 63/101 - Train Loss: 0.2694 - Train Accuracy: 0.9047\n"
     ]
    },
    {
     "name": "stderr",
     "output_type": "stream",
     "text": [
      " 62%|██████▏   | 63/101 [07:26<04:29,  7.09s/it]"
     ]
    },
    {
     "name": "stdout",
     "output_type": "stream",
     "text": [
      "Epoch 63/101 - Validation Loss: 1.1750 - Validation Accuracy: 0.7857\n",
      "Epoch 64/101 - Train Loss: 0.2715 - Train Accuracy: 0.9137\n"
     ]
    },
    {
     "name": "stderr",
     "output_type": "stream",
     "text": [
      " 63%|██████▎   | 64/101 [07:34<04:22,  7.09s/it]"
     ]
    },
    {
     "name": "stdout",
     "output_type": "stream",
     "text": [
      "Epoch 64/101 - Validation Loss: 1.1876 - Validation Accuracy: 0.7874\n",
      "Epoch 65/101 - Train Loss: 0.2596 - Train Accuracy: 0.9081\n"
     ]
    },
    {
     "name": "stderr",
     "output_type": "stream",
     "text": [
      " 64%|██████▍   | 65/101 [07:41<04:14,  7.08s/it]"
     ]
    },
    {
     "name": "stdout",
     "output_type": "stream",
     "text": [
      "Epoch 65/101 - Validation Loss: 1.1226 - Validation Accuracy: 0.7806\n",
      "Epoch 66/101 - Train Loss: 0.2537 - Train Accuracy: 0.9183\n"
     ]
    },
    {
     "name": "stderr",
     "output_type": "stream",
     "text": [
      " 65%|██████▌   | 66/101 [07:48<04:07,  7.07s/it]"
     ]
    },
    {
     "name": "stdout",
     "output_type": "stream",
     "text": [
      "Epoch 66/101 - Validation Loss: 1.1908 - Validation Accuracy: 0.7908\n",
      "Epoch 67/101 - Train Loss: 0.2349 - Train Accuracy: 0.9166\n"
     ]
    },
    {
     "name": "stderr",
     "output_type": "stream",
     "text": [
      " 66%|██████▋   | 67/101 [07:55<04:00,  7.08s/it]"
     ]
    },
    {
     "name": "stdout",
     "output_type": "stream",
     "text": [
      "Epoch 67/101 - Validation Loss: 1.1660 - Validation Accuracy: 0.7772\n",
      "Epoch 68/101 - Train Loss: 0.2414 - Train Accuracy: 0.9196\n"
     ]
    },
    {
     "name": "stderr",
     "output_type": "stream",
     "text": [
      " 67%|██████▋   | 68/101 [08:02<03:53,  7.08s/it]"
     ]
    },
    {
     "name": "stdout",
     "output_type": "stream",
     "text": [
      "Epoch 68/101 - Validation Loss: 1.1539 - Validation Accuracy: 0.7721\n",
      "Epoch 69/101 - Train Loss: 0.2412 - Train Accuracy: 0.9188\n"
     ]
    },
    {
     "name": "stderr",
     "output_type": "stream",
     "text": [
      " 68%|██████▊   | 69/101 [08:09<03:46,  7.08s/it]"
     ]
    },
    {
     "name": "stdout",
     "output_type": "stream",
     "text": [
      "Epoch 69/101 - Validation Loss: 1.1861 - Validation Accuracy: 0.7806\n",
      "Epoch 70/101 - Train Loss: 0.2263 - Train Accuracy: 0.9234\n"
     ]
    },
    {
     "name": "stderr",
     "output_type": "stream",
     "text": [
      " 69%|██████▉   | 70/101 [08:16<03:38,  7.06s/it]"
     ]
    },
    {
     "name": "stdout",
     "output_type": "stream",
     "text": [
      "Epoch 70/101 - Validation Loss: 1.1465 - Validation Accuracy: 0.7619\n",
      "Epoch 71/101 - Train Loss: 0.2030 - Train Accuracy: 0.9290\n"
     ]
    },
    {
     "name": "stderr",
     "output_type": "stream",
     "text": [
      " 70%|███████   | 71/101 [08:23<03:32,  7.07s/it]"
     ]
    },
    {
     "name": "stdout",
     "output_type": "stream",
     "text": [
      "Epoch 71/101 - Validation Loss: 1.2135 - Validation Accuracy: 0.7857\n",
      "Epoch 72/101 - Train Loss: 0.2280 - Train Accuracy: 0.9247\n"
     ]
    },
    {
     "name": "stderr",
     "output_type": "stream",
     "text": [
      " 71%|███████▏  | 72/101 [08:30<03:25,  7.07s/it]"
     ]
    },
    {
     "name": "stdout",
     "output_type": "stream",
     "text": [
      "Epoch 72/101 - Validation Loss: 1.1582 - Validation Accuracy: 0.7721\n",
      "Epoch 73/101 - Train Loss: 0.2463 - Train Accuracy: 0.9145\n"
     ]
    },
    {
     "name": "stderr",
     "output_type": "stream",
     "text": [
      " 72%|███████▏  | 73/101 [08:37<03:18,  7.08s/it]"
     ]
    },
    {
     "name": "stdout",
     "output_type": "stream",
     "text": [
      "Epoch 73/101 - Validation Loss: 1.0477 - Validation Accuracy: 0.7942\n",
      "Epoch 74/101 - Train Loss: 0.2160 - Train Accuracy: 0.9302\n"
     ]
    },
    {
     "name": "stderr",
     "output_type": "stream",
     "text": [
      " 73%|███████▎  | 74/101 [08:44<03:11,  7.08s/it]"
     ]
    },
    {
     "name": "stdout",
     "output_type": "stream",
     "text": [
      "Epoch 74/101 - Validation Loss: 1.0308 - Validation Accuracy: 0.7619\n",
      "Epoch 75/101 - Train Loss: 0.2588 - Train Accuracy: 0.9120\n"
     ]
    },
    {
     "name": "stderr",
     "output_type": "stream",
     "text": [
      " 74%|███████▍  | 75/101 [08:51<03:04,  7.09s/it]"
     ]
    },
    {
     "name": "stdout",
     "output_type": "stream",
     "text": [
      "Epoch 75/101 - Validation Loss: 0.9712 - Validation Accuracy: 0.7755\n",
      "Epoch 76/101 - Train Loss: 0.1883 - Train Accuracy: 0.9422\n"
     ]
    },
    {
     "name": "stderr",
     "output_type": "stream",
     "text": [
      " 75%|███████▌  | 76/101 [08:58<02:57,  7.09s/it]"
     ]
    },
    {
     "name": "stdout",
     "output_type": "stream",
     "text": [
      "Epoch 76/101 - Validation Loss: 1.2007 - Validation Accuracy: 0.7891\n",
      "Epoch 77/101 - Train Loss: 0.1573 - Train Accuracy: 0.9473\n"
     ]
    },
    {
     "name": "stderr",
     "output_type": "stream",
     "text": [
      " 76%|███████▌  | 77/101 [09:06<02:50,  7.08s/it]"
     ]
    },
    {
     "name": "stdout",
     "output_type": "stream",
     "text": [
      "Epoch 77/101 - Validation Loss: 1.0205 - Validation Accuracy: 0.7908\n",
      "Epoch 78/101 - Train Loss: 0.1571 - Train Accuracy: 0.9456\n"
     ]
    },
    {
     "name": "stderr",
     "output_type": "stream",
     "text": [
      " 77%|███████▋  | 78/101 [09:13<02:42,  7.07s/it]"
     ]
    },
    {
     "name": "stdout",
     "output_type": "stream",
     "text": [
      "Epoch 78/101 - Validation Loss: 1.0812 - Validation Accuracy: 0.7755\n",
      "Epoch 79/101 - Train Loss: 0.1755 - Train Accuracy: 0.9379\n"
     ]
    },
    {
     "name": "stderr",
     "output_type": "stream",
     "text": [
      " 78%|███████▊  | 79/101 [09:20<02:35,  7.07s/it]"
     ]
    },
    {
     "name": "stdout",
     "output_type": "stream",
     "text": [
      "Epoch 79/101 - Validation Loss: 1.0608 - Validation Accuracy: 0.7823\n",
      "Epoch 80/101 - Train Loss: 0.1617 - Train Accuracy: 0.9413\n"
     ]
    },
    {
     "name": "stderr",
     "output_type": "stream",
     "text": [
      " 79%|███████▉  | 80/101 [09:27<02:28,  7.07s/it]"
     ]
    },
    {
     "name": "stdout",
     "output_type": "stream",
     "text": [
      "Epoch 80/101 - Validation Loss: 1.4378 - Validation Accuracy: 0.7721\n",
      "Epoch 81/101 - Train Loss: 0.2171 - Train Accuracy: 0.9285\n"
     ]
    },
    {
     "name": "stderr",
     "output_type": "stream",
     "text": [
      " 80%|████████  | 81/101 [09:34<02:21,  7.08s/it]"
     ]
    },
    {
     "name": "stdout",
     "output_type": "stream",
     "text": [
      "Epoch 81/101 - Validation Loss: 2.3116 - Validation Accuracy: 0.5374\n",
      "Epoch 82/101 - Train Loss: 0.7513 - Train Accuracy: 0.7550\n"
     ]
    },
    {
     "name": "stderr",
     "output_type": "stream",
     "text": [
      " 81%|████████  | 82/101 [09:41<02:14,  7.08s/it]"
     ]
    },
    {
     "name": "stdout",
     "output_type": "stream",
     "text": [
      "Epoch 82/101 - Validation Loss: 1.0362 - Validation Accuracy: 0.7296\n",
      "Epoch 83/101 - Train Loss: 0.5115 - Train Accuracy: 0.8231\n"
     ]
    },
    {
     "name": "stderr",
     "output_type": "stream",
     "text": [
      " 82%|████████▏ | 83/101 [09:48<02:07,  7.09s/it]"
     ]
    },
    {
     "name": "stdout",
     "output_type": "stream",
     "text": [
      "Epoch 83/101 - Validation Loss: 0.9931 - Validation Accuracy: 0.7347\n",
      "Epoch 84/101 - Train Loss: 0.4692 - Train Accuracy: 0.8320\n"
     ]
    },
    {
     "name": "stderr",
     "output_type": "stream",
     "text": [
      " 83%|████████▎ | 84/101 [09:55<02:00,  7.09s/it]"
     ]
    },
    {
     "name": "stdout",
     "output_type": "stream",
     "text": [
      "Epoch 84/101 - Validation Loss: 1.0012 - Validation Accuracy: 0.7313\n",
      "Epoch 85/101 - Train Loss: 0.4521 - Train Accuracy: 0.8499\n"
     ]
    },
    {
     "name": "stderr",
     "output_type": "stream",
     "text": [
      " 84%|████████▍ | 85/101 [10:02<01:53,  7.10s/it]"
     ]
    },
    {
     "name": "stdout",
     "output_type": "stream",
     "text": [
      "Epoch 85/101 - Validation Loss: 1.0342 - Validation Accuracy: 0.7534\n",
      "Epoch 86/101 - Train Loss: 0.4131 - Train Accuracy: 0.8558\n"
     ]
    },
    {
     "name": "stderr",
     "output_type": "stream",
     "text": [
      " 85%|████████▌ | 86/101 [10:09<01:46,  7.11s/it]"
     ]
    },
    {
     "name": "stdout",
     "output_type": "stream",
     "text": [
      "Epoch 86/101 - Validation Loss: 1.2032 - Validation Accuracy: 0.7585\n",
      "Epoch 87/101 - Train Loss: 0.4190 - Train Accuracy: 0.8464\n"
     ]
    },
    {
     "name": "stderr",
     "output_type": "stream",
     "text": [
      " 86%|████████▌ | 87/101 [10:17<01:39,  7.13s/it]"
     ]
    },
    {
     "name": "stdout",
     "output_type": "stream",
     "text": [
      "Epoch 87/101 - Validation Loss: 1.1917 - Validation Accuracy: 0.7500\n",
      "Epoch 88/101 - Train Loss: 0.4513 - Train Accuracy: 0.8388\n"
     ]
    },
    {
     "name": "stderr",
     "output_type": "stream",
     "text": [
      " 87%|████████▋ | 88/101 [10:24<01:32,  7.13s/it]"
     ]
    },
    {
     "name": "stdout",
     "output_type": "stream",
     "text": [
      "Epoch 88/101 - Validation Loss: 1.1796 - Validation Accuracy: 0.7568\n",
      "Epoch 89/101 - Train Loss: 0.4107 - Train Accuracy: 0.8579\n"
     ]
    },
    {
     "name": "stderr",
     "output_type": "stream",
     "text": [
      " 88%|████████▊ | 89/101 [10:31<01:25,  7.15s/it]"
     ]
    },
    {
     "name": "stdout",
     "output_type": "stream",
     "text": [
      "Epoch 89/101 - Validation Loss: 1.1305 - Validation Accuracy: 0.7687\n",
      "Epoch 90/101 - Train Loss: 0.3698 - Train Accuracy: 0.8728\n"
     ]
    },
    {
     "name": "stderr",
     "output_type": "stream",
     "text": [
      " 89%|████████▉ | 90/101 [10:38<01:18,  7.16s/it]"
     ]
    },
    {
     "name": "stdout",
     "output_type": "stream",
     "text": [
      "Epoch 90/101 - Validation Loss: 1.1375 - Validation Accuracy: 0.7806\n",
      "Epoch 91/101 - Train Loss: 0.3583 - Train Accuracy: 0.8758\n"
     ]
    },
    {
     "name": "stderr",
     "output_type": "stream",
     "text": [
      " 90%|█████████ | 91/101 [10:45<01:11,  7.16s/it]"
     ]
    },
    {
     "name": "stdout",
     "output_type": "stream",
     "text": [
      "Epoch 91/101 - Validation Loss: 1.0661 - Validation Accuracy: 0.7738\n",
      "Epoch 92/101 - Train Loss: 0.3410 - Train Accuracy: 0.8796\n"
     ]
    },
    {
     "name": "stderr",
     "output_type": "stream",
     "text": [
      " 91%|█████████ | 92/101 [10:52<01:04,  7.16s/it]"
     ]
    },
    {
     "name": "stdout",
     "output_type": "stream",
     "text": [
      "Epoch 92/101 - Validation Loss: 1.1241 - Validation Accuracy: 0.7721\n",
      "Epoch 93/101 - Train Loss: 0.3556 - Train Accuracy: 0.8754\n"
     ]
    },
    {
     "name": "stderr",
     "output_type": "stream",
     "text": [
      " 92%|█████████▏| 93/101 [11:00<00:57,  7.16s/it]"
     ]
    },
    {
     "name": "stdout",
     "output_type": "stream",
     "text": [
      "Epoch 93/101 - Validation Loss: 1.0632 - Validation Accuracy: 0.7653\n",
      "Epoch 94/101 - Train Loss: 0.3255 - Train Accuracy: 0.8937\n"
     ]
    },
    {
     "name": "stderr",
     "output_type": "stream",
     "text": [
      " 93%|█████████▎| 94/101 [11:07<00:50,  7.16s/it]"
     ]
    },
    {
     "name": "stdout",
     "output_type": "stream",
     "text": [
      "Epoch 94/101 - Validation Loss: 1.0329 - Validation Accuracy: 0.7772\n",
      "Epoch 95/101 - Train Loss: 0.5769 - Train Accuracy: 0.8026\n"
     ]
    },
    {
     "name": "stderr",
     "output_type": "stream",
     "text": [
      " 94%|█████████▍| 95/101 [11:14<00:42,  7.15s/it]"
     ]
    },
    {
     "name": "stdout",
     "output_type": "stream",
     "text": [
      "Epoch 95/101 - Validation Loss: 1.1150 - Validation Accuracy: 0.7279\n",
      "Epoch 96/101 - Train Loss: 0.4028 - Train Accuracy: 0.8550\n"
     ]
    },
    {
     "name": "stderr",
     "output_type": "stream",
     "text": [
      " 95%|█████████▌| 96/101 [11:21<00:35,  7.15s/it]"
     ]
    },
    {
     "name": "stdout",
     "output_type": "stream",
     "text": [
      "Epoch 96/101 - Validation Loss: 1.0584 - Validation Accuracy: 0.7381\n",
      "Epoch 97/101 - Train Loss: 0.3695 - Train Accuracy: 0.8711\n"
     ]
    },
    {
     "name": "stderr",
     "output_type": "stream",
     "text": [
      " 96%|█████████▌| 97/101 [11:28<00:28,  7.16s/it]"
     ]
    },
    {
     "name": "stdout",
     "output_type": "stream",
     "text": [
      "Epoch 97/101 - Validation Loss: 1.0282 - Validation Accuracy: 0.7432\n",
      "Epoch 98/101 - Train Loss: 0.3650 - Train Accuracy: 0.8715\n"
     ]
    },
    {
     "name": "stderr",
     "output_type": "stream",
     "text": [
      " 97%|█████████▋| 98/101 [11:35<00:21,  7.16s/it]"
     ]
    },
    {
     "name": "stdout",
     "output_type": "stream",
     "text": [
      "Epoch 98/101 - Validation Loss: 0.9873 - Validation Accuracy: 0.7619\n",
      "Epoch 99/101 - Train Loss: 0.3489 - Train Accuracy: 0.8801\n"
     ]
    },
    {
     "name": "stderr",
     "output_type": "stream",
     "text": [
      " 98%|█████████▊| 99/101 [11:42<00:14,  7.16s/it]"
     ]
    },
    {
     "name": "stdout",
     "output_type": "stream",
     "text": [
      "Epoch 99/101 - Validation Loss: 1.1236 - Validation Accuracy: 0.7143\n",
      "Epoch 100/101 - Train Loss: 0.2901 - Train Accuracy: 0.9009\n"
     ]
    },
    {
     "name": "stderr",
     "output_type": "stream",
     "text": [
      " 99%|█████████▉| 100/101 [11:50<00:07,  7.16s/it]"
     ]
    },
    {
     "name": "stdout",
     "output_type": "stream",
     "text": [
      "Epoch 100/101 - Validation Loss: 1.0232 - Validation Accuracy: 0.7687\n",
      "Epoch 101/101 - Train Loss: 0.2816 - Train Accuracy: 0.9034\n"
     ]
    },
    {
     "name": "stderr",
     "output_type": "stream",
     "text": [
      "100%|██████████| 101/101 [11:57<00:00,  7.10s/it]"
     ]
    },
    {
     "name": "stdout",
     "output_type": "stream",
     "text": [
      "Epoch 101/101 - Validation Loss: 1.0359 - Validation Accuracy: 0.7687\n",
      "Best accuracy: 0.8027210884353742\n"
     ]
    },
    {
     "name": "stderr",
     "output_type": "stream",
     "text": [
      "\n"
     ]
    }
   ],
   "source": [
    "best_validation_loss = float('inf')\n",
    "best_validation_accuracy = 0.0\n",
    "early_stop_num = 0\n",
    "early_stop_threshold = 5\n",
    "train_loss = []\n",
    "train_accuracy = []\n",
    "validation_loss = []\n",
    "validation_accuracy = []\n",
    "\n",
    "for epoch in tqdm(range(EPOCHS)):\n",
    "    model.train()\n",
    "    total_loss = 0.0\n",
    "    correct = 0\n",
    "    total = 0\n",
    "    \n",
    "    for sequences, labels in train_loader:\n",
    "        sequences = sequences.to(device)\n",
    "        labels = labels.to(device)\n",
    "        \n",
    "        optimizer.zero_grad()\n",
    "        \n",
    "        outputs = model(sequences)\n",
    "        loss = criterion(outputs, labels)\n",
    "        \n",
    "        loss.backward()\n",
    "        optimizer.step()\n",
    "        \n",
    "        total_loss += loss.item()\n",
    "\n",
    "        outputs = outputs.cpu()\n",
    "        labels = labels.cpu()\n",
    "\n",
    "        _, predicted = torch.max(outputs, 1)\n",
    "        total += labels.size(0)\n",
    "        correct += (predicted == labels).sum().item()\n",
    "    \n",
    "    train_accuracy.append(correct / total)\n",
    "    train_loss.append(total_loss / len(train_loader))\n",
    "\n",
    "    print(f'Epoch {epoch + 1}/{EPOCHS} - Train Loss: {train_loss[-1]:.4f} - Train Accuracy: {train_accuracy[-1]:.4f}')\n",
    "\n",
    "    model.eval()\n",
    "    validation_loss_epoch = 0.0\n",
    "    correct = 0\n",
    "    total = 0\n",
    "\n",
    "    with torch.no_grad():\n",
    "        for sequences, labels in validation_loader:\n",
    "            sequences = sequences.to(device)\n",
    "            labels = labels.to(device)\n",
    "\n",
    "            outputs = model(sequences)\n",
    "            loss = criterion(outputs, labels)\n",
    "\n",
    "            validation_loss_epoch += loss.item()\n",
    "\n",
    "            outputs = outputs.cpu()\n",
    "            labels = labels.cpu()\n",
    "\n",
    "            _, predicted = torch.max(outputs, 1)\n",
    "            total += labels.size(0)\n",
    "            correct += (predicted == labels).sum().item()\n",
    "\n",
    "    validation_accuracy_epoch = correct / total\n",
    "    validation_accuracy.append(validation_accuracy_epoch)\n",
    "    validation_loss.append(validation_loss_epoch / len(validation_loader))\n",
    "    average_validation_loss = validation_loss_epoch / len(validation_loader)\n",
    "\n",
    "    print(f'Epoch {epoch + 1}/{EPOCHS} - Validation Loss: {average_validation_loss:.4f} - Validation Accuracy: {validation_accuracy_epoch:.4f}')\n",
    "    \n",
    "    if validation_accuracy_epoch > best_validation_accuracy:\n",
    "        best_validation_accuracy = validation_accuracy_epoch\n",
    "        torch.save(model.state_dict(), f'{MODEL_PATH}/best.pth')\n",
    "    \n",
    "print('Best accuracy:', best_validation_accuracy)"
   ]
  },
  {
   "cell_type": "code",
   "execution_count": 10,
   "metadata": {},
   "outputs": [],
   "source": [
    "model.load_state_dict(torch.load(f'{MODEL_PATH}/best.pth'))\n",
    "\n",
    "predictions = []\n",
    "\n",
    "with torch.no_grad():\n",
    "    model.eval()\n",
    "    \n",
    "    for seq, labels in test_loader:\n",
    "        seq = seq.to(device)\n",
    "        outputs = model(seq)\n",
    "        outputs = outputs.cpu()\n",
    "        _, predicted = torch.max(outputs, 1)\n",
    "        predictions.extend(predicted.cpu().numpy())\n",
    "\n",
    "df = pd.DataFrame(predictions)\n",
    "df.to_csv('poniedzialek_kieruczenko_ziarek.csv', header=False, index=False)"
   ]
  },
  {
   "cell_type": "code",
   "execution_count": 12,
   "metadata": {},
   "outputs": [],
   "source": [
    "epochs = range(1, EPOCHS + 1)"
   ]
  },
  {
   "cell_type": "code",
   "execution_count": 13,
   "metadata": {},
   "outputs": [
    {
     "data": {
      "image/png": "[encoded data removed]",
      "text/plain": [
       "<Figure size 1000x500 with 1 Axes>"
      ]
     },
     "metadata": {},
     "output_type": "display_data"
    }
   ],
   "source": [
    "plt.figure(figsize=(10, 5))\n",
    "plt.plot(epochs, train_loss, label='Training Loss')\n",
    "plt.plot(epochs, validation_loss, label='Validation Loss')\n",
    "plt.xlabel('Epochs')\n",
    "plt.ylabel('Loss')\n",
    "plt.title('Training and Validation Loss')\n",
    "plt.legend()\n",
    "plt.show()"
   ]
  },
  {
   "cell_type": "code",
   "execution_count": 14,
   "metadata": {},
   "outputs": [
    {
     "data": {
      "image/png": "[encoded data removed]",
      "text/plain": [
       "<Figure size 1000x500 with 1 Axes>"
      ]
     },
     "metadata": {},
     "output_type": "display_data"
    }
   ],
   "source": [
    "plt.figure(figsize=(10, 5))\n",
    "plt.plot(epochs, train_accuracy, label='Training Accuracy')\n",
    "plt.plot(epochs, validation_accuracy, label='Validation Accuracy')\n",
    "plt.xlabel('Epochs')\n",
    "plt.ylabel('Accuracy')\n",
    "plt.title('Training and Validation Accuracy')\n",
    "plt.legend()\n",
    "plt.show()"
   ]
  }
 ],
 "metadata": {
  "kernelspec": {
   "display_name": "Python 3",
   "language": "python",
   "name": "python3"
  },
  "language_info": {
   "codemirror_mode": {
    "name": "ipython",
    "version": 3
   },
   "file_extension": ".py",
   "mimetype": "text/x-python",
   "name": "python",
   "nbconvert_exporter": "python",
   "pygments_lexer": "ipython3",
   "version": "3.10.12"
  }
 },
 "nbformat": 4,
 "nbformat_minor": 2
}
